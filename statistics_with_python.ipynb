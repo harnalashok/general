{
  "nbformat": 4,
  "nbformat_minor": 0,
  "metadata": {
    "colab": {
      "provenance": [],
      "authorship_tag": "ABX9TyMaqWL8+0lWwyEKfCQrNFiJ",
      "include_colab_link": true
    },
    "kernelspec": {
      "name": "python3",
      "display_name": "Python 3"
    },
    "language_info": {
      "name": "python"
    }
  },
  "cells": [
    {
      "cell_type": "markdown",
      "metadata": {
        "id": "view-in-github",
        "colab_type": "text"
      },
      "source": [
        "<a href=\"https://colab.research.google.com/github/harnalashok/general/blob/master/statistics_with_python.ipynb\" target=\"_parent\"><img src=\"https://colab.research.google.com/assets/colab-badge.svg\" alt=\"Open In Colab\"/></a>"
      ]
    },
    {
      "cell_type": "code",
      "execution_count": null,
      "metadata": {
        "id": "6_U9dqGOmi9m"
      },
      "outputs": [],
      "source": [
        "# LAst amended: 19th June, 2024"
      ]
    },
    {
      "cell_type": "markdown",
      "source": [
        "## References:\n",
        "1. [Learn pandas](https://www.kaggle.com/learn/pandas)      \n",
        "2. [Numpy Quickstart](https://numpy.org/doc/stable/user/quickstart.html)     \n",
        "3. [Numpy Statistics](https://numpy.org/doc/stable/reference/routines.statistics.html)      \n",
        "4. [Scipy tutorial](https://xiaoganghe.github.io/python-climate-visuals/chapters/data-analytics/scipy-basic.html)     \n",
        "5. [scipy stats](https://www.geeksforgeeks.org/scipy-stats/)     \n",
        "6. [Python Statistics](https://realpython.com/python-statistics/)      \n",
        "\n",
        "++++++++++++++++++++\n",
        "Useful Datasets:\n",
        "++++++++++++++++++++\n",
        "1. [Wine Quality](https://www.kaggle.com/datasets/rajyellow46/wine-quality/data)      \n",
        "2. [House Prices data](https://www.kaggle.com/c/house-prices-advanced-regression-techniques/data)     \n",
        "3. [Student Performance Dataset](https://www.kaggle.com/datasets/nikhil7280/student-performance-multiple-linear-regression)      \n",
        "\n",
        "\n"
      ],
      "metadata": {
        "id": "_kNXjr3wod_I"
      }
    },
    {
      "cell_type": "code",
      "source": [],
      "metadata": {
        "id": "U8UWMT2GotM5"
      },
      "execution_count": null,
      "outputs": []
    }
  ]
}