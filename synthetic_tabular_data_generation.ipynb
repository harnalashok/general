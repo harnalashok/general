{
  "nbformat": 4,
  "nbformat_minor": 5,
  "metadata": {
    "kernelspec": {
      "display_name": "Python 3",
      "language": "python",
      "name": "python3"
    },
    "language_info": {
      "codemirror_mode": {
        "name": "ipython",
        "version": 3
      },
      "file_extension": ".py",
      "mimetype": "text/x-python",
      "name": "python",
      "nbconvert_exporter": "python",
      "pygments_lexer": "ipython3",
      "version": "3.7.10"
    },
    "colab": {
      "name": "synthetic_tabular_data_generation.ipynb",
      "provenance": [],
      "collapsed_sections": [],
      "include_colab_link": true
    }
  },
  "cells": [
    {
      "cell_type": "markdown",
      "metadata": {
        "id": "view-in-github",
        "colab_type": "text"
      },
      "source": [
        "<a href=\"https://colab.research.google.com/github/harnalashok/general/blob/master/synthetic_tabular_data_generation.ipynb\" target=\"_parent\"><img src=\"https://colab.research.google.com/assets/colab-badge.svg\" alt=\"Open In Colab\"/></a>"
      ]
    },
    {
      "cell_type": "code",
      "metadata": {
        "id": "fea92ee1"
      },
      "source": [
        "# Last amended: 2nd July, 2021\n",
        "# Myfolder: lubuntu_healthcare VM\n",
        "# Ref: https://sdv.dev/\n",
        "#      https://github.com/sdv-dev/CTGAN\n",
        "#\n",
        "# Objective: Generate Synthetic data using CTGAN\n"
      ],
      "id": "fea92ee1",
      "execution_count": null,
      "outputs": []
    },
    {
      "cell_type": "markdown",
      "metadata": {
        "id": "7OoDv_0ol99A"
      },
      "source": [
        "We generate 1lakh synthetic samples of that from big data mart. <br>My OneDrive folder: D:\\data\\OneDrive\\Documents\\big_mart_sales_problem"
      ],
      "id": "7OoDv_0ol99A"
    },
    {
      "cell_type": "markdown",
      "metadata": {
        "id": "HR050ly3dP9O"
      },
      "source": [
        "## Install CTGAN Synthetic Data Generator"
      ],
      "id": "HR050ly3dP9O"
    },
    {
      "cell_type": "code",
      "metadata": {
        "id": "aSKaTdVQdFPn"
      },
      "source": [
        "# Refer\n",
        "!pip install ctgan"
      ],
      "id": "aSKaTdVQdFPn",
      "execution_count": null,
      "outputs": []
    },
    {
      "cell_type": "markdown",
      "metadata": {
        "id": "7fee99dd"
      },
      "source": [
        "## Call libraries"
      ],
      "id": "7fee99dd"
    },
    {
      "cell_type": "code",
      "metadata": {
        "id": "e1d4e2b2"
      },
      "source": [
        "from ctgan import CTGANSynthesizer"
      ],
      "id": "e1d4e2b2",
      "execution_count": 3,
      "outputs": []
    },
    {
      "cell_type": "code",
      "metadata": {
        "id": "25d8b72b"
      },
      "source": [
        "import numpy as np\n",
        "import pandas as pd\n",
        "import os\n",
        "import time"
      ],
      "id": "25d8b72b",
      "execution_count": 4,
      "outputs": []
    },
    {
      "cell_type": "code",
      "metadata": {
        "id": "7865c36a"
      },
      "source": [
        "from IPython.core.interactiveshell import InteractiveShell\n",
        "InteractiveShell.ast_node_interactivity = \"all\""
      ],
      "id": "7865c36a",
      "execution_count": 5,
      "outputs": []
    },
    {
      "cell_type": "markdown",
      "metadata": {
        "id": "43fc5ac3"
      },
      "source": [
        "## Read data"
      ],
      "id": "43fc5ac3"
    },
    {
      "cell_type": "code",
      "metadata": {
        "id": "IQFmiLaBdnZw"
      },
      "source": [
        "from google.colab import drive\n",
        "drive.mount('/content/drive')"
      ],
      "id": "IQFmiLaBdnZw",
      "execution_count": null,
      "outputs": []
    },
    {
      "cell_type": "code",
      "metadata": {
        "id": "2a8ff771"
      },
      "source": [
        "path = \"/content/drive/MyDrive/Colab_data_files/big_data_mart\"\n",
        "os.chdir(path)"
      ],
      "id": "2a8ff771",
      "execution_count": 6,
      "outputs": []
    },
    {
      "cell_type": "code",
      "metadata": {
        "colab": {
          "base_uri": "https://localhost:8080/",
          "height": 311
        },
        "id": "569f33ff",
        "outputId": "ddd87855-33f0-46e7-ede9-d82456d1009f"
      },
      "source": [
        "df = pd.read_csv(\"bigdatamart.csv\")\n",
        "df.head()"
      ],
      "id": "569f33ff",
      "execution_count": 57,
      "outputs": [
        {
          "output_type": "execute_result",
          "data": {
            "text/html": [
              "<div>\n",
              "<style scoped>\n",
              "    .dataframe tbody tr th:only-of-type {\n",
              "        vertical-align: middle;\n",
              "    }\n",
              "\n",
              "    .dataframe tbody tr th {\n",
              "        vertical-align: top;\n",
              "    }\n",
              "\n",
              "    .dataframe thead th {\n",
              "        text-align: right;\n",
              "    }\n",
              "</style>\n",
              "<table border=\"1\" class=\"dataframe\">\n",
              "  <thead>\n",
              "    <tr style=\"text-align: right;\">\n",
              "      <th></th>\n",
              "      <th>Item_Identifier</th>\n",
              "      <th>Item_Weight</th>\n",
              "      <th>Item_Fat_Content</th>\n",
              "      <th>Item_Visibility</th>\n",
              "      <th>Item_Type</th>\n",
              "      <th>Item_MRP</th>\n",
              "      <th>Outlet_Identifier</th>\n",
              "      <th>Outlet_Establishment_Year</th>\n",
              "      <th>Outlet_Size</th>\n",
              "      <th>Outlet_Location_Type</th>\n",
              "      <th>Outlet_Type</th>\n",
              "      <th>Item_Outlet_Sales</th>\n",
              "    </tr>\n",
              "  </thead>\n",
              "  <tbody>\n",
              "    <tr>\n",
              "      <th>0</th>\n",
              "      <td>FDA15</td>\n",
              "      <td>9.30</td>\n",
              "      <td>Low Fat</td>\n",
              "      <td>0.016047</td>\n",
              "      <td>Dairy</td>\n",
              "      <td>249.8092</td>\n",
              "      <td>OUT049</td>\n",
              "      <td>1999</td>\n",
              "      <td>Medium</td>\n",
              "      <td>Tier 1</td>\n",
              "      <td>Supermarket Type1</td>\n",
              "      <td>3735.1380</td>\n",
              "    </tr>\n",
              "    <tr>\n",
              "      <th>1</th>\n",
              "      <td>DRC01</td>\n",
              "      <td>5.92</td>\n",
              "      <td>Regular</td>\n",
              "      <td>0.019278</td>\n",
              "      <td>Soft Drinks</td>\n",
              "      <td>48.2692</td>\n",
              "      <td>OUT018</td>\n",
              "      <td>2009</td>\n",
              "      <td>Medium</td>\n",
              "      <td>Tier 3</td>\n",
              "      <td>Supermarket Type2</td>\n",
              "      <td>443.4228</td>\n",
              "    </tr>\n",
              "    <tr>\n",
              "      <th>2</th>\n",
              "      <td>FDN15</td>\n",
              "      <td>17.50</td>\n",
              "      <td>Low Fat</td>\n",
              "      <td>0.016760</td>\n",
              "      <td>Meat</td>\n",
              "      <td>141.6180</td>\n",
              "      <td>OUT049</td>\n",
              "      <td>1999</td>\n",
              "      <td>Medium</td>\n",
              "      <td>Tier 1</td>\n",
              "      <td>Supermarket Type1</td>\n",
              "      <td>2097.2700</td>\n",
              "    </tr>\n",
              "    <tr>\n",
              "      <th>3</th>\n",
              "      <td>FDX07</td>\n",
              "      <td>19.20</td>\n",
              "      <td>Regular</td>\n",
              "      <td>0.000000</td>\n",
              "      <td>Fruits and Vegetables</td>\n",
              "      <td>182.0950</td>\n",
              "      <td>OUT010</td>\n",
              "      <td>1998</td>\n",
              "      <td>NaN</td>\n",
              "      <td>Tier 3</td>\n",
              "      <td>Grocery Store</td>\n",
              "      <td>732.3800</td>\n",
              "    </tr>\n",
              "    <tr>\n",
              "      <th>4</th>\n",
              "      <td>NCD19</td>\n",
              "      <td>8.93</td>\n",
              "      <td>Low Fat</td>\n",
              "      <td>0.000000</td>\n",
              "      <td>Household</td>\n",
              "      <td>53.8614</td>\n",
              "      <td>OUT013</td>\n",
              "      <td>1987</td>\n",
              "      <td>High</td>\n",
              "      <td>Tier 3</td>\n",
              "      <td>Supermarket Type1</td>\n",
              "      <td>994.7052</td>\n",
              "    </tr>\n",
              "  </tbody>\n",
              "</table>\n",
              "</div>"
            ],
            "text/plain": [
              "  Item_Identifier  Item_Weight  ...        Outlet_Type  Item_Outlet_Sales\n",
              "0           FDA15         9.30  ...  Supermarket Type1          3735.1380\n",
              "1           DRC01         5.92  ...  Supermarket Type2           443.4228\n",
              "2           FDN15        17.50  ...  Supermarket Type1          2097.2700\n",
              "3           FDX07        19.20  ...      Grocery Store           732.3800\n",
              "4           NCD19         8.93  ...  Supermarket Type1           994.7052\n",
              "\n",
              "[5 rows x 12 columns]"
            ]
          },
          "metadata": {
            "tags": []
          },
          "execution_count": 57
        }
      ]
    },
    {
      "cell_type": "markdown",
      "metadata": {
        "id": "7938aabc"
      },
      "source": [
        "### Nulls must be filled in"
      ],
      "id": "7938aabc"
    },
    {
      "cell_type": "code",
      "metadata": {
        "colab": {
          "base_uri": "https://localhost:8080/"
        },
        "id": "365031db",
        "outputId": "2602b1fc-e55d-4ad5-dfae-abf6cf9a5e3d"
      },
      "source": [
        "# Check nulls in features\n",
        "df.isnull().sum()"
      ],
      "id": "365031db",
      "execution_count": 58,
      "outputs": [
        {
          "output_type": "execute_result",
          "data": {
            "text/plain": [
              "Item_Identifier                 0\n",
              "Item_Weight                  1463\n",
              "Item_Fat_Content                0\n",
              "Item_Visibility                 0\n",
              "Item_Type                       0\n",
              "Item_MRP                        0\n",
              "Outlet_Identifier               0\n",
              "Outlet_Establishment_Year       0\n",
              "Outlet_Size                  2410\n",
              "Outlet_Location_Type            0\n",
              "Outlet_Type                     0\n",
              "Item_Outlet_Sales               0\n",
              "dtype: int64"
            ]
          },
          "metadata": {
            "tags": []
          },
          "execution_count": 58
        }
      ]
    },
    {
      "cell_type": "code",
      "metadata": {
        "colab": {
          "base_uri": "https://localhost:8080/"
        },
        "id": "d4ac0c27",
        "outputId": "ee7e3997-b4db-4980-b528-1224f736bea4"
      },
      "source": [
        "# Begin filling up\n",
        "df['Outlet_Size'].value_counts()"
      ],
      "id": "d4ac0c27",
      "execution_count": 59,
      "outputs": [
        {
          "output_type": "execute_result",
          "data": {
            "text/plain": [
              "Medium    2793\n",
              "Small     2388\n",
              "High       932\n",
              "Name: Outlet_Size, dtype: int64"
            ]
          },
          "metadata": {
            "tags": []
          },
          "execution_count": 59
        }
      ]
    },
    {
      "cell_type": "code",
      "metadata": {
        "id": "4a5c7c0f"
      },
      "source": [
        "df['Outlet_Size']= df['Outlet_Size'].fillna(value = 'Medium')"
      ],
      "id": "4a5c7c0f",
      "execution_count": 60,
      "outputs": []
    },
    {
      "cell_type": "code",
      "metadata": {
        "colab": {
          "base_uri": "https://localhost:8080/"
        },
        "id": "a79f505b",
        "outputId": "8e61648d-fa9c-4c31-dcce-5f0b34bcd13b"
      },
      "source": [
        "df['Item_Weight'].median()"
      ],
      "id": "a79f505b",
      "execution_count": 61,
      "outputs": [
        {
          "output_type": "execute_result",
          "data": {
            "text/plain": [
              "12.6"
            ]
          },
          "metadata": {
            "tags": []
          },
          "execution_count": 61
        }
      ]
    },
    {
      "cell_type": "code",
      "metadata": {
        "id": "8230f079"
      },
      "source": [
        "df['Item_Weight'] = df['Item_Weight'].fillna(value = 12.6)"
      ],
      "id": "8230f079",
      "execution_count": 62,
      "outputs": []
    },
    {
      "cell_type": "code",
      "metadata": {
        "colab": {
          "base_uri": "https://localhost:8080/"
        },
        "id": "5f636c06",
        "outputId": "d95ac4e9-1e75-415c-9c3a-4e40abed2abe"
      },
      "source": [
        "# Check again\n",
        "df.isnull().sum()"
      ],
      "id": "5f636c06",
      "execution_count": 63,
      "outputs": [
        {
          "output_type": "execute_result",
          "data": {
            "text/plain": [
              "Item_Identifier              0\n",
              "Item_Weight                  0\n",
              "Item_Fat_Content             0\n",
              "Item_Visibility              0\n",
              "Item_Type                    0\n",
              "Item_MRP                     0\n",
              "Outlet_Identifier            0\n",
              "Outlet_Establishment_Year    0\n",
              "Outlet_Size                  0\n",
              "Outlet_Location_Type         0\n",
              "Outlet_Type                  0\n",
              "Item_Outlet_Sales            0\n",
              "dtype: int64"
            ]
          },
          "metadata": {
            "tags": []
          },
          "execution_count": 63
        }
      ]
    },
    {
      "cell_type": "markdown",
      "metadata": {
        "id": "bdba25c3"
      },
      "source": [
        "## Process for data generation"
      ],
      "id": "bdba25c3"
    },
    {
      "cell_type": "code",
      "metadata": {
        "colab": {
          "base_uri": "https://localhost:8080/"
        },
        "id": "0a34689b",
        "outputId": "93c59f22-07b9-4dd2-d0d2-313febafd611"
      },
      "source": [
        "print(list(df.columns))"
      ],
      "id": "0a34689b",
      "execution_count": 13,
      "outputs": [
        {
          "output_type": "stream",
          "text": [
            "['Item_Identifier', 'Item_Weight', 'Item_Fat_Content', 'Item_Visibility', 'Item_Type', 'Item_MRP', 'Outlet_Identifier', 'Outlet_Establishment_Year', 'Outlet_Size', 'Outlet_Location_Type', 'Outlet_Type', 'Item_Outlet_Sales']\n"
          ],
          "name": "stdout"
        }
      ]
    },
    {
      "cell_type": "code",
      "metadata": {
        "id": "e2154a7f"
      },
      "source": [
        "# Discrete columns\n",
        "discrete_columns =['Item_Identifier','Item_Fat_Content','Item_Type', 'Outlet_Identifier', 'Outlet_Establishment_Year', 'Outlet_Size', 'Outlet_Location_Type', 'Outlet_Type']\n",
        "cont = ['Item_Weight','Item_Visibility','Item_MRP', 'Item_Outlet_Sales']\n",
        "\n",
        "# Match totals\n",
        "len(discrete_columns)\n",
        "len(cont)\n",
        "len(df.columns)\n"
      ],
      "id": "e2154a7f",
      "execution_count": null,
      "outputs": []
    },
    {
      "cell_type": "markdown",
      "metadata": {
        "id": "669908ea"
      },
      "source": [
        "### Start generating"
      ],
      "id": "669908ea"
    },
    {
      "cell_type": "code",
      "metadata": {
        "id": "4c6e9b17"
      },
      "source": [
        "# Learn train data\n",
        "# Takes time\n",
        "# Some warning messages come. But do not worry\n",
        "start = time.time()\n",
        "ctgan = CTGANSynthesizer(epochs=10)\n",
        "ctgan.fit(df, discrete_columns)\n",
        "end = time.time()\n",
        "(end-start)/60"
      ],
      "id": "4c6e9b17",
      "execution_count": null,
      "outputs": []
    },
    {
      "cell_type": "code",
      "metadata": {
        "id": "e238fa7e"
      },
      "source": [
        "# Get Synthetic data now\n",
        "datasize = 100000   # Large datasize would require lots of RAM\n",
        "                    # Be warned, session may crash\n",
        "                     # So generate in steps and then stack\n",
        "syn_samples = ctgan.sample(datasize)"
      ],
      "id": "e238fa7e",
      "execution_count": 16,
      "outputs": []
    },
    {
      "cell_type": "code",
      "metadata": {
        "colab": {
          "base_uri": "https://localhost:8080/",
          "height": 311
        },
        "id": "48d2fa63",
        "outputId": "58740901-80e0-452f-ed0f-737cb31ade35"
      },
      "source": [
        "# Look at the data\n",
        "syn_samples.head()"
      ],
      "id": "48d2fa63",
      "execution_count": 64,
      "outputs": [
        {
          "output_type": "execute_result",
          "data": {
            "text/html": [
              "<div>\n",
              "<style scoped>\n",
              "    .dataframe tbody tr th:only-of-type {\n",
              "        vertical-align: middle;\n",
              "    }\n",
              "\n",
              "    .dataframe tbody tr th {\n",
              "        vertical-align: top;\n",
              "    }\n",
              "\n",
              "    .dataframe thead th {\n",
              "        text-align: right;\n",
              "    }\n",
              "</style>\n",
              "<table border=\"1\" class=\"dataframe\">\n",
              "  <thead>\n",
              "    <tr style=\"text-align: right;\">\n",
              "      <th></th>\n",
              "      <th>Item_Identifier</th>\n",
              "      <th>Item_Weight</th>\n",
              "      <th>Item_Fat_Content</th>\n",
              "      <th>Item_Visibility</th>\n",
              "      <th>Item_Type</th>\n",
              "      <th>Item_MRP</th>\n",
              "      <th>Outlet_Identifier</th>\n",
              "      <th>Outlet_Establishment_Year</th>\n",
              "      <th>Outlet_Size</th>\n",
              "      <th>Outlet_Location_Type</th>\n",
              "      <th>Outlet_Type</th>\n",
              "      <th>Item_Outlet_Sales</th>\n",
              "    </tr>\n",
              "  </thead>\n",
              "  <tbody>\n",
              "    <tr>\n",
              "      <th>0</th>\n",
              "      <td>FDC58</td>\n",
              "      <td>12.525694</td>\n",
              "      <td>Low Fat</td>\n",
              "      <td>0.011243</td>\n",
              "      <td>Snack Foods</td>\n",
              "      <td>133.480840</td>\n",
              "      <td>OUT018</td>\n",
              "      <td>1987</td>\n",
              "      <td>Small</td>\n",
              "      <td>Tier 1</td>\n",
              "      <td>Supermarket Type1</td>\n",
              "      <td>590.026066</td>\n",
              "    </tr>\n",
              "    <tr>\n",
              "      <th>1</th>\n",
              "      <td>FDW45</td>\n",
              "      <td>12.248238</td>\n",
              "      <td>Regular</td>\n",
              "      <td>0.127689</td>\n",
              "      <td>Meat</td>\n",
              "      <td>121.505663</td>\n",
              "      <td>OUT017</td>\n",
              "      <td>1999</td>\n",
              "      <td>abc</td>\n",
              "      <td>Tier 3</td>\n",
              "      <td>Grocery Store</td>\n",
              "      <td>252.646534</td>\n",
              "    </tr>\n",
              "    <tr>\n",
              "      <th>2</th>\n",
              "      <td>FDA50</td>\n",
              "      <td>11.206668</td>\n",
              "      <td>Regular</td>\n",
              "      <td>0.011735</td>\n",
              "      <td>Dairy</td>\n",
              "      <td>206.366793</td>\n",
              "      <td>OUT049</td>\n",
              "      <td>1998</td>\n",
              "      <td>abc</td>\n",
              "      <td>Tier 2</td>\n",
              "      <td>Supermarket Type1</td>\n",
              "      <td>3040.877199</td>\n",
              "    </tr>\n",
              "    <tr>\n",
              "      <th>3</th>\n",
              "      <td>NCG18</td>\n",
              "      <td>12.478121</td>\n",
              "      <td>Regular</td>\n",
              "      <td>0.079036</td>\n",
              "      <td>Breakfast</td>\n",
              "      <td>175.567387</td>\n",
              "      <td>OUT045</td>\n",
              "      <td>2007</td>\n",
              "      <td>High</td>\n",
              "      <td>Tier 1</td>\n",
              "      <td>Supermarket Type1</td>\n",
              "      <td>923.593023</td>\n",
              "    </tr>\n",
              "    <tr>\n",
              "      <th>4</th>\n",
              "      <td>FDJ09</td>\n",
              "      <td>9.297918</td>\n",
              "      <td>LF</td>\n",
              "      <td>0.070017</td>\n",
              "      <td>Household</td>\n",
              "      <td>154.579841</td>\n",
              "      <td>OUT027</td>\n",
              "      <td>1999</td>\n",
              "      <td>Small</td>\n",
              "      <td>Tier 3</td>\n",
              "      <td>Supermarket Type3</td>\n",
              "      <td>1635.973963</td>\n",
              "    </tr>\n",
              "  </tbody>\n",
              "</table>\n",
              "</div>"
            ],
            "text/plain": [
              "  Item_Identifier  Item_Weight  ...        Outlet_Type  Item_Outlet_Sales\n",
              "0           FDC58    12.525694  ...  Supermarket Type1         590.026066\n",
              "1           FDW45    12.248238  ...      Grocery Store         252.646534\n",
              "2           FDA50    11.206668  ...  Supermarket Type1        3040.877199\n",
              "3           NCG18    12.478121  ...  Supermarket Type1         923.593023\n",
              "4           FDJ09     9.297918  ...  Supermarket Type3        1635.973963\n",
              "\n",
              "[5 rows x 12 columns]"
            ]
          },
          "metadata": {
            "tags": []
          },
          "execution_count": 64
        }
      ]
    },
    {
      "cell_type": "code",
      "metadata": {
        "id": "1d5ddad5"
      },
      "source": [
        "# Save generated data\n",
        "syn_samples.to_csv(\"bigdatamart_synthetic.csv\",index = False)"
      ],
      "id": "1d5ddad5",
      "execution_count": 18,
      "outputs": []
    },
    {
      "cell_type": "code",
      "metadata": {
        "id": "qM_y6ZrlipYf"
      },
      "source": [
        "# So file is in gdrive\n",
        "! pwd\n",
        "! ls -la '/content/drive/My Drive/Colab_data_files/big_data_mart'"
      ],
      "id": "qM_y6ZrlipYf",
      "execution_count": null,
      "outputs": []
    },
    {
      "cell_type": "markdown",
      "metadata": {
        "id": "m4c7_srMlOxo"
      },
      "source": [
        "## Set column values back as NULL"
      ],
      "id": "m4c7_srMlOxo"
    },
    {
      "cell_type": "code",
      "metadata": {
        "id": "lsHeej6vjSVg"
      },
      "source": [
        "# Function to generate null indexes\n",
        "def generateNaN(df, num_rows_2_setNULL):\n",
        "  return np.random.choice(df.shape[0], num_rows_2_setNULL, replace=False)"
      ],
      "id": "lsHeej6vjSVg",
      "execution_count": 50,
      "outputs": []
    },
    {
      "cell_type": "code",
      "metadata": {
        "colab": {
          "base_uri": "https://localhost:8080/"
        },
        "id": "Y3-olOCzj6mF",
        "outputId": "3bf1cf63-7970-4cac-ae24-5d059125e49b"
      },
      "source": [
        "howMany = 10\n",
        "r = generateNaN(syn_samples, howMany )\n",
        "r"
      ],
      "id": "Y3-olOCzj6mF",
      "execution_count": 53,
      "outputs": [
        {
          "output_type": "execute_result",
          "data": {
            "text/plain": [
              "array([55924, 78145, 54268, 59787, 41776, 32620, 86350, 83465, 96514,\n",
              "       12232])"
            ]
          },
          "metadata": {
            "tags": []
          },
          "execution_count": 53
        }
      ]
    },
    {
      "cell_type": "code",
      "metadata": {
        "id": "azIzo5kZkPwK"
      },
      "source": [
        "# Set column values to NaN\n",
        "syn_samples.loc[r, 'Outlet_Size'] = np.nan"
      ],
      "id": "azIzo5kZkPwK",
      "execution_count": 48,
      "outputs": []
    },
    {
      "cell_type": "code",
      "metadata": {
        "colab": {
          "base_uri": "https://localhost:8080/"
        },
        "id": "62D5ThRZlt72",
        "outputId": "1b2ae262-31af-4c94-8ff5-dee9fefb128d"
      },
      "source": [
        "# Recheck\n",
        "syn_samples.isnull().sum()"
      ],
      "id": "62D5ThRZlt72",
      "execution_count": 54,
      "outputs": [
        {
          "output_type": "execute_result",
          "data": {
            "text/plain": [
              "Item_Identifier               0\n",
              "Item_Weight                   0\n",
              "Item_Fat_Content              0\n",
              "Item_Visibility               0\n",
              "Item_Type                     0\n",
              "Item_MRP                      0\n",
              "Outlet_Identifier             0\n",
              "Outlet_Establishment_Year     0\n",
              "Outlet_Size                  10\n",
              "Outlet_Location_Type          0\n",
              "Outlet_Type                   0\n",
              "Item_Outlet_Sales             0\n",
              "dtype: int64"
            ]
          },
          "metadata": {
            "tags": []
          },
          "execution_count": 54
        }
      ]
    },
    {
      "cell_type": "code",
      "metadata": {
        "id": "GsETCA_em32m"
      },
      "source": [
        "# Save generated data\n",
        "syn_samples.to_csv(\"bigdatamart_synthetic.csv\",index = False)"
      ],
      "id": "GsETCA_em32m",
      "execution_count": 55,
      "outputs": []
    },
    {
      "cell_type": "code",
      "metadata": {
        "colab": {
          "base_uri": "https://localhost:8080/"
        },
        "id": "GaWVrhvem-Tu",
        "outputId": "c23573dd-12fc-4586-f7c8-cbbfb2e02201"
      },
      "source": [
        "# So file is in gdrive\n",
        "! pwd\n",
        "! ls -la '/content/drive/My Drive/Colab_data_files/big_data_mart'"
      ],
      "id": "GaWVrhvem-Tu",
      "execution_count": 56,
      "outputs": [
        {
          "output_type": "stream",
          "text": [
            "/content/drive/My Drive/Colab_data_files/big_data_mart\n",
            "total 14981\n",
            "-rw------- 1 root root   869537 Jul  2 09:07 bigdatamart.csv\n",
            "-rw------- 1 root root 14465731 Jul  2 09:45 bigdatamart_synthetic.csv\n",
            "drwx------ 2 root root     4096 Jul  2 09:07 .ipynb_checkpoints\n"
          ],
          "name": "stdout"
        }
      ]
    },
    {
      "cell_type": "code",
      "metadata": {
        "id": "ad32076a"
      },
      "source": [
        "####################### I am done ############"
      ],
      "id": "ad32076a",
      "execution_count": null,
      "outputs": []
    }
  ]
}