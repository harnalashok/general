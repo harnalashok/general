{
  "nbformat": 4,
  "nbformat_minor": 5,
  "metadata": {
    "kernelspec": {
      "display_name": "Python 3",
      "language": "python",
      "name": "python3"
    },
    "language_info": {
      "codemirror_mode": {
        "name": "ipython",
        "version": 3
      },
      "file_extension": ".py",
      "mimetype": "text/x-python",
      "name": "python",
      "nbconvert_exporter": "python",
      "pygments_lexer": "ipython3",
      "version": "3.7.10"
    },
    "colab": {
      "name": "synthetic_tabular_data_generation.ipynb",
      "provenance": [],
      "collapsed_sections": [],
      "include_colab_link": true
    }
  },
  "cells": [
    {
      "cell_type": "markdown",
      "metadata": {
        "id": "view-in-github",
        "colab_type": "text"
      },
      "source": [
        "<a href=\"https://colab.research.google.com/github/harnalashok/general/blob/master/synthetic_tabular_data_generation.ipynb\" target=\"_parent\"><img src=\"https://colab.research.google.com/assets/colab-badge.svg\" alt=\"Open In Colab\"/></a>"
      ]
    },
    {
      "cell_type": "code",
      "metadata": {
        "id": "fea92ee1"
      },
      "source": [
        "# Last amended: 2nd July, 2021\n",
        "# Myfolder: lubuntu_healthcare VM\n",
        "# Ref: https://sdv.dev/\n",
        "#      https://github.com/sdv-dev/CTGAN\n",
        "#\n",
        "# Objective: Generate Synthetic data using CTGAN\n"
      ],
      "id": "fea92ee1",
      "execution_count": null,
      "outputs": []
    },
    {
      "cell_type": "markdown",
      "metadata": {
        "id": "7OoDv_0ol99A"
      },
      "source": [
        "We generate 1lakh synthetic samples of that from big data mart. <br>My OneDrive folder: D:\\data\\OneDrive\\Documents\\big_mart_sales_problem"
      ],
      "id": "7OoDv_0ol99A"
    },
    {
      "cell_type": "markdown",
      "metadata": {
        "id": "HR050ly3dP9O"
      },
      "source": [
        "## Install CTGAN Synthetic Data Generator"
      ],
      "id": "HR050ly3dP9O"
    },
    {
      "cell_type": "code",
      "metadata": {
        "id": "aSKaTdVQdFPn"
      },
      "source": [
        "# Refer\n",
        "!pip install ctgan"
      ],
      "id": "aSKaTdVQdFPn",
      "execution_count": null,
      "outputs": []
    },
    {
      "cell_type": "markdown",
      "metadata": {
        "id": "7fee99dd"
      },
      "source": [
        "## Call libraries"
      ],
      "id": "7fee99dd"
    },
    {
      "cell_type": "code",
      "metadata": {
        "id": "e1d4e2b2"
      },
      "source": [
        "from ctgan import CTGANSynthesizer"
      ],
      "id": "e1d4e2b2",
      "execution_count": 3,
      "outputs": []
    },
    {
      "cell_type": "code",
      "metadata": {
        "id": "25d8b72b"
      },
      "source": [
        "import numpy as np\n",
        "import pandas as pd\n",
        "import os\n",
        "import time"
      ],
      "id": "25d8b72b",
      "execution_count": 4,
      "outputs": []
    },
    {
      "cell_type": "code",
      "metadata": {
        "id": "7865c36a"
      },
      "source": [
        "from IPython.core.interactiveshell import InteractiveShell\n",
        "InteractiveShell.ast_node_interactivity = \"all\""
      ],
      "id": "7865c36a",
      "execution_count": 5,
      "outputs": []
    },
    {
      "cell_type": "markdown",
      "metadata": {
        "id": "43fc5ac3"
      },
      "source": [
        "## Read data"
      ],
      "id": "43fc5ac3"
    },
    {
      "cell_type": "code",
      "metadata": {
        "id": "IQFmiLaBdnZw"
      },
      "source": [
        "from google.colab import drive\n",
        "drive.mount('/content/drive')"
      ],
      "id": "IQFmiLaBdnZw",
      "execution_count": null,
      "outputs": []
    },
    {
      "cell_type": "code",
      "metadata": {
        "id": "2a8ff771"
      },
      "source": [
        "path = \"/content/drive/MyDrive/Colab_data_files/big_data_mart\"\n",
        "os.chdir(path)"
      ],
      "id": "2a8ff771",
      "execution_count": 6,
      "outputs": []
    },
    {
      "cell_type": "code",
      "metadata": {
        "id": "569f33ff"
      },
      "source": [
        "df = pd.read_csv(\"bigdatamart.csv\")\n",
        "df.head()"
      ],
      "id": "569f33ff",
      "execution_count": null,
      "outputs": []
    },
    {
      "cell_type": "markdown",
      "metadata": {
        "id": "7938aabc"
      },
      "source": [
        "### Nulls must be filled in"
      ],
      "id": "7938aabc"
    },
    {
      "cell_type": "code",
      "metadata": {
        "id": "365031db"
      },
      "source": [
        "# Check nulls in features\n",
        "df.isnull().sum()"
      ],
      "id": "365031db",
      "execution_count": null,
      "outputs": []
    },
    {
      "cell_type": "code",
      "metadata": {
        "id": "d4ac0c27"
      },
      "source": [
        "# Begin filling up\n",
        "df['Outlet_Size'].value_counts()"
      ],
      "id": "d4ac0c27",
      "execution_count": null,
      "outputs": []
    },
    {
      "cell_type": "code",
      "metadata": {
        "id": "4a5c7c0f"
      },
      "source": [
        "df['Outlet_Size']= df['Outlet_Size'].fillna(value = 'Medium')"
      ],
      "id": "4a5c7c0f",
      "execution_count": 10,
      "outputs": []
    },
    {
      "cell_type": "code",
      "metadata": {
        "id": "a79f505b"
      },
      "source": [
        "df['Item_Weight'].median()"
      ],
      "id": "a79f505b",
      "execution_count": null,
      "outputs": []
    },
    {
      "cell_type": "code",
      "metadata": {
        "id": "8230f079"
      },
      "source": [
        "df['Item_Weight'] = df['Item_Weight'].fillna(value = 12.6)"
      ],
      "id": "8230f079",
      "execution_count": 12,
      "outputs": []
    },
    {
      "cell_type": "code",
      "metadata": {
        "id": "5f636c06"
      },
      "source": [
        "# Check again\n",
        "df.isnull().sum()"
      ],
      "id": "5f636c06",
      "execution_count": null,
      "outputs": []
    },
    {
      "cell_type": "markdown",
      "metadata": {
        "id": "bdba25c3"
      },
      "source": [
        "## Process for data generation"
      ],
      "id": "bdba25c3"
    },
    {
      "cell_type": "code",
      "metadata": {
        "colab": {
          "base_uri": "https://localhost:8080/"
        },
        "id": "0a34689b",
        "outputId": "93c59f22-07b9-4dd2-d0d2-313febafd611"
      },
      "source": [
        "print(list(df.columns))"
      ],
      "id": "0a34689b",
      "execution_count": 13,
      "outputs": [
        {
          "output_type": "stream",
          "text": [
            "['Item_Identifier', 'Item_Weight', 'Item_Fat_Content', 'Item_Visibility', 'Item_Type', 'Item_MRP', 'Outlet_Identifier', 'Outlet_Establishment_Year', 'Outlet_Size', 'Outlet_Location_Type', 'Outlet_Type', 'Item_Outlet_Sales']\n"
          ],
          "name": "stdout"
        }
      ]
    },
    {
      "cell_type": "code",
      "metadata": {
        "id": "e2154a7f"
      },
      "source": [
        "# Discrete columns\n",
        "discrete_columns =['Item_Identifier','Item_Fat_Content','Item_Type', 'Outlet_Identifier', 'Outlet_Establishment_Year', 'Outlet_Size', 'Outlet_Location_Type', 'Outlet_Type']\n",
        "cont = ['Item_Weight','Item_Visibility','Item_MRP', 'Item_Outlet_Sales']\n",
        "\n",
        "# Match totals\n",
        "len(discrete_columns)\n",
        "len(cont)\n",
        "len(df.columns)\n"
      ],
      "id": "e2154a7f",
      "execution_count": null,
      "outputs": []
    },
    {
      "cell_type": "markdown",
      "metadata": {
        "id": "669908ea"
      },
      "source": [
        "### Start generating"
      ],
      "id": "669908ea"
    },
    {
      "cell_type": "code",
      "metadata": {
        "id": "4c6e9b17"
      },
      "source": [
        "# Learn train data\n",
        "# Takes time\n",
        "# Some warning messages come. But do not worry\n",
        "start = time.time()\n",
        "ctgan = CTGANSynthesizer(epochs=10)\n",
        "ctgan.fit(df, discrete_columns)\n",
        "end = time.time()\n",
        "(end-start)/60"
      ],
      "id": "4c6e9b17",
      "execution_count": null,
      "outputs": []
    },
    {
      "cell_type": "code",
      "metadata": {
        "id": "e238fa7e"
      },
      "source": [
        "# Get Synthetic data now\n",
        "datasize = 100000   # Large datasize would require lots of RAM\n",
        "                    # Be warned, session may crash\n",
        "                     # So generate in steps and then stack\n",
        "syn_samples = ctgan.sample(datasize)"
      ],
      "id": "e238fa7e",
      "execution_count": 16,
      "outputs": []
    },
    {
      "cell_type": "code",
      "metadata": {
        "id": "48d2fa63"
      },
      "source": [
        "# Look at the data\n",
        "syn_samples.head()"
      ],
      "id": "48d2fa63",
      "execution_count": null,
      "outputs": []
    },
    {
      "cell_type": "code",
      "metadata": {
        "id": "1d5ddad5"
      },
      "source": [
        "# Save generated data\n",
        "syn_samples.to_csv(\"bigdatamart_synthetic.csv\",index = False)"
      ],
      "id": "1d5ddad5",
      "execution_count": 18,
      "outputs": []
    },
    {
      "cell_type": "code",
      "metadata": {
        "id": "qM_y6ZrlipYf"
      },
      "source": [
        "# So file is in gdrive\n",
        "! pwd\n",
        "! ls -la '/content/drive/My Drive/Colab_data_files/big_data_mart'"
      ],
      "id": "qM_y6ZrlipYf",
      "execution_count": null,
      "outputs": []
    },
    {
      "cell_type": "markdown",
      "metadata": {
        "id": "m4c7_srMlOxo"
      },
      "source": [
        "## Set column values back as NULL"
      ],
      "id": "m4c7_srMlOxo"
    },
    {
      "cell_type": "code",
      "metadata": {
        "id": "lsHeej6vjSVg"
      },
      "source": [
        "# Function to generate null indexes\n",
        "def generateNaN(df, num_rows_2_setNULL):\n",
        "  return np.random.choice(df.shape[0], num_rows_2_setNULL, replace=False)"
      ],
      "id": "lsHeej6vjSVg",
      "execution_count": 50,
      "outputs": []
    },
    {
      "cell_type": "code",
      "metadata": {
        "colab": {
          "base_uri": "https://localhost:8080/"
        },
        "id": "Y3-olOCzj6mF",
        "outputId": "3bf1cf63-7970-4cac-ae24-5d059125e49b"
      },
      "source": [
        "howMany = 10\n",
        "r = generateNaN(syn_samples, howMany )\n",
        "r"
      ],
      "id": "Y3-olOCzj6mF",
      "execution_count": 53,
      "outputs": [
        {
          "output_type": "execute_result",
          "data": {
            "text/plain": [
              "array([55924, 78145, 54268, 59787, 41776, 32620, 86350, 83465, 96514,\n",
              "       12232])"
            ]
          },
          "metadata": {
            "tags": []
          },
          "execution_count": 53
        }
      ]
    },
    {
      "cell_type": "code",
      "metadata": {
        "id": "azIzo5kZkPwK"
      },
      "source": [
        "# Set column values to NaN\n",
        "syn_samples.loc[r, 'Outlet_Size'] = np.nan"
      ],
      "id": "azIzo5kZkPwK",
      "execution_count": 48,
      "outputs": []
    },
    {
      "cell_type": "code",
      "metadata": {
        "colab": {
          "base_uri": "https://localhost:8080/"
        },
        "id": "62D5ThRZlt72",
        "outputId": "1b2ae262-31af-4c94-8ff5-dee9fefb128d"
      },
      "source": [
        "# Recheck\n",
        "syn_samples.isnull().sum()"
      ],
      "id": "62D5ThRZlt72",
      "execution_count": 54,
      "outputs": [
        {
          "output_type": "execute_result",
          "data": {
            "text/plain": [
              "Item_Identifier               0\n",
              "Item_Weight                   0\n",
              "Item_Fat_Content              0\n",
              "Item_Visibility               0\n",
              "Item_Type                     0\n",
              "Item_MRP                      0\n",
              "Outlet_Identifier             0\n",
              "Outlet_Establishment_Year     0\n",
              "Outlet_Size                  10\n",
              "Outlet_Location_Type          0\n",
              "Outlet_Type                   0\n",
              "Item_Outlet_Sales             0\n",
              "dtype: int64"
            ]
          },
          "metadata": {
            "tags": []
          },
          "execution_count": 54
        }
      ]
    },
    {
      "cell_type": "code",
      "metadata": {
        "id": "GsETCA_em32m"
      },
      "source": [
        "# Save generated data\n",
        "syn_samples.to_csv(\"bigdatamart_synthetic.csv\",index = False)"
      ],
      "id": "GsETCA_em32m",
      "execution_count": 55,
      "outputs": []
    },
    {
      "cell_type": "code",
      "metadata": {
        "colab": {
          "base_uri": "https://localhost:8080/"
        },
        "id": "GaWVrhvem-Tu",
        "outputId": "c23573dd-12fc-4586-f7c8-cbbfb2e02201"
      },
      "source": [
        "# So file is in gdrive\n",
        "! pwd\n",
        "! ls -la '/content/drive/My Drive/Colab_data_files/big_data_mart'"
      ],
      "id": "GaWVrhvem-Tu",
      "execution_count": 56,
      "outputs": [
        {
          "output_type": "stream",
          "text": [
            "/content/drive/My Drive/Colab_data_files/big_data_mart\n",
            "total 14981\n",
            "-rw------- 1 root root   869537 Jul  2 09:07 bigdatamart.csv\n",
            "-rw------- 1 root root 14465731 Jul  2 09:45 bigdatamart_synthetic.csv\n",
            "drwx------ 2 root root     4096 Jul  2 09:07 .ipynb_checkpoints\n"
          ],
          "name": "stdout"
        }
      ]
    },
    {
      "cell_type": "code",
      "metadata": {
        "id": "ad32076a"
      },
      "source": [
        "####################### I am done ############"
      ],
      "id": "ad32076a",
      "execution_count": null,
      "outputs": []
    }
  ]
}