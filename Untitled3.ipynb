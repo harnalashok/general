{
  "nbformat": 4,
  "nbformat_minor": 0,
  "metadata": {
    "colab": {
      "name": "Untitled3.ipynb",
      "provenance": [],
      "collapsed_sections": [],
      "authorship_tag": "ABX9TyNA/Pud5m+wbEDFlJp3YOXC",
      "include_colab_link": true
    },
    "kernelspec": {
      "name": "python3",
      "display_name": "Python 3"
    }
  },
  "cells": [
    {
      "cell_type": "markdown",
      "metadata": {
        "id": "view-in-github",
        "colab_type": "text"
      },
      "source": [
        "<a href=\"https://colab.research.google.com/github/harnalashok/general/blob/master/Untitled3.ipynb\" target=\"_parent\"><img src=\"https://colab.research.google.com/assets/colab-badge.svg\" alt=\"Open In Colab\"/></a>"
      ]
    },
    {
      "cell_type": "code",
      "metadata": {
        "id": "79S7WaM2ed9L"
      },
      "source": [
        "!pip install -q -U keras-tuner"
      ],
      "execution_count": 1,
      "outputs": []
    },
    {
      "cell_type": "code",
      "metadata": {
        "id": "_f6eE40XKTtA"
      },
      "source": [
        "import tensorflow as tf\r\n",
        "from tensorflow import keras\r\n",
        "import kerastuner as kt\r\n",
        "\r\n"
      ],
      "execution_count": 2,
      "outputs": []
    },
    {
      "cell_type": "code",
      "metadata": {
        "id": "SPmMYHIKPDS5"
      },
      "source": [
        "from IPython.core.interactiveshell import InteractiveShell\r\n",
        "InteractiveShell.ast_node_interactivity = \"all\"\r\n"
      ],
      "execution_count": 3,
      "outputs": []
    },
    {
      "cell_type": "code",
      "metadata": {
        "id": "znxpyR84Kh5s"
      },
      "source": [
        "\r\n",
        "# A shortname for kears fashion_mnist module\r\n",
        "fashion_mnist = keras.datasets.fashion_mnist"
      ],
      "execution_count": 4,
      "outputs": []
    },
    {
      "cell_type": "code",
      "metadata": {
        "colab": {
          "base_uri": "https://localhost:8080/"
        },
        "id": "c8Ei2QNTK7Ck",
        "outputId": "b92d1701-1f9c-45d5-a22b-b5ce2fc3fed0"
      },
      "source": [
        "# What all this module contains\r\n",
        "dir(fashion_mnist)  "
      ],
      "execution_count": 5,
      "outputs": [
        {
          "output_type": "execute_result",
          "data": {
            "text/plain": [
              "['__builtins__',\n",
              " '__cached__',\n",
              " '__doc__',\n",
              " '__file__',\n",
              " '__loader__',\n",
              " '__name__',\n",
              " '__package__',\n",
              " '__path__',\n",
              " '__spec__',\n",
              " '_sys',\n",
              " 'load_data']"
            ]
          },
          "metadata": {
            "tags": []
          },
          "execution_count": 5
        }
      ]
    },
    {
      "cell_type": "code",
      "metadata": {
        "colab": {
          "base_uri": "https://localhost:8080/"
        },
        "id": "l-xfWJJGK-Ha",
        "outputId": "b39228e2-0550-4f51-97e4-8850936f4d2c"
      },
      "source": [
        "help(fashion_mnist.load_data)"
      ],
      "execution_count": 7,
      "outputs": [
        {
          "output_type": "stream",
          "text": [
            "Help on function load_data in module tensorflow.python.keras.datasets.fashion_mnist:\n",
            "\n",
            "load_data()\n",
            "    Loads the Fashion-MNIST dataset.\n",
            "    \n",
            "    This is a dataset of 60,000 28x28 grayscale images of 10 fashion categories,\n",
            "    along with a test set of 10,000 images. This dataset can be used as\n",
            "    a drop-in replacement for MNIST. The class labels are:\n",
            "    \n",
            "    | Label | Description |\n",
            "    |:-----:|-------------|\n",
            "    |   0   | T-shirt/top |\n",
            "    |   1   | Trouser     |\n",
            "    |   2   | Pullover    |\n",
            "    |   3   | Dress       |\n",
            "    |   4   | Coat        |\n",
            "    |   5   | Sandal      |\n",
            "    |   6   | Shirt       |\n",
            "    |   7   | Sneaker     |\n",
            "    |   8   | Bag         |\n",
            "    |   9   | Ankle boot  |\n",
            "    \n",
            "    Returns:\n",
            "        Tuple of Numpy arrays: `(x_train, y_train), (x_test, y_test)`.\n",
            "    \n",
            "        **x_train, x_test**: uint8 arrays of grayscale image data with shape\n",
            "          (num_samples, 28, 28).\n",
            "    \n",
            "        **y_train, y_test**: uint8 arrays of labels (integers in range 0-9)\n",
            "          with shape (num_samples,).\n",
            "    \n",
            "    License:\n",
            "        The copyright for Fashion-MNIST is held by Zalando SE.\n",
            "        Fashion-MNIST is licensed under the [MIT license](\n",
            "        https://github.com/zalandoresearch/fashion-mnist/blob/master/LICENSE).\n",
            "\n"
          ],
          "name": "stdout"
        }
      ]
    },
    {
      "cell_type": "code",
      "metadata": {
        "id": "qtjVxKNTMVeo"
      },
      "source": [
        "# Data is downloaded. Download occurs only once.\r\n",
        "(x_train, y_train), (x_test, y_test) = fashion_mnist.load_data()"
      ],
      "execution_count": 6,
      "outputs": []
    },
    {
      "cell_type": "code",
      "metadata": {
        "colab": {
          "base_uri": "https://localhost:8080/"
        },
        "id": "UU-M5EvoNsHL",
        "outputId": "b4eeec35-3874-46dc-921f-98a21c553ba9"
      },
      "source": [
        "# Where is data stored. Let us examine our Virtual Disk\r\n",
        "!ls /"
      ],
      "execution_count": 159,
      "outputs": [
        {
          "output_type": "stream",
          "text": [
            "bin\t datalab  home\t lib64\topt   run   swift\t       tmp    var\n",
            "boot\t dev\t  lib\t media\tproc  sbin  sys\t\t       tools\n",
            "content  etc\t  lib32  mnt\troot  srv   tensorflow-1.15.2  usr\n"
          ],
          "name": "stdout"
        }
      ]
    },
    {
      "cell_type": "code",
      "metadata": {
        "colab": {
          "base_uri": "https://localhost:8080/"
        },
        "id": "mG-2uDfLN3AI",
        "outputId": "c8481ff4-9e47-431f-a442-35b359961707"
      },
      "source": [
        "ls -la /root/.keras/datasets\r\n"
      ],
      "execution_count": 160,
      "outputs": [
        {
          "output_type": "stream",
          "text": [
            "total 12\n",
            "drwxr-xr-x 3 root root 4096 Jan 10 07:31 \u001b[0m\u001b[01;34m.\u001b[0m/\n",
            "drwxr-xr-x 3 root root 4096 Jan 10 07:31 \u001b[01;34m..\u001b[0m/\n",
            "drwxr-xr-x 2 root root 4096 Jan 10 07:31 \u001b[01;34mfashion-mnist\u001b[0m/\n"
          ],
          "name": "stdout"
        }
      ]
    },
    {
      "cell_type": "code",
      "metadata": {
        "colab": {
          "base_uri": "https://localhost:8080/"
        },
        "id": "a4PyeFXEMiv5",
        "outputId": "1974cf06-1b1c-4033-a675-ba07b67f36c7"
      },
      "source": [
        "x_train.shape, x_test.shape, y_train.shape, y_test.shape"
      ],
      "execution_count": 161,
      "outputs": [
        {
          "output_type": "execute_result",
          "data": {
            "text/plain": [
              "((60000, 28, 28), (10000, 28, 28), (60000,), (10000,))"
            ]
          },
          "metadata": {
            "tags": []
          },
          "execution_count": 161
        }
      ]
    },
    {
      "cell_type": "code",
      "metadata": {
        "colab": {
          "base_uri": "https://localhost:8080/"
        },
        "id": "YjJl-1SoMuBW",
        "outputId": "dac136ba-7edd-416c-82d4-bc2c950b166d"
      },
      "source": [
        "# Observe some pixel intensity values\r\n",
        "x_train[10,10,:10]\r\n",
        "y_train"
      ],
      "execution_count": 7,
      "outputs": [
        {
          "output_type": "execute_result",
          "data": {
            "text/plain": [
              "array([  0,   0,   0,   0,   0,  31, 174,  28, 126, 153], dtype=uint8)"
            ]
          },
          "metadata": {
            "tags": []
          },
          "execution_count": 7
        },
        {
          "output_type": "execute_result",
          "data": {
            "text/plain": [
              "array([9, 0, 0, ..., 3, 0, 5], dtype=uint8)"
            ]
          },
          "metadata": {
            "tags": []
          },
          "execution_count": 7
        }
      ]
    },
    {
      "cell_type": "code",
      "metadata": {
        "colab": {
          "base_uri": "https://localhost:8080/"
        },
        "id": "OmKQMJprNLI1",
        "outputId": "004a1536-837d-46e8-e241-8bcd62a63732"
      },
      "source": [
        "x_train = x_train/255\r\n",
        "x_test = x_test/255\r\n",
        "x_train[10,10,:10]"
      ],
      "execution_count": 8,
      "outputs": [
        {
          "output_type": "execute_result",
          "data": {
            "text/plain": [
              "array([0.        , 0.        , 0.        , 0.        , 0.        ,\n",
              "       0.12156863, 0.68235294, 0.10980392, 0.49411765, 0.6       ])"
            ]
          },
          "metadata": {
            "tags": []
          },
          "execution_count": 8
        }
      ]
    },
    {
      "cell_type": "code",
      "metadata": {
        "id": "WzWG29FrNaEU"
      },
      "source": [
        "items = [ \"T-shirt/top\",\"Trouser\", \"Pullover\", \"Dress\" , \"Coat\", \"Sandal\", \"Shirt\", \"Sneaker\", \"Bag\", \"Ankle boot\" ]"
      ],
      "execution_count": 218,
      "outputs": []
    },
    {
      "cell_type": "code",
      "metadata": {
        "colab": {
          "base_uri": "https://localhost:8080/",
          "height": 36
        },
        "id": "yHvnpa2ZRiVK",
        "outputId": "009621e0-0a2f-4715-ffd8-bac2a5420a46"
      },
      "source": [
        "items[y_train[0]]"
      ],
      "execution_count": 165,
      "outputs": [
        {
          "output_type": "execute_result",
          "data": {
            "application/vnd.google.colaboratory.intrinsic+json": {
              "type": "string"
            },
            "text/plain": [
              "'Ankle boot'"
            ]
          },
          "metadata": {
            "tags": []
          },
          "execution_count": 165
        }
      ]
    },
    {
      "cell_type": "code",
      "metadata": {
        "id": "oacV8A-qRl32"
      },
      "source": [
        "model = keras.models.Sequential(\r\n",
        "                         [keras.layers.Flatten(input_shape = (28,28)),\r\n",
        "                          keras.layers.Dense(100,activation = 'relu'),\r\n",
        "                          keras.layers.Dense(100,activation = 'relu'),\r\n",
        "                          keras.layers.Dense(10, activation = \"softmax\")]\r\n",
        "    \r\n",
        "\r\n",
        ")"
      ],
      "execution_count": 166,
      "outputs": []
    },
    {
      "cell_type": "code",
      "metadata": {
        "colab": {
          "base_uri": "https://localhost:8080/"
        },
        "id": "-C9eQQlFYQPq",
        "outputId": "d3600b39-7dde-468e-8abb-88e0a342df31"
      },
      "source": [
        "model.summary()"
      ],
      "execution_count": 167,
      "outputs": [
        {
          "output_type": "stream",
          "text": [
            "Model: \"sequential_1\"\n",
            "_________________________________________________________________\n",
            "Layer (type)                 Output Shape              Param #   \n",
            "=================================================================\n",
            "flatten_1 (Flatten)          (None, 784)               0         \n",
            "_________________________________________________________________\n",
            "dense_3 (Dense)              (None, 100)               78500     \n",
            "_________________________________________________________________\n",
            "dense_4 (Dense)              (None, 100)               10100     \n",
            "_________________________________________________________________\n",
            "dense_5 (Dense)              (None, 10)                1010      \n",
            "=================================================================\n",
            "Total params: 89,610\n",
            "Trainable params: 89,610\n",
            "Non-trainable params: 0\n",
            "_________________________________________________________________\n"
          ],
          "name": "stdout"
        }
      ]
    },
    {
      "cell_type": "code",
      "metadata": {
        "colab": {
          "base_uri": "https://localhost:8080/"
        },
        "id": "83xltvitXHAm",
        "outputId": "b4b98df1-353a-4753-a7ca-ad95df3ffe71"
      },
      "source": [
        "model.layers"
      ],
      "execution_count": 168,
      "outputs": [
        {
          "output_type": "execute_result",
          "data": {
            "text/plain": [
              "[<tensorflow.python.keras.layers.core.Flatten at 0x7fbfeecf2978>,\n",
              " <tensorflow.python.keras.layers.core.Dense at 0x7fbfeed0ec18>,\n",
              " <tensorflow.python.keras.layers.core.Dense at 0x7fbfeebb01d0>,\n",
              " <tensorflow.python.keras.layers.core.Dense at 0x7fbfeebb0b38>]"
            ]
          },
          "metadata": {
            "tags": []
          },
          "execution_count": 168
        }
      ]
    },
    {
      "cell_type": "code",
      "metadata": {
        "colab": {
          "base_uri": "https://localhost:8080/",
          "height": 36
        },
        "id": "yYKuijFsYiGv",
        "outputId": "6b3034ab-0ef2-4c09-81b6-c4a9f69e99fd"
      },
      "source": [
        "hidden1_layer = model.layers[1]\r\n",
        "hidden1_layer.name"
      ],
      "execution_count": 169,
      "outputs": [
        {
          "output_type": "execute_result",
          "data": {
            "application/vnd.google.colaboratory.intrinsic+json": {
              "type": "string"
            },
            "text/plain": [
              "'dense_3'"
            ]
          },
          "metadata": {
            "tags": []
          },
          "execution_count": 169
        }
      ]
    },
    {
      "cell_type": "code",
      "metadata": {
        "id": "eCuvcZFSR7C_"
      },
      "source": [
        "weights,biases = hidden1_layer.get_weights()"
      ],
      "execution_count": 170,
      "outputs": []
    },
    {
      "cell_type": "code",
      "metadata": {
        "colab": {
          "base_uri": "https://localhost:8080/"
        },
        "id": "hH0lPjcqWw1-",
        "outputId": "95a7c04d-ebce-4c89-8e83-dfc7b7120e9b"
      },
      "source": [
        "weights\r\n",
        "weights.shape    # (784, 100)"
      ],
      "execution_count": 171,
      "outputs": [
        {
          "output_type": "execute_result",
          "data": {
            "text/plain": [
              "array([[-0.03217274, -0.02752706,  0.06193034, ..., -0.01452731,\n",
              "         0.07155424, -0.05403588],\n",
              "       [ 0.07254662,  0.01285969,  0.06116387, ..., -0.04698194,\n",
              "         0.00498222, -0.01793279],\n",
              "       [ 0.05911782, -0.04220738,  0.01135968, ...,  0.07136384,\n",
              "         0.07098435,  0.01250432],\n",
              "       ...,\n",
              "       [ 0.03572796, -0.0286063 , -0.07818979, ..., -0.00023584,\n",
              "        -0.03797683, -0.03111191],\n",
              "       [ 0.05817227,  0.03888528, -0.02108637, ...,  0.01769986,\n",
              "        -0.07005081,  0.04509826],\n",
              "       [-0.00802279, -0.03365347, -0.07014278, ..., -0.05116423,\n",
              "         0.04485649,  0.03364868]], dtype=float32)"
            ]
          },
          "metadata": {
            "tags": []
          },
          "execution_count": 171
        },
        {
          "output_type": "execute_result",
          "data": {
            "text/plain": [
              "(784, 100)"
            ]
          },
          "metadata": {
            "tags": []
          },
          "execution_count": 171
        }
      ]
    },
    {
      "cell_type": "code",
      "metadata": {
        "colab": {
          "base_uri": "https://localhost:8080/"
        },
        "id": "E5w4Y8kuW4M0",
        "outputId": "44f1ca21-20e6-408c-9b2d-9793c9119a92"
      },
      "source": [
        "biases\r\n",
        "biases.shape    # (100,)"
      ],
      "execution_count": 172,
      "outputs": [
        {
          "output_type": "execute_result",
          "data": {
            "text/plain": [
              "array([0., 0., 0., 0., 0., 0., 0., 0., 0., 0., 0., 0., 0., 0., 0., 0., 0.,\n",
              "       0., 0., 0., 0., 0., 0., 0., 0., 0., 0., 0., 0., 0., 0., 0., 0., 0.,\n",
              "       0., 0., 0., 0., 0., 0., 0., 0., 0., 0., 0., 0., 0., 0., 0., 0., 0.,\n",
              "       0., 0., 0., 0., 0., 0., 0., 0., 0., 0., 0., 0., 0., 0., 0., 0., 0.,\n",
              "       0., 0., 0., 0., 0., 0., 0., 0., 0., 0., 0., 0., 0., 0., 0., 0., 0.,\n",
              "       0., 0., 0., 0., 0., 0., 0., 0., 0., 0., 0., 0., 0., 0., 0.],\n",
              "      dtype=float32)"
            ]
          },
          "metadata": {
            "tags": []
          },
          "execution_count": 172
        },
        {
          "output_type": "execute_result",
          "data": {
            "text/plain": [
              "(100,)"
            ]
          },
          "metadata": {
            "tags": []
          },
          "execution_count": 172
        }
      ]
    },
    {
      "cell_type": "code",
      "metadata": {
        "id": "hUdFe-PUZKTX"
      },
      "source": [
        "model.compile(loss = 'sparse_categorical_crossentropy',  metrics = ['accuracy'] )"
      ],
      "execution_count": 219,
      "outputs": []
    },
    {
      "cell_type": "code",
      "metadata": {
        "colab": {
          "base_uri": "https://localhost:8080/"
        },
        "id": "RLMvL1hpdWfU",
        "outputId": "0d27a51d-1546-4c5f-8ad2-60e0cb9c4529"
      },
      "source": [
        "model.fit(x_train,y_train,  epochs = 10,verbose = 1)"
      ],
      "execution_count": 174,
      "outputs": [
        {
          "output_type": "stream",
          "text": [
            "Epoch 1/10\n",
            "1875/1875 [==============================] - 5s 2ms/step - loss: 0.6406 - accuracy: 0.7698\n",
            "Epoch 2/10\n",
            "1875/1875 [==============================] - 4s 2ms/step - loss: 0.3844 - accuracy: 0.8597\n",
            "Epoch 3/10\n",
            "1875/1875 [==============================] - 4s 2ms/step - loss: 0.3505 - accuracy: 0.8729\n",
            "Epoch 4/10\n",
            "1875/1875 [==============================] - 4s 2ms/step - loss: 0.3468 - accuracy: 0.8775\n",
            "Epoch 5/10\n",
            "1875/1875 [==============================] - 4s 2ms/step - loss: 0.3409 - accuracy: 0.8824\n",
            "Epoch 6/10\n",
            "1875/1875 [==============================] - 4s 2ms/step - loss: 0.3344 - accuracy: 0.8850\n",
            "Epoch 7/10\n",
            "1875/1875 [==============================] - 4s 2ms/step - loss: 0.3339 - accuracy: 0.8848\n",
            "Epoch 8/10\n",
            "1875/1875 [==============================] - 4s 2ms/step - loss: 0.3287 - accuracy: 0.8885\n",
            "Epoch 9/10\n",
            "1875/1875 [==============================] - 4s 2ms/step - loss: 0.3244 - accuracy: 0.8904\n",
            "Epoch 10/10\n",
            "1875/1875 [==============================] - 4s 2ms/step - loss: 0.3188 - accuracy: 0.8933\n"
          ],
          "name": "stdout"
        },
        {
          "output_type": "execute_result",
          "data": {
            "text/plain": [
              "<tensorflow.python.keras.callbacks.History at 0x7fbfeebbd1d0>"
            ]
          },
          "metadata": {
            "tags": []
          },
          "execution_count": 174
        }
      ]
    },
    {
      "cell_type": "code",
      "metadata": {
        "id": "REr6b1R_kuo9"
      },
      "source": [
        "model = keras.models.Sequential(\r\n",
        "                         [keras.layers.Flatten(input_shape = (28,28)),\r\n",
        "                          keras.layers.Dense(100,activation = 'relu'),\r\n",
        "                          keras.layers.Dense(100,activation = 'relu'),\r\n",
        "                          keras.layers.Dense(10, activation = \"softmax\")]\r\n",
        "    \r\n",
        "\r\n",
        ")"
      ],
      "execution_count": null,
      "outputs": []
    },
    {
      "cell_type": "code",
      "metadata": {
        "id": "pJu6u6_ldjkY"
      },
      "source": [
        "from tensorflow.keras.wrappers.scikit_learn import KerasClassifier"
      ],
      "execution_count": 175,
      "outputs": []
    },
    {
      "cell_type": "code",
      "metadata": {
        "id": "QfikqZWMdseL"
      },
      "source": [
        " def build_model1(hp):\r\n",
        "   n_size1 = hp.Int('n_size1', 32, 200, default=64)\r\n",
        "   n_size2 = hp.Int('n_size2', 32, 200, default=64)\r\n",
        "   dropout = hp.Float('dropout', 0, 0.5, step=0.1, default=0.5)\r\n",
        "   #activation = hp.Choice('activation' , ['relu', 'tanh'])\r\n",
        "   model = keras.models.Sequential(\r\n",
        "                                    [keras.layers.Flatten(input_shape = [28,28]),\r\n",
        "                                     keras.layers.Dense(n_size1,activation = 'relu'),\r\n",
        "                                     keras.layers.Dense(n_size2,activation = 'relu'),\r\n",
        "                                     keras.layers.Dense(10, activation = \"softmax\")\r\n",
        "                                    ]\r\n",
        "                                  )\r\n",
        "   model.compile(\r\n",
        "                 loss = 'sparse_categorical_crossentropy',\r\n",
        "                 metrics = ['accuracy'])\r\n",
        "   return model"
      ],
      "execution_count": 12,
      "outputs": []
    },
    {
      "cell_type": "code",
      "metadata": {
        "colab": {
          "base_uri": "https://localhost:8080/"
        },
        "id": "PbJz7qHLe5uo",
        "outputId": "42a5fbf4-602e-4d1d-d8d8-0b336be1ac1f"
      },
      "source": [
        "tuner = kt.Hyperband(\r\n",
        "                     build_model1,\r\n",
        "                     objective='val_accuracy',\r\n",
        "                    max_epochs=30,\r\n",
        "                     hyperband_iterations=2)"
      ],
      "execution_count": 13,
      "outputs": [
        {
          "output_type": "stream",
          "text": [
            "INFO:tensorflow:Reloading Oracle from existing project ./untitled_project/oracle.json\n",
            "INFO:tensorflow:Reloading Tuner from ./untitled_project/tuner0.json\n"
          ],
          "name": "stdout"
        }
      ]
    },
    {
      "cell_type": "code",
      "metadata": {
        "colab": {
          "base_uri": "https://localhost:8080/"
        },
        "id": "CBTKlYv0fLc8",
        "outputId": "175eb898-64a3-4b33-8101-61db595ff02c"
      },
      "source": [
        "tuner.search(x_train,y_train,\r\n",
        "             validation_data=(x_test,y_test),\r\n",
        "             epochs=30,\r\n",
        "             callbacks=[tf.keras.callbacks.EarlyStopping(patience=1)])"
      ],
      "execution_count": null,
      "outputs": [
        {
          "output_type": "stream",
          "text": [
            "Trial 9 Complete [00h 00m 10s]\n",
            "val_accuracy: 0.8603000044822693\n",
            "\n",
            "Best val_accuracy So Far: 0.8654000163078308\n",
            "Total elapsed time: 00h 01m 41s\n",
            "\n",
            "Search: Running Trial #10\n",
            "\n",
            "Hyperparameter    |Value             |Best Value So Far \n",
            "n_size1           |147               |136               \n",
            "n_size2           |185               |185               \n",
            "dropout           |0.2               |0                 \n",
            "activation        |relu              |relu              \n",
            "tuner/epochs      |2                 |2                 \n",
            "tuner/initial_e...|0                 |0                 \n",
            "tuner/bracket     |3                 |3                 \n",
            "tuner/round       |0                 |0                 \n",
            "\n",
            "Epoch 1/2\n",
            "1118/1875 [================>.............] - ETA: 2s - loss: 0.6860 - accuracy: 0.7527"
          ],
          "name": "stdout"
        }
      ]
    },
    {
      "cell_type": "code",
      "metadata": {
        "id": "MkB_kbJOLbfX"
      },
      "source": [
        ""
      ],
      "execution_count": null,
      "outputs": []
    }
  ]
}