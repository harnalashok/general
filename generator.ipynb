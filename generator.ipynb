{
  "nbformat": 4,
  "nbformat_minor": 0,
  "metadata": {
    "colab": {
      "name": "generator.ipynb",
      "provenance": [],
      "collapsed_sections": [],
      "authorship_tag": "ABX9TyNsAfWEO8WrjI5onu+grEVy",
      "include_colab_link": true
    },
    "kernelspec": {
      "name": "python3",
      "display_name": "Python 3"
    }
  },
  "cells": [
    {
      "cell_type": "markdown",
      "metadata": {
        "id": "view-in-github",
        "colab_type": "text"
      },
      "source": [
        "<a href=\"https://colab.research.google.com/github/harnalashok/general/blob/master/generator.ipynb\" target=\"_parent\"><img src=\"https://colab.research.google.com/assets/colab-badge.svg\" alt=\"Open In Colab\"/></a>"
      ]
    },
    {
      "cell_type": "code",
      "metadata": {
        "id": "pDs1qjOF1UgL"
      },
      "source": [
        "# Last amended: 14th March, 2020\r\n",
        "# Myfolder: /home/ashok/Documents/2. data_augmentation\r\n",
        "# VM: lubuntu_deeplearning\r\n",
        "# Ref: Page 136, Chapter 5, Deeplearning with Python by Fracois Chollet\r\n",
        "#      https://stackoverflow.com/questions/29864366/difference-between-function-and-generator\r\n",
        "\r\n",
        "# Objective: A generator is very similar to a function\r\n",
        "#           that returns an array, in that a generator\r\n",
        "#           has parameters, can be called, and generates\r\n",
        "#           a sequence of values. However, instead of building\r\n",
        "#           an array containing all the values and returning them\r\n",
        "#           all at once, a generator yields the values one at a time,\r\n",
        "#           which requires less memory and allows the caller to get\r\n",
        "#           started processing the first few values immediately.\r\n",
        "#           In short, a generator looks like a function but behaves\r\n",
        "#            like an iterator.\r\n"
      ],
      "execution_count": null,
      "outputs": []
    },
    {
      "cell_type": "code",
      "metadata": {
        "id": "1YNQjVci2Pt7"
      },
      "source": [
        "# 1.0.4 Display output from multiple commands\r\n",
        "from IPython.core.interactiveshell import InteractiveShell\r\n",
        "InteractiveShell.ast_node_interactivity = \"all\""
      ],
      "execution_count": 7,
      "outputs": []
    },
    {
      "cell_type": "code",
      "metadata": {
        "id": "mfKQ2ObS1oWg"
      },
      "source": [
        "# Example 1\r\n",
        "# Objective: To get values from 1 to infinity, on demand\r\n",
        "#\r\n",
        "# 1.\r\n",
        "def mygenerator():\r\n",
        "    i = 0\r\n",
        "    # 1.2\r\n",
        "    while True:\r\n",
        "        i += 1\r\n",
        "        yield i     # 'yield' returns a value\r\n",
        "                    # Unlike in return statement\r\n",
        "                    # function is not terminated.\r\n",
        "                    # This statement pauses the\r\n",
        "                    # function saving all its states\r\n",
        "                    # and later continues from there\r\n",
        "                    # on successive calls.\r\n"
      ],
      "execution_count": 1,
      "outputs": []
    },
    {
      "cell_type": "code",
      "metadata": {
        "colab": {
          "base_uri": "https://localhost:8080/"
        },
        "id": "dM_Z_tt82tzE",
        "outputId": "534e2019-c1a9-438f-bb3b-6cffdcf02f25"
      },
      "source": [
        "# Using generator as iterator: \r\n",
        "for item in mygenerator():\r\n",
        "    # 2.1\r\n",
        "    print(item)\r\n",
        "    # 2.2\r\n",
        "    if item >=4:\r\n",
        "        break\r\n"
      ],
      "execution_count": 12,
      "outputs": [
        {
          "output_type": "stream",
          "text": [
            "1\n",
            "2\n",
            "3\n",
            "4\n"
          ],
          "name": "stdout"
        }
      ]
    },
    {
      "cell_type": "code",
      "metadata": {
        "colab": {
          "base_uri": "https://localhost:8080/"
        },
        "id": "Y6ODkMXw3Ymz",
        "outputId": "5143c1f0-c414-4de6-ecc1-7ace2ec7faef"
      },
      "source": [
        "# 3.1  Another way of using generator using next()\r\n",
        "ab = mygenerator()     # 'ab' is a Generator\r\n",
        "print(type(ab))        # <class 'generator'>\r\n",
        "print(ab.__iter__())          # ab has __iter__ method\r\n",
        "                              # So 'ab' is also an iterable   "
      ],
      "execution_count": 16,
      "outputs": [
        {
          "output_type": "stream",
          "text": [
            "<class 'generator'>\n",
            "<generator object mygenerator at 0x7f09e4150830>\n"
          ],
          "name": "stdout"
        }
      ]
    },
    {
      "cell_type": "code",
      "metadata": {
        "id": "zwuLWe6t4CzX"
      },
      "source": [
        "# 3.2 Start iterating\r\n",
        "next(ab)\r\n",
        "next(ab)"
      ],
      "execution_count": null,
      "outputs": []
    },
    {
      "cell_type": "code",
      "metadata": {
        "id": "GwubYf3y4GTA"
      },
      "source": [
        "# 3.3 Or use in for loop as an iterable, as\r\n",
        "for i in ab:\r\n",
        "    print(i)\r\n",
        "    if i > 20:\r\n",
        "        break\r\n"
      ],
      "execution_count": null,
      "outputs": []
    },
    {
      "cell_type": "code",
      "metadata": {
        "id": "he3NcpAD4TSQ"
      },
      "source": [
        "# 3.4 A generator that takes an argument and\r\n",
        "#     starts from there\r\n",
        "def arggen(st):\r\n",
        "    while True:\r\n",
        "        st = st * 2\r\n",
        "        yield st"
      ],
      "execution_count": 17,
      "outputs": []
    },
    {
      "cell_type": "code",
      "metadata": {
        "colab": {
          "base_uri": "https://localhost:8080/"
        },
        "id": "XwxZyO0T4nb5",
        "outputId": "051c1e56-0d7d-45b7-c225-1aff80d29a91"
      },
      "source": [
        "# 3.5\r\n",
        "t = arggen(4)\r\n",
        "print(next(t))\r\n",
        "print(next(t))"
      ],
      "execution_count": 19,
      "outputs": [
        {
          "output_type": "stream",
          "text": [
            "8\n",
            "16\n"
          ],
          "name": "stdout"
        }
      ]
    },
    {
      "cell_type": "code",
      "metadata": {
        "id": "TkxXN3dP5OA9"
      },
      "source": [
        "#################\r\n",
        "# 5. Another example\r\n",
        "#    https://realpython.com/introduction-to-python-generators/\r\n",
        "#################\r\n",
        "\r\n",
        "\r\n",
        "# 5.1 Execution begins at the start of the function\r\n",
        "#     When calling next() the first time,\r\n",
        "#     body and continues until the next yield statement\r\n",
        "#     where the value to the right of the statement is returned,\r\n",
        "#     subsequent calls to next() continue from the yield statement\r\n",
        "#     to the end of the function, and loop around and continue from\r\n",
        "#     the start of the function body until another yield is called.\r\n",
        "\r\n",
        "# 5.2\r\n",
        "def countdown(num):\r\n",
        "    print('Starting')\r\n",
        "    i = 0\r\n",
        "    while num > 0:\r\n",
        "        i = i+1          # Note that even value of 'i' will be remembered\r\n",
        "        print(i)         #  between calls even though it is not 'yielded'\r\n",
        "        yield num\r\n",
        "        num -= 1"
      ],
      "execution_count": 23,
      "outputs": []
    },
    {
      "cell_type": "code",
      "metadata": {
        "colab": {
          "base_uri": "https://localhost:8080/"
        },
        "id": "itQXUoy_5Ssb",
        "outputId": "85c30914-d2dd-4622-f31f-e7620ba9ba30"
      },
      "source": [
        "# 5.3\r\n",
        "val = countdown(5)\r\n",
        "val"
      ],
      "execution_count": 24,
      "outputs": [
        {
          "output_type": "execute_result",
          "data": {
            "text/plain": [
              "<generator object countdown at 0x7f0bb6d684c0>"
            ]
          },
          "metadata": {
            "tags": []
          },
          "execution_count": 24
        }
      ]
    },
    {
      "cell_type": "code",
      "metadata": {
        "colab": {
          "base_uri": "https://localhost:8080/"
        },
        "id": "-NunqovV50Eg",
        "outputId": "668ee64e-d571-44e0-f8c8-d8cef5b1920e"
      },
      "source": [
        "# 5.4\r\n",
        "print(next(val))\r\n",
        "# 5.5\r\n",
        "print(next(val))"
      ],
      "execution_count": 25,
      "outputs": [
        {
          "output_type": "stream",
          "text": [
            "Starting\n",
            "1\n",
            "5\n",
            "2\n",
            "4\n"
          ],
          "name": "stdout"
        }
      ]
    },
    {
      "cell_type": "code",
      "metadata": {
        "id": "bNiPWlh21Gti"
      },
      "source": [
        "# 4.0 Reading a very large file\r\n",
        "#     line-by-line:\r\n",
        "# Ref: https://realpython.com/introduction-to-python-generators/\r\n",
        "\r\n",
        "import os\r\n",
        "path = \"C:\\\\Users\\\\ashok\\\\Desktop\\\\chmod\\\\2. data_augmentation\"\r\n",
        "os.chdir(path)\r\n",
        "\r\n",
        "# 4.1\r\n",
        "abc = open(\"advertising.csv\", \"r\")\r\n",
        "type(abc)    # _io.TextIOWrapper\r\n",
        "\r\n",
        "# 4.2 Read complete file\r\n",
        "print(abc.read())\r\n",
        "\r\n",
        "# 4.3 Define a normal function\r\n",
        "#     and a generator reader\r\n",
        "\r\n",
        "def csv_reader1(file_name):\r\n",
        "    for row in open(file_name, \"r\"):\r\n",
        "        print (row)\r\n",
        "        #return row\r\n",
        "\r\n",
        "def csv_reader2(file_name):\r\n",
        "    for row in open(file_name, \"r\"):\r\n",
        "        yield row\r\n",
        "\r\n",
        "# 4.4 Read complete file\r\n",
        "y = csv_reader1(\"advertising.csv\")\r\n",
        "y\r\n",
        "\r\n",
        "# 4.5 Read line by line. It is lazy.\r\n",
        "\r\n",
        "t = csv_reader2(\"advertising.csv\").__iter__()\r\n",
        "next(t)\r\n",
        "next(t)\r\n",
        "#############################\r\n",
        "\r\n",
        "\r\n",
        "\r\n",
        "\r\n",
        "\r\n",
        "\r\n",
        "# 4.\r\n",
        "\"\"\"\r\n",
        "What is a Generator?\r\n",
        "    4.1 Simply speaking, a generator is a function that\r\n",
        "        returns an object (iterator) which we can iterate\r\n",
        "        over (one value at a time).\r\n",
        "\r\n",
        "    4.2 A generator returns an iterator. It is an Object\r\n",
        "#       one can use in 'for..in' loop. It uses 'yield'\r\n",
        "#       to return the value.\r\n",
        "#   4.3 So what is the difference between 'yield' and 'return'\r\n",
        "#       each time generator() is called in the for-loop,\r\n",
        "#       it remembers its earlier state: this is because of\r\n",
        "#       'yield'. A 'return' does not remember the earlier\r\n",
        "#        state.\r\n",
        "#  4.4 In short, a generator looks like a function but\r\n",
        "#      behaves like an iterator.\r\n",
        "\r\n",
        "\"\"\"\r\n",
        "\r\n",
        "\"\"\"\r\n",
        "So what would an image datagenerator\r\n",
        "would look like?\r\n",
        "\r\n",
        "    def imagedatagenr(image):\r\n",
        "        while True:\r\n",
        "            Process image randomly\r\n",
        "            yield image\r\n",
        "\r\n",
        "But in sklearn we have to maintain\r\n",
        "some discipline. And also we have\r\n",
        "some constraints. So we use fit()\r\n",
        "and flow() functions, as:\r\n",
        "\r\n",
        "Step1: Returns a learning object\r\n",
        "dg = ImageDataGenerator(\r\n",
        "                        What would be done to an image\r\n",
        "                       )\r\n",
        "\r\n",
        "Step2: Learn\r\n",
        "dg.fit(X_train,y_train)\r\n",
        "\r\n",
        "\r\n",
        "Step3: Transform and return\r\n",
        "dg.flow(X_train,\r\n",
        "        y_train,\r\n",
        "        batch_size = 32\r\n",
        "        )\r\n",
        "\r\n",
        "Step4: Apply same learning on X_test\r\n",
        "dg.flow(X_test,\r\n",
        "        y_test,\r\n",
        "        batch_size = 32\r\n",
        "        )\r\n",
        "\r\n",
        "\r\n",
        "\"\"\"\r\n",
        "\r\n",
        "\r\n",
        "\r\n",
        "\r\n",
        "\r\n",
        "#################\r\n",
        "# 5. Another example\r\n",
        "#    https://realpython.com/introduction-to-python-generators/\r\n",
        "#################\r\n",
        "\r\n",
        "\r\n",
        "# 5.1 Execution begins at the start of the function\r\n",
        "#     When calling next() the first time,\r\n",
        "#     body and continues until the next yield statement\r\n",
        "#     where the value to the right of the statement is returned,\r\n",
        "#     subsequent calls to next() continue from the yield statement\r\n",
        "#     to the end of the function, and loop around and continue from\r\n",
        "#     the start of the function body until another yield is called.\r\n",
        "\r\n",
        "# 5.2\r\n",
        "def countdown(num):\r\n",
        "    print('Starting')\r\n",
        "    i = 0\r\n",
        "    while num > 0:\r\n",
        "        i = i+1          # Note that even value of 'i' will be remembered\r\n",
        "        print(i)         #  between calls even though it is not 'yielded'\r\n",
        "        yield num\r\n",
        "        num -= 1\r\n",
        "\r\n",
        "# 5.3\r\n",
        "val = countdown(5)\r\n",
        "val\r\n",
        "\r\n",
        "# 5.4\r\n",
        "next(val)\r\n",
        "# 5.5\r\n",
        "next(val)\r\n",
        "\r\n",
        "\r\n",
        "\r\n",
        "########## I am done here ###################\r\n",
        "\r\n",
        "\r\n",
        "#################\r\n",
        "# 6. Third example\r\n",
        "#################\r\n",
        "\r\n",
        "from itertools import count\r\n",
        "\r\n",
        "# itertools provide count to generate infinite stream\r\n",
        "#  of integer. You can give start and step to tell starting\r\n",
        "#   and stepping value for the generated stream. I am going\r\n",
        "#    to use this in the following example.\r\n",
        "\r\n",
        "# 6.1\r\n",
        "for i in count(start=0, step=1):\r\n",
        "    print(i)\r\n",
        "\r\n",
        "# 6.2 A simple example to generate list of even numbers.\r\n",
        "#     Build and return a list:\r\n",
        "\r\n",
        "def find_even_number_generator(number_stream):\r\n",
        "    for n in number_stream:\r\n",
        "        if n % 2 == 0:\r\n",
        "            yield n\r\n",
        "\r\n",
        "# 6.3\r\n",
        "for i in find_even_number_generator(count()):\r\n",
        "    print(i)\r\n",
        "\r\n",
        "#################################\r\n"
      ],
      "execution_count": null,
      "outputs": []
    }
  ]
}