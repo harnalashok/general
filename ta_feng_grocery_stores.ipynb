{
  "nbformat": 4,
  "nbformat_minor": 0,
  "metadata": {
    "colab": {
      "name": "ta_feng grocery stores.ipynb",
      "provenance": [],
      "collapsed_sections": [
        "NQuD_ylSyVqx",
        "cX0vJ5vDyZJw",
        "z9MoDfeyycJQ",
        "X1ShIL5dygEw",
        "UPoYgpIO-bmS",
        "c3_2aheH-fPX",
        "7mchMyVP-iFy",
        "MEBJ08Jh-sd3",
        "eEyt-MHh-vx2"
      ],
      "authorship_tag": "ABX9TyMoti1thX6fYO8l3mCCJtUF",
      "include_colab_link": true
    },
    "kernelspec": {
      "name": "python3",
      "display_name": "Python 3"
    },
    "language_info": {
      "name": "python"
    }
  },
  "cells": [
    {
      "cell_type": "markdown",
      "metadata": {
        "id": "view-in-github",
        "colab_type": "text"
      },
      "source": [
        "<a href=\"https://colab.research.google.com/github/harnalashok/general/blob/master/ta_feng_grocery_stores.ipynb\" target=\"_parent\"><img src=\"https://colab.research.google.com/assets/colab-badge.svg\" alt=\"Open In Colab\"/></a>"
      ]
    },
    {
      "cell_type": "code",
      "source": [
        "%matplotlib inline"
      ],
      "metadata": {
        "id": "Ap0wBzxytEt4"
      },
      "execution_count": 41,
      "outputs": []
    },
    {
      "cell_type": "code",
      "execution_count": null,
      "metadata": {
        "id": "ucrjym_NsmZc"
      },
      "outputs": [],
      "source": [
        "\"\"\"\n",
        "Last amended: 26th May, 2022\n",
        "My folder: /home/ashok/Documents/ta_feng_grocerystore\n",
        "           C:\\Users\\ashok\\OneDrive\\Documents\\Ta Feng Grocery Datasets\n",
        "\n",
        "Ref:\n",
        "     https://pandas.pydata.org/pandas-docs/stable/cookbook.html#cookbook-grouping\n",
        "     https://pandas.pydata.org/pandas-docs/stable/groupby.html\n",
        "\n",
        "####################################################################3\n",
        "# Ta Feng Grocery dataset\n",
        "# Data Source: http://stackoverflow.com/questions/25014904/download-link-for-ta-feng-grocery-dataset\n",
        "#\tOther grocery datasets:\n",
        "#\t\thttps://sites.google.com/a/dlpage.phi-integration.com/pentaho/mondrian/mysql-foodmart-database/foodmart_mysql.tar.gz?attredirects=0\n",
        "#\t\thttp://recsyswiki.com/wiki/Grocery_shopping_datasets\n",
        "# References on clustering/customer segmentation or on kohonen SOM:\n",
        "# \t\t1. https://cran.r-project.org/web/views/Cluster.html\n",
        "#   \t2. http://www.shanelynn.ie/self-organising-maps-for-customer-segmentation-using-r/\n",
        "#\t\t3. General on kohonen: https://dzone.com/articles/self-organizing-maps\n",
        "#\t\t4. http://www.slideshare.net/jonsedar/customer-clustering-for-marketing\n",
        "#\n",
        "####################################################################\n",
        "\n",
        "# Objectives:\n",
        "            1. Reducing dataframe memory\n",
        "            2. Understand customer behaviour (using pandas groupby)\n",
        "            3. Chi-square Tests and mosaic plot\n",
        "            4. t-test of means\n",
        "            5. Feature Engineering\n",
        "\n",
        " ----Customer Behaviour----\n",
        " For  every customer (unique customerid)\n",
        "\t  Record his first purchase date\n",
        "\t  Record his last purchase date\n",
        "\t  Which customers purchase just one-time\n",
        "\t  Who are repeat purchasers\tor who have visited more than once\n",
        "\t  Record every customers total purchases\n",
        "\t  Record every customers average purchases\n",
        "\t  Record his basket of purchases: Variety of goods he purchases\n",
        "   Per visit/per transaction min. max items purchased and avg money spent\n",
        " For your store:\n",
        "\t  What is the distribution of customers age-wise?\n",
        "\t  What is the distribution of age, res-area-wise\n",
        "\t  Age wise what is the average purchase basket\n",
        "   Is there age preference for a particular product sub-class\n",
        " For a product-subclass\n",
        "\t  Which product-subclass brings most revenue\n",
        "   Which productids are most popular\n",
        "\tWhich productIds are most costly\n",
        "   And which customers purchase them?\n",
        " Tests:\n",
        "   IS there a relationship between age and product_subclass\n",
        "   IS there a relationship between residence_area and product_subclass\n",
        "   IS there a relationship between age and residence_area\n",
        "\n",
        "   Is there significant difference in avg spending, age-wise\n",
        "   Is there significant difference in avg spending, residence wise\n",
        "\n",
        " Questions not answered\n",
        "   Which days of week show heavy spending\n",
        "   Which days of month show heavy spending\n",
        "   Which days of week show least spending\n",
        "   which days of month show leat spending\n",
        "   What is customer life-time value\n",
        "   What are quarter-wise sales of product (use thicken())\n",
        "# *******************************\n",
        " ----Feature Engineering ----\n",
        "# *******************************\n",
        "  i)  Add a column to d12, that has counts of product_subclass\n",
        "      as many times as it occurs (FE1)\n",
        "  ii) Add a column to d12, that has counts of (age, residence_area)\n",
        "      as many times as the combination occurs (FE2)\n",
        " iii) Add a column that has variance of (age,residence_area) wise spending (FE3)\n",
        " iv)  Create a loop for the purpose (FE4)\n",
        "\n",
        "\n",
        "\"\"\"\n"
      ]
    },
    {
      "cell_type": "markdown",
      "source": [
        "## Call libraries"
      ],
      "metadata": {
        "id": "NQuD_ylSyVqx"
      }
    },
    {
      "cell_type": "code",
      "source": [
        "## Call libraries\n",
        "# 1.0 Reset memory\n",
        "#     ipython magic command\n",
        "#%reset -f\n",
        "import pandas as pd\n",
        "import numpy as np\n",
        "\n",
        "\n",
        "# 1.1 For chi-square tests\n",
        "from scipy.stats import chi2_contingency\n",
        "\n",
        "# 1.2 For t-test\n",
        "from scipy.stats import ttest_ind\n",
        "# 1.3 Finding out score at a percentile point and\n",
        "#     pearson correlation coeff function\n",
        "from scipy.stats import scoreatpercentile, pearsonr\n",
        "\n",
        "\n",
        "# 1.4\n",
        "import matplotlib.pyplot as plt\n",
        "import seaborn as sns\n",
        "# 1.4.1 Mosaic plots\n",
        "# https://www.statsmodels.org/dev/graphics.html\n",
        "# https://www.statsmodels.org/dev/generated/statsmodels.graphics.mosaicplot.mosaic.html#statsmodels.graphics.mosaicplot.mosaic\n",
        "from statsmodels.graphics.mosaicplot import mosaic\n",
        "\n",
        "\n",
        "# 1.5 Misc facilities\n",
        "from collections import Counter\n",
        "import os, time, sys, gc\n"
      ],
      "metadata": {
        "id": "OOJ2GVsptCtF"
      },
      "execution_count": 43,
      "outputs": []
    },
    {
      "cell_type": "code",
      "source": [
        "# 1.6 Print/display mutiple command outputs from a jupyter cell\n",
        "from IPython.core.interactiveshell import InteractiveShell\n",
        "InteractiveShell.ast_node_interactivity = \"all\""
      ],
      "metadata": {
        "id": "VY8L-8z6s7My"
      },
      "execution_count": 44,
      "outputs": []
    },
    {
      "cell_type": "markdown",
      "source": [
        "## Mount gdrive"
      ],
      "metadata": {
        "id": "cX0vJ5vDyZJw"
      }
    },
    {
      "cell_type": "code",
      "source": [
        "# 1.7 Mount gdrive\n",
        "from google.colab import drive\n",
        "drive.mount('/gdrive')"
      ],
      "metadata": {
        "colab": {
          "base_uri": "https://localhost:8080/"
        },
        "id": "qcRWg0hItyp6",
        "outputId": "ada38c2c-a1a1-435f-da59-fc46e101ead2"
      },
      "execution_count": 45,
      "outputs": [
        {
          "output_type": "stream",
          "name": "stdout",
          "text": [
            "Drive already mounted at /gdrive; to attempt to forcibly remount, call drive.mount(\"/gdrive\", force_remount=True).\n"
          ]
        }
      ]
    },
    {
      "cell_type": "code",
      "source": [
        "# 2.0 Set working folder and list files\n",
        "#\n",
        "pathToFolder = \"/gdrive/MyDrive/Colab_data_files/ta_feng_grocery store\"\n",
        "os.chdir(pathToFolder)\n",
        "os.listdir()\n"
      ],
      "metadata": {
        "colab": {
          "base_uri": "https://localhost:8080/"
        },
        "id": "S5jvADQpw4Ci",
        "outputId": "542131f4-cb93-498f-d612-a48c5fa5a007"
      },
      "execution_count": 46,
      "outputs": [
        {
          "output_type": "execute_result",
          "data": {
            "text/plain": [
              "['customer segmentation.pdf', 'About Ta Feng dataset.txt', 'dall.csv.zip']"
            ]
          },
          "metadata": {},
          "execution_count": 46
        }
      ]
    },
    {
      "cell_type": "markdown",
      "source": [
        "## Define function to reduce mem usage"
      ],
      "metadata": {
        "id": "z9MoDfeyycJQ"
      }
    },
    {
      "cell_type": "code",
      "source": [
        "# 2.1 This function reduces memory usage of a DataFrame\n",
        "# Ref: https://www.kaggle.com/c/champs-scalar-coupling/discussion/96655\n",
        "def reduce_mem_usage(df, verbose=True):\n",
        "    numerics = ['int16', 'int32', 'int64', 'float16', 'float32', 'float64']\n",
        "    start_mem = df.memory_usage().sum() / 1024**2\n",
        "    for col in df.columns:\n",
        "        col_type = df[col].dtypes\n",
        "        if col_type in numerics:\n",
        "            c_min = df[col].min()\n",
        "            c_max = df[col].max()\n",
        "            if str(col_type)[:3] == 'int':\n",
        "                if c_min > np.iinfo(np.int8).min and c_max < np.iinfo(np.int8).max:\n",
        "                    df[col] = df[col].astype(np.int8)\n",
        "                elif c_min > np.iinfo(np.int16).min and c_max < np.iinfo(np.int16).max:\n",
        "                    df[col] = df[col].astype(np.int16)\n",
        "                elif c_min > np.iinfo(np.int32).min and c_max < np.iinfo(np.int32).max:\n",
        "                    df[col] = df[col].astype(np.int32)\n",
        "                elif c_min > np.iinfo(np.int64).min and c_max < np.iinfo(np.int64).max:\n",
        "                    df[col] = df[col].astype(np.int64)\n",
        "            else:\n",
        "                c_prec = df[col].apply(lambda x: np.finfo(x).precision).max()\n",
        "                if c_min > np.finfo(np.float16).min and c_max < np.finfo(np.float16).max and c_prec == np.finfo(np.float16).precision:\n",
        "                    df[col] = df[col].astype(np.float16)\n",
        "                elif c_min > np.finfo(np.float32).min and c_max < np.finfo(np.float32).max and c_prec == np.finfo(np.float32).precision:\n",
        "                    df[col] = df[col].astype(np.float32)\n",
        "                else:\n",
        "                    df[col] = df[col].astype(np.float64)\n",
        "    end_mem = df.memory_usage().sum() / 1024**2\n",
        "    if verbose: print('Mem. usage decreased to {:5.2f} Mb ({:.1f}% reduction)'.format(end_mem, 100 * (start_mem - end_mem) / start_mem))\n",
        "    return df"
      ],
      "metadata": {
        "id": "p8-fPXWOum5R"
      },
      "execution_count": 47,
      "outputs": []
    },
    {
      "cell_type": "markdown",
      "source": [
        "## Read data"
      ],
      "metadata": {
        "id": "X1ShIL5dygEw"
      }
    },
    {
      "cell_type": "code",
      "source": [
        "# 2.1 Read file at the same time reduce memory usage\n",
        "#df = reduce_mem_usage(pd.read_csv(\"dall.csv\"))\n",
        "# 2.1.1 Or read directly from zip file and also save memory\n",
        "df = pd.read_csv(\"dall.csv.zip\", parse_dates = ['datetime'])\n",
        "\n",
        "# 2.1.2\n",
        "df = reduce_mem_usage(df)\n",
        "gc.collect()\n"
      ],
      "metadata": {
        "colab": {
          "base_uri": "https://localhost:8080/"
        },
        "id": "N3QVXFeeunc8",
        "outputId": "484bab9c-81bc-4954-c381-162789b05c3d"
      },
      "execution_count": 48,
      "outputs": [
        {
          "output_type": "stream",
          "name": "stdout",
          "text": [
            "Mem. usage decreased to 38.99 Mb (30.6% reduction)\n"
          ]
        },
        {
          "output_type": "execute_result",
          "data": {
            "text/plain": [
              "3001"
            ]
          },
          "metadata": {},
          "execution_count": 48
        }
      ]
    },
    {
      "cell_type": "code",
      "source": [
        "# 2.1.3 Some exploration\n",
        "df.head()\n",
        "df.tail()\n",
        "df.dtypes\n",
        "df.describe()"
      ],
      "metadata": {
        "colab": {
          "base_uri": "https://localhost:8080/",
          "height": 916
        },
        "id": "_vgpQx9FywGd",
        "outputId": "3b0f5e6a-2c09-4f3c-b286-00b938f0e29f"
      },
      "execution_count": 49,
      "outputs": [
        {
          "output_type": "execute_result",
          "data": {
            "text/plain": [
              "    datetime  customerid age residence_area  product_subclass      productid  \\\n",
              "0 2000-11-01       46855   D              E            110411  4710085120468   \n",
              "1 2000-11-01      539166   E              E            130315  4714981010038   \n",
              "2 2000-11-01      663373   F              E            110217  4710265847666   \n",
              "3 2000-11-01      340625   A              E            110411  4710085120697   \n",
              "4 2000-11-01      236645   D              H            712901  8999002568972   \n",
              "\n",
              "   quantity  asset  salesprice  \n",
              "0         3     51          57  \n",
              "1         2     56          48  \n",
              "2         1    180         135  \n",
              "3         1     17          24  \n",
              "4         2    128         170  "
            ],
            "text/html": [
              "\n",
              "  <div id=\"df-20f0a81b-119c-4891-acb8-07b97610dd24\">\n",
              "    <div class=\"colab-df-container\">\n",
              "      <div>\n",
              "<style scoped>\n",
              "    .dataframe tbody tr th:only-of-type {\n",
              "        vertical-align: middle;\n",
              "    }\n",
              "\n",
              "    .dataframe tbody tr th {\n",
              "        vertical-align: top;\n",
              "    }\n",
              "\n",
              "    .dataframe thead th {\n",
              "        text-align: right;\n",
              "    }\n",
              "</style>\n",
              "<table border=\"1\" class=\"dataframe\">\n",
              "  <thead>\n",
              "    <tr style=\"text-align: right;\">\n",
              "      <th></th>\n",
              "      <th>datetime</th>\n",
              "      <th>customerid</th>\n",
              "      <th>age</th>\n",
              "      <th>residence_area</th>\n",
              "      <th>product_subclass</th>\n",
              "      <th>productid</th>\n",
              "      <th>quantity</th>\n",
              "      <th>asset</th>\n",
              "      <th>salesprice</th>\n",
              "    </tr>\n",
              "  </thead>\n",
              "  <tbody>\n",
              "    <tr>\n",
              "      <th>0</th>\n",
              "      <td>2000-11-01</td>\n",
              "      <td>46855</td>\n",
              "      <td>D</td>\n",
              "      <td>E</td>\n",
              "      <td>110411</td>\n",
              "      <td>4710085120468</td>\n",
              "      <td>3</td>\n",
              "      <td>51</td>\n",
              "      <td>57</td>\n",
              "    </tr>\n",
              "    <tr>\n",
              "      <th>1</th>\n",
              "      <td>2000-11-01</td>\n",
              "      <td>539166</td>\n",
              "      <td>E</td>\n",
              "      <td>E</td>\n",
              "      <td>130315</td>\n",
              "      <td>4714981010038</td>\n",
              "      <td>2</td>\n",
              "      <td>56</td>\n",
              "      <td>48</td>\n",
              "    </tr>\n",
              "    <tr>\n",
              "      <th>2</th>\n",
              "      <td>2000-11-01</td>\n",
              "      <td>663373</td>\n",
              "      <td>F</td>\n",
              "      <td>E</td>\n",
              "      <td>110217</td>\n",
              "      <td>4710265847666</td>\n",
              "      <td>1</td>\n",
              "      <td>180</td>\n",
              "      <td>135</td>\n",
              "    </tr>\n",
              "    <tr>\n",
              "      <th>3</th>\n",
              "      <td>2000-11-01</td>\n",
              "      <td>340625</td>\n",
              "      <td>A</td>\n",
              "      <td>E</td>\n",
              "      <td>110411</td>\n",
              "      <td>4710085120697</td>\n",
              "      <td>1</td>\n",
              "      <td>17</td>\n",
              "      <td>24</td>\n",
              "    </tr>\n",
              "    <tr>\n",
              "      <th>4</th>\n",
              "      <td>2000-11-01</td>\n",
              "      <td>236645</td>\n",
              "      <td>D</td>\n",
              "      <td>H</td>\n",
              "      <td>712901</td>\n",
              "      <td>8999002568972</td>\n",
              "      <td>2</td>\n",
              "      <td>128</td>\n",
              "      <td>170</td>\n",
              "    </tr>\n",
              "  </tbody>\n",
              "</table>\n",
              "</div>\n",
              "      <button class=\"colab-df-convert\" onclick=\"convertToInteractive('df-20f0a81b-119c-4891-acb8-07b97610dd24')\"\n",
              "              title=\"Convert this dataframe to an interactive table.\"\n",
              "              style=\"display:none;\">\n",
              "        \n",
              "  <svg xmlns=\"http://www.w3.org/2000/svg\" height=\"24px\"viewBox=\"0 0 24 24\"\n",
              "       width=\"24px\">\n",
              "    <path d=\"M0 0h24v24H0V0z\" fill=\"none\"/>\n",
              "    <path d=\"M18.56 5.44l.94 2.06.94-2.06 2.06-.94-2.06-.94-.94-2.06-.94 2.06-2.06.94zm-11 1L8.5 8.5l.94-2.06 2.06-.94-2.06-.94L8.5 2.5l-.94 2.06-2.06.94zm10 10l.94 2.06.94-2.06 2.06-.94-2.06-.94-.94-2.06-.94 2.06-2.06.94z\"/><path d=\"M17.41 7.96l-1.37-1.37c-.4-.4-.92-.59-1.43-.59-.52 0-1.04.2-1.43.59L10.3 9.45l-7.72 7.72c-.78.78-.78 2.05 0 2.83L4 21.41c.39.39.9.59 1.41.59.51 0 1.02-.2 1.41-.59l7.78-7.78 2.81-2.81c.8-.78.8-2.07 0-2.86zM5.41 20L4 18.59l7.72-7.72 1.47 1.35L5.41 20z\"/>\n",
              "  </svg>\n",
              "      </button>\n",
              "      \n",
              "  <style>\n",
              "    .colab-df-container {\n",
              "      display:flex;\n",
              "      flex-wrap:wrap;\n",
              "      gap: 12px;\n",
              "    }\n",
              "\n",
              "    .colab-df-convert {\n",
              "      background-color: #E8F0FE;\n",
              "      border: none;\n",
              "      border-radius: 50%;\n",
              "      cursor: pointer;\n",
              "      display: none;\n",
              "      fill: #1967D2;\n",
              "      height: 32px;\n",
              "      padding: 0 0 0 0;\n",
              "      width: 32px;\n",
              "    }\n",
              "\n",
              "    .colab-df-convert:hover {\n",
              "      background-color: #E2EBFA;\n",
              "      box-shadow: 0px 1px 2px rgba(60, 64, 67, 0.3), 0px 1px 3px 1px rgba(60, 64, 67, 0.15);\n",
              "      fill: #174EA6;\n",
              "    }\n",
              "\n",
              "    [theme=dark] .colab-df-convert {\n",
              "      background-color: #3B4455;\n",
              "      fill: #D2E3FC;\n",
              "    }\n",
              "\n",
              "    [theme=dark] .colab-df-convert:hover {\n",
              "      background-color: #434B5C;\n",
              "      box-shadow: 0px 1px 3px 1px rgba(0, 0, 0, 0.15);\n",
              "      filter: drop-shadow(0px 1px 2px rgba(0, 0, 0, 0.3));\n",
              "      fill: #FFFFFF;\n",
              "    }\n",
              "  </style>\n",
              "\n",
              "      <script>\n",
              "        const buttonEl =\n",
              "          document.querySelector('#df-20f0a81b-119c-4891-acb8-07b97610dd24 button.colab-df-convert');\n",
              "        buttonEl.style.display =\n",
              "          google.colab.kernel.accessAllowed ? 'block' : 'none';\n",
              "\n",
              "        async function convertToInteractive(key) {\n",
              "          const element = document.querySelector('#df-20f0a81b-119c-4891-acb8-07b97610dd24');\n",
              "          const dataTable =\n",
              "            await google.colab.kernel.invokeFunction('convertToInteractive',\n",
              "                                                     [key], {});\n",
              "          if (!dataTable) return;\n",
              "\n",
              "          const docLinkHtml = 'Like what you see? Visit the ' +\n",
              "            '<a target=\"_blank\" href=https://colab.research.google.com/notebooks/data_table.ipynb>data table notebook</a>'\n",
              "            + ' to learn more about interactive tables.';\n",
              "          element.innerHTML = '';\n",
              "          dataTable['output_type'] = 'display_data';\n",
              "          await google.colab.output.renderOutput(dataTable, element);\n",
              "          const docLink = document.createElement('div');\n",
              "          docLink.innerHTML = docLinkHtml;\n",
              "          element.appendChild(docLink);\n",
              "        }\n",
              "      </script>\n",
              "    </div>\n",
              "  </div>\n",
              "  "
            ]
          },
          "metadata": {},
          "execution_count": 49
        },
        {
          "output_type": "execute_result",
          "data": {
            "text/plain": [
              "         datetime  customerid age residence_area  product_subclass  \\\n",
              "817684 2001-02-28     2127637   B              F            110403   \n",
              "817685 2001-02-28     2036397   C              F            100206   \n",
              "817686 2001-02-28     2127637   B              F            110505   \n",
              "817687 2001-02-28     2161389   A              F            500210   \n",
              "817688 2001-02-28     2015088   E              H            100324   \n",
              "\n",
              "            productid  quantity  asset  salesprice  \n",
              "817684  4710175565704         1     33          38  \n",
              "817685  4710047502677         2     60          84  \n",
              "817686  4711258004004         1    101         120  \n",
              "817687  4712425010255         2    174         192  \n",
              "817688  4713754987607         2     40          58  "
            ],
            "text/html": [
              "\n",
              "  <div id=\"df-ad61620e-0907-45a7-bd9f-d5a377c31f88\">\n",
              "    <div class=\"colab-df-container\">\n",
              "      <div>\n",
              "<style scoped>\n",
              "    .dataframe tbody tr th:only-of-type {\n",
              "        vertical-align: middle;\n",
              "    }\n",
              "\n",
              "    .dataframe tbody tr th {\n",
              "        vertical-align: top;\n",
              "    }\n",
              "\n",
              "    .dataframe thead th {\n",
              "        text-align: right;\n",
              "    }\n",
              "</style>\n",
              "<table border=\"1\" class=\"dataframe\">\n",
              "  <thead>\n",
              "    <tr style=\"text-align: right;\">\n",
              "      <th></th>\n",
              "      <th>datetime</th>\n",
              "      <th>customerid</th>\n",
              "      <th>age</th>\n",
              "      <th>residence_area</th>\n",
              "      <th>product_subclass</th>\n",
              "      <th>productid</th>\n",
              "      <th>quantity</th>\n",
              "      <th>asset</th>\n",
              "      <th>salesprice</th>\n",
              "    </tr>\n",
              "  </thead>\n",
              "  <tbody>\n",
              "    <tr>\n",
              "      <th>817684</th>\n",
              "      <td>2001-02-28</td>\n",
              "      <td>2127637</td>\n",
              "      <td>B</td>\n",
              "      <td>F</td>\n",
              "      <td>110403</td>\n",
              "      <td>4710175565704</td>\n",
              "      <td>1</td>\n",
              "      <td>33</td>\n",
              "      <td>38</td>\n",
              "    </tr>\n",
              "    <tr>\n",
              "      <th>817685</th>\n",
              "      <td>2001-02-28</td>\n",
              "      <td>2036397</td>\n",
              "      <td>C</td>\n",
              "      <td>F</td>\n",
              "      <td>100206</td>\n",
              "      <td>4710047502677</td>\n",
              "      <td>2</td>\n",
              "      <td>60</td>\n",
              "      <td>84</td>\n",
              "    </tr>\n",
              "    <tr>\n",
              "      <th>817686</th>\n",
              "      <td>2001-02-28</td>\n",
              "      <td>2127637</td>\n",
              "      <td>B</td>\n",
              "      <td>F</td>\n",
              "      <td>110505</td>\n",
              "      <td>4711258004004</td>\n",
              "      <td>1</td>\n",
              "      <td>101</td>\n",
              "      <td>120</td>\n",
              "    </tr>\n",
              "    <tr>\n",
              "      <th>817687</th>\n",
              "      <td>2001-02-28</td>\n",
              "      <td>2161389</td>\n",
              "      <td>A</td>\n",
              "      <td>F</td>\n",
              "      <td>500210</td>\n",
              "      <td>4712425010255</td>\n",
              "      <td>2</td>\n",
              "      <td>174</td>\n",
              "      <td>192</td>\n",
              "    </tr>\n",
              "    <tr>\n",
              "      <th>817688</th>\n",
              "      <td>2001-02-28</td>\n",
              "      <td>2015088</td>\n",
              "      <td>E</td>\n",
              "      <td>H</td>\n",
              "      <td>100324</td>\n",
              "      <td>4713754987607</td>\n",
              "      <td>2</td>\n",
              "      <td>40</td>\n",
              "      <td>58</td>\n",
              "    </tr>\n",
              "  </tbody>\n",
              "</table>\n",
              "</div>\n",
              "      <button class=\"colab-df-convert\" onclick=\"convertToInteractive('df-ad61620e-0907-45a7-bd9f-d5a377c31f88')\"\n",
              "              title=\"Convert this dataframe to an interactive table.\"\n",
              "              style=\"display:none;\">\n",
              "        \n",
              "  <svg xmlns=\"http://www.w3.org/2000/svg\" height=\"24px\"viewBox=\"0 0 24 24\"\n",
              "       width=\"24px\">\n",
              "    <path d=\"M0 0h24v24H0V0z\" fill=\"none\"/>\n",
              "    <path d=\"M18.56 5.44l.94 2.06.94-2.06 2.06-.94-2.06-.94-.94-2.06-.94 2.06-2.06.94zm-11 1L8.5 8.5l.94-2.06 2.06-.94-2.06-.94L8.5 2.5l-.94 2.06-2.06.94zm10 10l.94 2.06.94-2.06 2.06-.94-2.06-.94-.94-2.06-.94 2.06-2.06.94z\"/><path d=\"M17.41 7.96l-1.37-1.37c-.4-.4-.92-.59-1.43-.59-.52 0-1.04.2-1.43.59L10.3 9.45l-7.72 7.72c-.78.78-.78 2.05 0 2.83L4 21.41c.39.39.9.59 1.41.59.51 0 1.02-.2 1.41-.59l7.78-7.78 2.81-2.81c.8-.78.8-2.07 0-2.86zM5.41 20L4 18.59l7.72-7.72 1.47 1.35L5.41 20z\"/>\n",
              "  </svg>\n",
              "      </button>\n",
              "      \n",
              "  <style>\n",
              "    .colab-df-container {\n",
              "      display:flex;\n",
              "      flex-wrap:wrap;\n",
              "      gap: 12px;\n",
              "    }\n",
              "\n",
              "    .colab-df-convert {\n",
              "      background-color: #E8F0FE;\n",
              "      border: none;\n",
              "      border-radius: 50%;\n",
              "      cursor: pointer;\n",
              "      display: none;\n",
              "      fill: #1967D2;\n",
              "      height: 32px;\n",
              "      padding: 0 0 0 0;\n",
              "      width: 32px;\n",
              "    }\n",
              "\n",
              "    .colab-df-convert:hover {\n",
              "      background-color: #E2EBFA;\n",
              "      box-shadow: 0px 1px 2px rgba(60, 64, 67, 0.3), 0px 1px 3px 1px rgba(60, 64, 67, 0.15);\n",
              "      fill: #174EA6;\n",
              "    }\n",
              "\n",
              "    [theme=dark] .colab-df-convert {\n",
              "      background-color: #3B4455;\n",
              "      fill: #D2E3FC;\n",
              "    }\n",
              "\n",
              "    [theme=dark] .colab-df-convert:hover {\n",
              "      background-color: #434B5C;\n",
              "      box-shadow: 0px 1px 3px 1px rgba(0, 0, 0, 0.15);\n",
              "      filter: drop-shadow(0px 1px 2px rgba(0, 0, 0, 0.3));\n",
              "      fill: #FFFFFF;\n",
              "    }\n",
              "  </style>\n",
              "\n",
              "      <script>\n",
              "        const buttonEl =\n",
              "          document.querySelector('#df-ad61620e-0907-45a7-bd9f-d5a377c31f88 button.colab-df-convert');\n",
              "        buttonEl.style.display =\n",
              "          google.colab.kernel.accessAllowed ? 'block' : 'none';\n",
              "\n",
              "        async function convertToInteractive(key) {\n",
              "          const element = document.querySelector('#df-ad61620e-0907-45a7-bd9f-d5a377c31f88');\n",
              "          const dataTable =\n",
              "            await google.colab.kernel.invokeFunction('convertToInteractive',\n",
              "                                                     [key], {});\n",
              "          if (!dataTable) return;\n",
              "\n",
              "          const docLinkHtml = 'Like what you see? Visit the ' +\n",
              "            '<a target=\"_blank\" href=https://colab.research.google.com/notebooks/data_table.ipynb>data table notebook</a>'\n",
              "            + ' to learn more about interactive tables.';\n",
              "          element.innerHTML = '';\n",
              "          dataTable['output_type'] = 'display_data';\n",
              "          await google.colab.output.renderOutput(dataTable, element);\n",
              "          const docLink = document.createElement('div');\n",
              "          docLink.innerHTML = docLinkHtml;\n",
              "          element.appendChild(docLink);\n",
              "        }\n",
              "      </script>\n",
              "    </div>\n",
              "  </div>\n",
              "  "
            ]
          },
          "metadata": {},
          "execution_count": 49
        },
        {
          "output_type": "execute_result",
          "data": {
            "text/plain": [
              "datetime            datetime64[ns]\n",
              "customerid                   int32\n",
              "age                         object\n",
              "residence_area              object\n",
              "product_subclass             int32\n",
              "productid                    int64\n",
              "quantity                     int16\n",
              "asset                        int32\n",
              "salesprice                   int32\n",
              "dtype: object"
            ]
          },
          "metadata": {},
          "execution_count": 49
        },
        {
          "output_type": "execute_result",
          "data": {
            "text/plain": [
              "         customerid  product_subclass     productid       quantity  \\\n",
              "count  8.176890e+05     817689.000000  8.176890e+05  817689.000000   \n",
              "mean   1.406627e+06     284949.244709  4.461631e+12       1.381783   \n",
              "std    7.489881e+05     226390.225824  1.690096e+12       2.897561   \n",
              "min    1.069000e+03     100101.000000  2.000882e+07       1.000000   \n",
              "25%    9.692220e+05     110106.000000  4.710085e+12       1.000000   \n",
              "50%    1.587722e+06     130106.000000  4.710421e+12       1.000000   \n",
              "75%    1.854930e+06     520314.000000  4.712500e+12       1.000000   \n",
              "max    2.000200e+07     780510.000000  9.789580e+12    1200.000000   \n",
              "\n",
              "               asset     salesprice  \n",
              "count  817689.000000  817689.000000  \n",
              "mean      112.110445     131.875923  \n",
              "std       603.680287     631.076586  \n",
              "min         0.000000       1.000000  \n",
              "25%        35.000000      42.000000  \n",
              "50%        62.000000      76.000000  \n",
              "75%       112.000000     132.000000  \n",
              "max    432000.000000  444000.000000  "
            ],
            "text/html": [
              "\n",
              "  <div id=\"df-9b6cb589-0f5f-4de5-8225-d833c116c42b\">\n",
              "    <div class=\"colab-df-container\">\n",
              "      <div>\n",
              "<style scoped>\n",
              "    .dataframe tbody tr th:only-of-type {\n",
              "        vertical-align: middle;\n",
              "    }\n",
              "\n",
              "    .dataframe tbody tr th {\n",
              "        vertical-align: top;\n",
              "    }\n",
              "\n",
              "    .dataframe thead th {\n",
              "        text-align: right;\n",
              "    }\n",
              "</style>\n",
              "<table border=\"1\" class=\"dataframe\">\n",
              "  <thead>\n",
              "    <tr style=\"text-align: right;\">\n",
              "      <th></th>\n",
              "      <th>customerid</th>\n",
              "      <th>product_subclass</th>\n",
              "      <th>productid</th>\n",
              "      <th>quantity</th>\n",
              "      <th>asset</th>\n",
              "      <th>salesprice</th>\n",
              "    </tr>\n",
              "  </thead>\n",
              "  <tbody>\n",
              "    <tr>\n",
              "      <th>count</th>\n",
              "      <td>8.176890e+05</td>\n",
              "      <td>817689.000000</td>\n",
              "      <td>8.176890e+05</td>\n",
              "      <td>817689.000000</td>\n",
              "      <td>817689.000000</td>\n",
              "      <td>817689.000000</td>\n",
              "    </tr>\n",
              "    <tr>\n",
              "      <th>mean</th>\n",
              "      <td>1.406627e+06</td>\n",
              "      <td>284949.244709</td>\n",
              "      <td>4.461631e+12</td>\n",
              "      <td>1.381783</td>\n",
              "      <td>112.110445</td>\n",
              "      <td>131.875923</td>\n",
              "    </tr>\n",
              "    <tr>\n",
              "      <th>std</th>\n",
              "      <td>7.489881e+05</td>\n",
              "      <td>226390.225824</td>\n",
              "      <td>1.690096e+12</td>\n",
              "      <td>2.897561</td>\n",
              "      <td>603.680287</td>\n",
              "      <td>631.076586</td>\n",
              "    </tr>\n",
              "    <tr>\n",
              "      <th>min</th>\n",
              "      <td>1.069000e+03</td>\n",
              "      <td>100101.000000</td>\n",
              "      <td>2.000882e+07</td>\n",
              "      <td>1.000000</td>\n",
              "      <td>0.000000</td>\n",
              "      <td>1.000000</td>\n",
              "    </tr>\n",
              "    <tr>\n",
              "      <th>25%</th>\n",
              "      <td>9.692220e+05</td>\n",
              "      <td>110106.000000</td>\n",
              "      <td>4.710085e+12</td>\n",
              "      <td>1.000000</td>\n",
              "      <td>35.000000</td>\n",
              "      <td>42.000000</td>\n",
              "    </tr>\n",
              "    <tr>\n",
              "      <th>50%</th>\n",
              "      <td>1.587722e+06</td>\n",
              "      <td>130106.000000</td>\n",
              "      <td>4.710421e+12</td>\n",
              "      <td>1.000000</td>\n",
              "      <td>62.000000</td>\n",
              "      <td>76.000000</td>\n",
              "    </tr>\n",
              "    <tr>\n",
              "      <th>75%</th>\n",
              "      <td>1.854930e+06</td>\n",
              "      <td>520314.000000</td>\n",
              "      <td>4.712500e+12</td>\n",
              "      <td>1.000000</td>\n",
              "      <td>112.000000</td>\n",
              "      <td>132.000000</td>\n",
              "    </tr>\n",
              "    <tr>\n",
              "      <th>max</th>\n",
              "      <td>2.000200e+07</td>\n",
              "      <td>780510.000000</td>\n",
              "      <td>9.789580e+12</td>\n",
              "      <td>1200.000000</td>\n",
              "      <td>432000.000000</td>\n",
              "      <td>444000.000000</td>\n",
              "    </tr>\n",
              "  </tbody>\n",
              "</table>\n",
              "</div>\n",
              "      <button class=\"colab-df-convert\" onclick=\"convertToInteractive('df-9b6cb589-0f5f-4de5-8225-d833c116c42b')\"\n",
              "              title=\"Convert this dataframe to an interactive table.\"\n",
              "              style=\"display:none;\">\n",
              "        \n",
              "  <svg xmlns=\"http://www.w3.org/2000/svg\" height=\"24px\"viewBox=\"0 0 24 24\"\n",
              "       width=\"24px\">\n",
              "    <path d=\"M0 0h24v24H0V0z\" fill=\"none\"/>\n",
              "    <path d=\"M18.56 5.44l.94 2.06.94-2.06 2.06-.94-2.06-.94-.94-2.06-.94 2.06-2.06.94zm-11 1L8.5 8.5l.94-2.06 2.06-.94-2.06-.94L8.5 2.5l-.94 2.06-2.06.94zm10 10l.94 2.06.94-2.06 2.06-.94-2.06-.94-.94-2.06-.94 2.06-2.06.94z\"/><path d=\"M17.41 7.96l-1.37-1.37c-.4-.4-.92-.59-1.43-.59-.52 0-1.04.2-1.43.59L10.3 9.45l-7.72 7.72c-.78.78-.78 2.05 0 2.83L4 21.41c.39.39.9.59 1.41.59.51 0 1.02-.2 1.41-.59l7.78-7.78 2.81-2.81c.8-.78.8-2.07 0-2.86zM5.41 20L4 18.59l7.72-7.72 1.47 1.35L5.41 20z\"/>\n",
              "  </svg>\n",
              "      </button>\n",
              "      \n",
              "  <style>\n",
              "    .colab-df-container {\n",
              "      display:flex;\n",
              "      flex-wrap:wrap;\n",
              "      gap: 12px;\n",
              "    }\n",
              "\n",
              "    .colab-df-convert {\n",
              "      background-color: #E8F0FE;\n",
              "      border: none;\n",
              "      border-radius: 50%;\n",
              "      cursor: pointer;\n",
              "      display: none;\n",
              "      fill: #1967D2;\n",
              "      height: 32px;\n",
              "      padding: 0 0 0 0;\n",
              "      width: 32px;\n",
              "    }\n",
              "\n",
              "    .colab-df-convert:hover {\n",
              "      background-color: #E2EBFA;\n",
              "      box-shadow: 0px 1px 2px rgba(60, 64, 67, 0.3), 0px 1px 3px 1px rgba(60, 64, 67, 0.15);\n",
              "      fill: #174EA6;\n",
              "    }\n",
              "\n",
              "    [theme=dark] .colab-df-convert {\n",
              "      background-color: #3B4455;\n",
              "      fill: #D2E3FC;\n",
              "    }\n",
              "\n",
              "    [theme=dark] .colab-df-convert:hover {\n",
              "      background-color: #434B5C;\n",
              "      box-shadow: 0px 1px 3px 1px rgba(0, 0, 0, 0.15);\n",
              "      filter: drop-shadow(0px 1px 2px rgba(0, 0, 0, 0.3));\n",
              "      fill: #FFFFFF;\n",
              "    }\n",
              "  </style>\n",
              "\n",
              "      <script>\n",
              "        const buttonEl =\n",
              "          document.querySelector('#df-9b6cb589-0f5f-4de5-8225-d833c116c42b button.colab-df-convert');\n",
              "        buttonEl.style.display =\n",
              "          google.colab.kernel.accessAllowed ? 'block' : 'none';\n",
              "\n",
              "        async function convertToInteractive(key) {\n",
              "          const element = document.querySelector('#df-9b6cb589-0f5f-4de5-8225-d833c116c42b');\n",
              "          const dataTable =\n",
              "            await google.colab.kernel.invokeFunction('convertToInteractive',\n",
              "                                                     [key], {});\n",
              "          if (!dataTable) return;\n",
              "\n",
              "          const docLinkHtml = 'Like what you see? Visit the ' +\n",
              "            '<a target=\"_blank\" href=https://colab.research.google.com/notebooks/data_table.ipynb>data table notebook</a>'\n",
              "            + ' to learn more about interactive tables.';\n",
              "          element.innerHTML = '';\n",
              "          dataTable['output_type'] = 'display_data';\n",
              "          await google.colab.output.renderOutput(dataTable, element);\n",
              "          const docLink = document.createElement('div');\n",
              "          docLink.innerHTML = docLinkHtml;\n",
              "          element.appendChild(docLink);\n",
              "        }\n",
              "      </script>\n",
              "    </div>\n",
              "  </div>\n",
              "  "
            ]
          },
          "metadata": {},
          "execution_count": 49
        }
      ]
    },
    {
      "cell_type": "code",
      "source": [
        "# 2.1.4. We have no use for 'asset' column. Drop it\n",
        "df.drop(columns = ['asset'], inplace = True)\n"
      ],
      "metadata": {
        "id": "_85-5nkpy0jz"
      },
      "execution_count": 50,
      "outputs": []
    },
    {
      "cell_type": "code",
      "source": [
        "# 3.1\n",
        "# To further save memory, transform following five attributes\n",
        "#  to pandas 'category' type\n",
        "#  customerid (int64), product_subclass (int64),\n",
        "#  residence_area (object), age (object), productid (int64)\n",
        "#  Remember: This is only a space saving measure.\n",
        "print(\"Earlier memory: \", df.memory_usage().sum())\n",
        "df['customerid'] = df['customerid'].astype('category')\n",
        "df['product_subclass'] = df['product_subclass'].astype('category')\n",
        "df['residence_area'] = df['residence_area'].astype('category')\n",
        "df['age'] = df['age'].astype('category')\n",
        "df['productid'] = df['productid'].astype('category')\n",
        "print(\"Present memory: \", df.memory_usage().sum())\n",
        "print()\n",
        "gc.collect()            # Release memory back to system\n"
      ],
      "metadata": {
        "colab": {
          "base_uri": "https://localhost:8080/"
        },
        "id": "FYB3cBipy_BA",
        "outputId": "d21c9b4c-a01d-4b4e-949b-52806d185bb5"
      },
      "execution_count": 51,
      "outputs": [
        {
          "output_type": "stream",
          "name": "stdout",
          "text": [
            "Earlier memory:  37613822\n",
            "Present memory:  20106078\n",
            "\n"
          ]
        },
        {
          "output_type": "execute_result",
          "data": {
            "text/plain": [
              "103"
            ]
          },
          "metadata": {},
          "execution_count": 51
        }
      ]
    },
    {
      "cell_type": "code",
      "source": [
        "# 3.2 To extract year, month, day`etc operate as follows:\n",
        "# Ref:https://pandas.pydata.org/pandas-docs/version/0.22/api.html#datetimelike-properties\n",
        "#     https://pandas.pydata.org/pandas-docs/stable/generated/pandas.DatetimeIndex.html\n",
        "\n",
        "# 3.2.1 \n",
        "df['year'] =  df['datetime'].dt.year\n",
        "df['month']= df['datetime'].dt.month\n",
        "df['day'] = df['datetime'].dt.day"
      ],
      "metadata": {
        "id": "P0CUPEixz6Os"
      },
      "execution_count": 52,
      "outputs": []
    },
    {
      "cell_type": "markdown",
      "source": [
        "## Start asking questions"
      ],
      "metadata": {
        "id": "hse5UD3V100o"
      }
    },
    {
      "cell_type": "markdown",
      "source": [
        "### Q1"
      ],
      "metadata": {
        "id": "UPoYgpIO-bmS"
      }
    },
    {
      "cell_type": "code",
      "source": [
        "# 4 (Q1) How many unique customers, productids & product_subclasses exist\n",
        "print(\"\\n Unique customer Ids--\")\n",
        "df['customerid'].nunique()                      # 32266\n",
        "print(\"\\n\\n==Value counts==\")\n",
        "df['customerid'].value_counts()                 # 32266\n",
        "df['customerid'].value_counts().shape           # 32266\n",
        "print(\"\\n\\n==Unique products Ids==\")\n",
        "df['productid'].nunique()                       # 23812\n",
        "print(\"\\n\\n==Unique Product classes Ids==\")\n",
        "df['product_subclass'].nunique()                # 2012"
      ],
      "metadata": {
        "colab": {
          "base_uri": "https://localhost:8080/"
        },
        "id": "HzFoP8Bu1bI0",
        "outputId": "9b627d3f-fb44-40d7-c42c-4256eb74bfe3"
      },
      "execution_count": 29,
      "outputs": [
        {
          "output_type": "stream",
          "name": "stdout",
          "text": [
            "\n",
            " Unique customer Ids--\n"
          ]
        },
        {
          "output_type": "execute_result",
          "data": {
            "text/plain": [
              "32266"
            ]
          },
          "metadata": {},
          "execution_count": 29
        },
        {
          "output_type": "stream",
          "name": "stdout",
          "text": [
            "\n",
            "\n",
            "==Value counts==\n"
          ]
        },
        {
          "output_type": "execute_result",
          "data": {
            "text/plain": [
              "20459      1246\n",
              "2112589     879\n",
              "2112596     822\n",
              "2113579     776\n",
              "1847994     754\n",
              "           ... \n",
              "926430        1\n",
              "924689        1\n",
              "2057941       1\n",
              "923415        1\n",
              "2009636       1\n",
              "Name: customerid, Length: 32266, dtype: int64"
            ]
          },
          "metadata": {},
          "execution_count": 29
        },
        {
          "output_type": "execute_result",
          "data": {
            "text/plain": [
              "(32266,)"
            ]
          },
          "metadata": {},
          "execution_count": 29
        },
        {
          "output_type": "stream",
          "name": "stdout",
          "text": [
            "\n",
            "\n",
            "==Unique products Ids==\n"
          ]
        },
        {
          "output_type": "execute_result",
          "data": {
            "text/plain": [
              "23812"
            ]
          },
          "metadata": {},
          "execution_count": 29
        },
        {
          "output_type": "stream",
          "name": "stdout",
          "text": [
            "\n",
            "\n",
            "==Unique Product classes Ids==\n"
          ]
        },
        {
          "output_type": "execute_result",
          "data": {
            "text/plain": [
              "2012"
            ]
          },
          "metadata": {},
          "execution_count": 29
        }
      ]
    },
    {
      "cell_type": "markdown",
      "source": [
        "### Q2"
      ],
      "metadata": {
        "id": "c3_2aheH-fPX"
      }
    },
    {
      "cell_type": "code",
      "source": [
        "####### Groupby:\n",
        "# 5.1 (Q2) Who are the oldest customers?\n",
        "#          Sol: Gr by customerid and for each\n",
        "#               customer find his min date. Then, sort it\n",
        "#               to find earliest purchase date of every customer\n",
        "\n",
        "# Show some groupby operations here\n",
        "\n",
        "grpd = df.groupby(['customerid'])\n",
        "grpd\n"
      ],
      "metadata": {
        "colab": {
          "base_uri": "https://localhost:8080/"
        },
        "id": "YRWLX5-02Ad2",
        "outputId": "0801c974-e47c-4234-d3af-a51a5189af5c"
      },
      "execution_count": 34,
      "outputs": [
        {
          "output_type": "execute_result",
          "data": {
            "text/plain": [
              "<pandas.core.groupby.generic.DataFrameGroupBy object at 0x7f866e570d50>"
            ]
          },
          "metadata": {},
          "execution_count": 34
        }
      ]
    },
    {
      "cell_type": "code",
      "source": [
        "# 5.1.1 \n",
        "grpd['datetime'].min().sort_values(ascending = True)"
      ],
      "metadata": {
        "colab": {
          "base_uri": "https://localhost:8080/"
        },
        "id": "slsBAHDt5XaH",
        "outputId": "8ee5d367-78f1-46e2-9311-3c59325006f6"
      },
      "execution_count": 36,
      "outputs": [
        {
          "output_type": "execute_result",
          "data": {
            "text/plain": [
              "customerid\n",
              "151153    2000-11-01\n",
              "1717723   2000-11-01\n",
              "309448    2000-11-01\n",
              "1620320   2000-11-01\n",
              "75275     2000-11-01\n",
              "             ...    \n",
              "1941692   2001-02-28\n",
              "2090092   2001-02-28\n",
              "1990607   2001-02-28\n",
              "1739381   2001-02-28\n",
              "611770    2001-02-28\n",
              "Name: datetime, Length: 32266, dtype: datetime64[ns]"
            ]
          },
          "metadata": {},
          "execution_count": 36
        },
        {
          "output_type": "execute_result",
          "data": {
            "text/plain": [
              "customerid\n",
              "312790    2001-02-28\n",
              "1462036   2001-02-28\n",
              "1904345   2001-02-28\n",
              "1729658   2001-02-28\n",
              "2108315   2001-02-28\n",
              "Name: datetime, dtype: datetime64[ns]"
            ]
          },
          "metadata": {},
          "execution_count": 36
        },
        {
          "output_type": "execute_result",
          "data": {
            "text/plain": [
              "customerid\n",
              "2014883   2000-11-01\n",
              "1846607   2000-11-01\n",
              "1685022   2000-11-01\n",
              "1846614   2000-11-01\n",
              "221177    2000-11-01\n",
              "Name: datetime, dtype: datetime64[ns]"
            ]
          },
          "metadata": {},
          "execution_count": 36
        },
        {
          "output_type": "execute_result",
          "data": {
            "text/plain": [
              "32266"
            ]
          },
          "metadata": {},
          "execution_count": 36
        }
      ]
    },
    {
      "cell_type": "markdown",
      "source": [
        "### Q3"
      ],
      "metadata": {
        "id": "7mchMyVP-iFy"
      }
    },
    {
      "cell_type": "code",
      "source": [
        "# 5.2 (Q3) Recency: Find the last purchase date of every customer\n",
        "#          Sol:Group by customerid and find the last date of purchase\n",
        "\n",
        "result1 = df.groupby('customerid')['datetime'].max().sort_values(ascending = False)\n",
        "result1.head()\n",
        "result1.size    # 32266\n"
      ],
      "metadata": {
        "colab": {
          "base_uri": "https://localhost:8080/"
        },
        "id": "xbrA5DHK4znn",
        "outputId": "b009b7eb-9ae9-468e-b1a6-8da57ef1c325"
      },
      "execution_count": 37,
      "outputs": [
        {
          "output_type": "execute_result",
          "data": {
            "text/plain": [
              "customerid\n",
              "938846    2001-02-28\n",
              "1141344   2001-02-28\n",
              "1910537   2001-02-28\n",
              "1909791   2001-02-28\n",
              "1909548   2001-02-28\n",
              "Name: datetime, dtype: datetime64[ns]"
            ]
          },
          "metadata": {},
          "execution_count": 37
        },
        {
          "output_type": "execute_result",
          "data": {
            "text/plain": [
              "32266"
            ]
          },
          "metadata": {},
          "execution_count": 37
        }
      ]
    },
    {
      "cell_type": "markdown",
      "source": [
        "### Q4"
      ],
      "metadata": {
        "id": "MEBJ08Jh-sd3"
      }
    },
    {
      "cell_type": "code",
      "source": [
        "## 5.3 (Q4): Repeat customers: Find repeat customers\n",
        "##           Many ways to find repeat-customers\n",
        "##           a. Group customers by both cid and date and count\n",
        "##           b. Group the earlier table by cid and count\n",
        "##           c. Use apply with function\n",
        "##           d. Use apply with lambda"
      ],
      "metadata": {
        "id": "7LPNgfcU6nEf"
      },
      "execution_count": 38,
      "outputs": []
    },
    {
      "cell_type": "code",
      "source": [
        "# 5.4 Method 1: In each box how many unique datetime are there\n",
        "out = df.groupby('customerid')['datetime'].nunique()\n",
        "out\n",
        "out[out > 1].sort_values(ascending = False)"
      ],
      "metadata": {
        "id": "VTZHTv7T6wyO"
      },
      "execution_count": null,
      "outputs": []
    },
    {
      "cell_type": "code",
      "source": [
        "#5.5 Use apply()\n",
        "# 5.5.1 First define a function:\n",
        "#       Function must return either a scalar or a pandas object\n",
        "#       Its argument is a dataframe\n",
        "\n",
        "def atx(fd):\n",
        "    return fd.datetime.nunique()\n",
        "\n",
        "\n",
        "# 5.5.2 First group by 'customerid'\n",
        "grouped = df.groupby('customerid')\n",
        "\n",
        "\n",
        "# 5.5.3 Extract a data subset\n",
        "#       Each subset is a dataframe\n",
        "r1 = grouped.get_group(1975543)\n",
        "r1                  # It is a dataframe\n",
        "type(r1)\n",
        "r2 = grouped.get_group(915939)\n",
        "r2                 # Another dataframe\n",
        "\n",
        "# 5.5.3 To test, apply the function\n",
        "#       to each subset\n",
        "atx(r1)\n",
        "atx(r2)\n",
        "\n",
        "\n",
        "# 5.5.4 Finally apply the function tx()\n",
        "#       ti each grouped-subset\n",
        "grouped.apply(atx).sort_values(ascending = False)\n",
        "\n",
        "# 5.6 Use lambda\n",
        "#     Each 'x' passed in lambda is a babay-dataframe\n",
        "#     And value returned is True/False\n",
        "grouped = df.groupby('customerid')\n",
        "\n",
        "result = grouped['datetime'].apply(lambda x : x.nunique() > 1).sort_values()\n",
        "result.head()\n",
        "\n"
      ],
      "metadata": {
        "id": "nN899lzK7OVH"
      },
      "execution_count": null,
      "outputs": []
    },
    {
      "cell_type": "markdown",
      "source": [
        "### Q5"
      ],
      "metadata": {
        "id": "eEyt-MHh-vx2"
      }
    },
    {
      "cell_type": "code",
      "source": [
        "# 6.  (Q5): What is total no of visits of a customer during the period of data\n",
        "#     Sol:Group by customerid, find distinct dates & count them\n",
        "\"\"\"\n",
        "# Which aggregating functions will work?\n",
        "   The aggregating functions above will exclude NA values.\n",
        "   Any function which reduces a Series to a scalar value is\n",
        "   an aggregation function and will work, a trivial example\n",
        "   is df.groupby('A').agg(lambda ser: 1).\n",
        "\n",
        "\"\"\"\n",
        "\n",
        "out = df.groupby(['customerid'])['datetime'].nunique().sort_values(ascending=False)\n",
        "out.head()\n",
        "out.tail()"
      ],
      "metadata": {
        "colab": {
          "base_uri": "https://localhost:8080/",
          "height": 261
        },
        "id": "EyXCBzzO7cZB",
        "outputId": "6306dc20-99da-47a8-98af-ec27f2f639b4"
      },
      "execution_count": 62,
      "outputs": [
        {
          "output_type": "execute_result",
          "data": {
            "text/plain": [
              "\"\\n# Which aggregating functions will work?\\n   The aggregating functions above will exclude NA values.\\n   Any function which reduces a Series to a scalar value is\\n   an aggregation function and will work, a trivial example\\n   is df.groupby('A').agg(lambda ser: 1).\\n\\n\""
            ],
            "application/vnd.google.colaboratory.intrinsic+json": {
              "type": "string"
            }
          },
          "metadata": {},
          "execution_count": 62
        },
        {
          "output_type": "execute_result",
          "data": {
            "text/plain": [
              "customerid\n",
              "2023939    86\n",
              "2019604    85\n",
              "1846607    81\n",
              "1846904    79\n",
              "1847994    76\n",
              "Name: datetime, dtype: int64"
            ]
          },
          "metadata": {},
          "execution_count": 62
        },
        {
          "output_type": "execute_result",
          "data": {
            "text/plain": [
              "customerid\n",
              "668101     1\n",
              "1783919    1\n",
              "1784039    1\n",
              "667982     1\n",
              "1663402    1\n",
              "Name: datetime, dtype: int64"
            ]
          },
          "metadata": {},
          "execution_count": 62
        }
      ]
    },
    {
      "cell_type": "code",
      "source": [
        "# 6.2 Let us see distribution of visit-frequencies\n",
        "# 6.2.1  First convert out (pandas Series) to DataFrame\n",
        "out.name           # This series name will become column name\n",
        "out.name = \"freq\"\n",
        "out = pd.DataFrame(out)   # column name is now 'freq'\n",
        "# 6.2.2 Draw boxplot now uisng pandas plot function:\n",
        "out.boxplot(column = 'freq')\n",
        "plt.ylim((0,20))\n",
        "plt.show()\n"
      ],
      "metadata": {
        "colab": {
          "base_uri": "https://localhost:8080/",
          "height": 287
        },
        "id": "WLVUCL477zhb",
        "outputId": "ea5aaad3-d9a5-4722-b287-025c12061ef0"
      },
      "execution_count": 42,
      "outputs": [
        {
          "output_type": "execute_result",
          "data": {
            "text/plain": [
              "'datetime'"
            ],
            "application/vnd.google.colaboratory.intrinsic+json": {
              "type": "string"
            }
          },
          "metadata": {},
          "execution_count": 42
        },
        {
          "output_type": "execute_result",
          "data": {
            "text/plain": [
              "<matplotlib.axes._subplots.AxesSubplot at 0x7f866e4dc810>"
            ]
          },
          "metadata": {},
          "execution_count": 42
        },
        {
          "output_type": "execute_result",
          "data": {
            "text/plain": [
              "(0.0, 20.0)"
            ]
          },
          "metadata": {},
          "execution_count": 42
        },
        {
          "output_type": "display_data",
          "data": {
            "text/plain": [
              "<Figure size 432x288 with 1 Axes>"
            ],
            "image/png": "[encoded data removed]"
          },
          "metadata": {
            "needs_background": "light"
          }
        }
      ]
    },
    {
      "cell_type": "code",
      "source": [
        "# 6.3 Let us verify the above results for at least one customerid\n",
        "df.loc[df['customerid'] == 1847994 ].nunique()"
      ],
      "metadata": {
        "colab": {
          "base_uri": "https://localhost:8080/"
        },
        "id": "L4KtPbll_CnG",
        "outputId": "65f6dacf-2605-4dfc-b895-9584018d4619"
      },
      "execution_count": 63,
      "outputs": [
        {
          "output_type": "execute_result",
          "data": {
            "text/plain": [
              "datetime             76\n",
              "customerid            1\n",
              "age                   1\n",
              "residence_area        1\n",
              "product_subclass    288\n",
              "productid           593\n",
              "quantity             11\n",
              "salesprice          222\n",
              "year                  2\n",
              "month                 4\n",
              "day                  30\n",
              "dtype: int64"
            ]
          },
          "metadata": {},
          "execution_count": 63
        }
      ]
    },
    {
      "cell_type": "code",
      "source": [
        "# 6.3.1 Box plots with pandas:\n",
        "data = np.random.randn(25, 4)\n",
        "dfx = pd.DataFrame(data, columns=list('ABCD'))\n",
        "dfx.plot.box();"
      ],
      "metadata": {
        "colab": {
          "base_uri": "https://localhost:8080/",
          "height": 265
        },
        "id": "M8i3yBIl8DAk",
        "outputId": "681b2946-ab35-451b-cb8e-530452f6def1"
      },
      "execution_count": 56,
      "outputs": [
        {
          "output_type": "display_data",
          "data": {
            "text/plain": [
              "<Figure size 432x288 with 1 Axes>"
            ],
            "image/png": "[encoded data removed]"
          },
          "metadata": {
            "needs_background": "light"
          }
        }
      ]
    },
    {
      "cell_type": "markdown",
      "source": [
        "### Q6"
      ],
      "metadata": {
        "id": "vwCUYKsW_12v"
      }
    },
    {
      "cell_type": "code",
      "source": [
        "# 7 (Q6): What are total spending per customer\n",
        "#    Sol: Group by customerid and sum up purchases\n",
        "\n",
        "# 7.1 First create a new column 'purchase'\n",
        "df['purchase'] = df['quantity'] * df['salesprice']\n",
        "\n",
        "# 7.1.1 Now calculate total purchases per customer\n",
        "out = df.groupby(['customerid'])['purchase'].sum().sort_values(ascending = False)\n",
        "\n",
        "# 7.1.2 out is a pandas Series\n",
        "out.head()\n",
        "\n",
        "# 7.1.3 Make out a DataFrame\n",
        "out = pd.DataFrame(out)"
      ],
      "metadata": {
        "colab": {
          "base_uri": "https://localhost:8080/"
        },
        "id": "eV_cm3y18-dW",
        "outputId": "e3d94647-c44c-4c03-9845-6b954c5e8e65"
      },
      "execution_count": 53,
      "outputs": [
        {
          "output_type": "execute_result",
          "data": {
            "text/plain": [
              "customerid\n",
              "1622362    355221564\n",
              "2123851     17797777\n",
              "2120829     17795024\n",
              "1970777     14880612\n",
              "2134819     14843035\n",
              "Name: purchase, dtype: int32"
            ]
          },
          "metadata": {},
          "execution_count": 53
        }
      ]
    },
    {
      "cell_type": "code",
      "source": [
        "# 7.2 Let us have a density plot of these purchases:\n",
        "\n",
        "plt.figure() ;\n",
        "out.plot.kde()     # Pandas kernel denity plot\n",
        "plt.xlim(-0.2e8, .1e8) ;\n",
        "plt.show() ;"
      ],
      "metadata": {
        "colab": {
          "base_uri": "https://localhost:8080/",
          "height": 306
        },
        "id": "up22dTs2_6Fw",
        "outputId": "7c41f8ba-2bfe-4067-9d3c-2d05521c6499"
      },
      "execution_count": 54,
      "outputs": [
        {
          "output_type": "display_data",
          "data": {
            "text/plain": [
              "<Figure size 432x288 with 0 Axes>"
            ]
          },
          "metadata": {}
        },
        {
          "output_type": "display_data",
          "data": {
            "text/plain": [
              "<Figure size 432x288 with 1 Axes>"
            ],
            "image/png": "[encoded data removed]"
          },
          "metadata": {
            "needs_background": "light"
          }
        }
      ]
    },
    {
      "cell_type": "code",
      "source": [
        "# 7.2.1 seaborn does not plot that well:\n",
        "out1 = out.sample(n = 5000)\n",
        "sns.histplot(data = out1, x = 'purchase')\n",
        "plt.show()"
      ],
      "metadata": {
        "colab": {
          "base_uri": "https://localhost:8080/",
          "height": 296
        },
        "id": "-_P7MmBRAWAf",
        "outputId": "76b81bec-97fd-4c57-b292-49167d89dbc1"
      },
      "execution_count": 55,
      "outputs": [
        {
          "output_type": "execute_result",
          "data": {
            "text/plain": [
              "<matplotlib.axes._subplots.AxesSubplot at 0x7f6e3e88b650>"
            ]
          },
          "metadata": {},
          "execution_count": 55
        },
        {
          "output_type": "display_data",
          "data": {
            "text/plain": [
              "<Figure size 432x288 with 1 Axes>"
            ],
            "image/png": "[encoded data removed]"
          },
          "metadata": {
            "needs_background": "light"
          }
        }
      ]
    },
    {
      "cell_type": "code",
      "source": [
        "# 7.2.2 So there is an outlier, let us remove\n",
        "#       it and then plot. We will cutoff at 99th percentile\n",
        "#       At what value of data 99th percentile occurs?\n",
        "\n",
        "scoreatpercentile(out.values, per = 99)\n",
        "\n",
        "# 7.2.3 Here is remaining data\n",
        "\n",
        "out = out.loc[out['purchase'] < 52135, :]\n",
        "\n",
        "\n",
        "# 7.2.4 Plot density plot now\n",
        "plt.figure() ;\n",
        "out.plot.kde() ;\n",
        "plt.show() ;"
      ],
      "metadata": {
        "colab": {
          "base_uri": "https://localhost:8080/",
          "height": 282
        },
        "id": "ruS6V6ruAmfv",
        "outputId": "68d61cac-030a-4869-9de8-011246a935b3"
      },
      "execution_count": 56,
      "outputs": [
        {
          "output_type": "display_data",
          "data": {
            "text/plain": [
              "<Figure size 432x288 with 0 Axes>"
            ]
          },
          "metadata": {}
        },
        {
          "output_type": "display_data",
          "data": {
            "text/plain": [
              "<Figure size 432x288 with 1 Axes>"
            ],
            "image/png": "[encoded data removed]"
          },
          "metadata": {
            "needs_background": "light"
          }
        }
      ]
    },
    {
      "cell_type": "markdown",
      "source": [
        "### Q7"
      ],
      "metadata": {
        "id": "8pltoM4OK0xm"
      }
    },
    {
      "cell_type": "code",
      "source": [
        "# 8. Is there any relationship between freq of visits and total purchases\n",
        "#    We will use two methods:\n",
        "\n",
        "## Method 1\n",
        "\n",
        "# 8.1   First customer-wise visit frequencies\n",
        "freq = df.groupby('customerid')['datetime'].nunique()\n",
        "freq.name = \"freq\"\n",
        "freq.head()"
      ],
      "metadata": {
        "colab": {
          "base_uri": "https://localhost:8080/"
        },
        "id": "7yptXFVCK6M7",
        "outputId": "61ca132e-b03d-464f-c93d-3dda6f774785"
      },
      "execution_count": 57,
      "outputs": [
        {
          "output_type": "execute_result",
          "data": {
            "text/plain": [
              "customerid\n",
              "1069    4\n",
              "1113    4\n",
              "1250    2\n",
              "1359    1\n",
              "1823    3\n",
              "Name: freq, dtype: int64"
            ]
          },
          "metadata": {},
          "execution_count": 57
        }
      ]
    },
    {
      "cell_type": "code",
      "source": [
        "# 8.2 Then customer-wise purchases:\n",
        "\n",
        "purchases = df.groupby('customerid')['purchase'].sum()\n",
        "purchases"
      ],
      "metadata": {
        "colab": {
          "base_uri": "https://localhost:8080/"
        },
        "id": "v1N4iAlxK-i8",
        "outputId": "5a1e4d75-9d22-4af0-afdc-0ce27c228ea9"
      },
      "execution_count": 58,
      "outputs": [
        {
          "output_type": "execute_result",
          "data": {
            "text/plain": [
              "customerid\n",
              "1069         2660\n",
              "1113         3209\n",
              "1250         1795\n",
              "1359          602\n",
              "1823         6053\n",
              "            ...  \n",
              "2179544      6343\n",
              "2179568       406\n",
              "2179605      9495\n",
              "2179643      8461\n",
              "20002000    90397\n",
              "Name: purchase, Length: 32266, dtype: int32"
            ]
          },
          "metadata": {},
          "execution_count": 58
        }
      ]
    },
    {
      "cell_type": "code",
      "source": [
        "# 8.3 Create a dataframe from two continuous series:\n",
        "\n",
        "freq_purchases = pd.concat([freq,purchases], axis = 1)\n",
        "freq_purchases.head()"
      ],
      "metadata": {
        "colab": {
          "base_uri": "https://localhost:8080/",
          "height": 237
        },
        "id": "pwiYXE97LELX",
        "outputId": "2bb7850c-8625-4db0-b82b-4da698cb95e8"
      },
      "execution_count": 59,
      "outputs": [
        {
          "output_type": "execute_result",
          "data": {
            "text/plain": [
              "            freq  purchase\n",
              "customerid                \n",
              "1069           4      2660\n",
              "1113           4      3209\n",
              "1250           2      1795\n",
              "1359           1       602\n",
              "1823           3      6053"
            ],
            "text/html": [
              "\n",
              "  <div id=\"df-f77cd815-0aba-4c49-b47b-e455429ce1c5\">\n",
              "    <div class=\"colab-df-container\">\n",
              "      <div>\n",
              "<style scoped>\n",
              "    .dataframe tbody tr th:only-of-type {\n",
              "        vertical-align: middle;\n",
              "    }\n",
              "\n",
              "    .dataframe tbody tr th {\n",
              "        vertical-align: top;\n",
              "    }\n",
              "\n",
              "    .dataframe thead th {\n",
              "        text-align: right;\n",
              "    }\n",
              "</style>\n",
              "<table border=\"1\" class=\"dataframe\">\n",
              "  <thead>\n",
              "    <tr style=\"text-align: right;\">\n",
              "      <th></th>\n",
              "      <th>freq</th>\n",
              "      <th>purchase</th>\n",
              "    </tr>\n",
              "    <tr>\n",
              "      <th>customerid</th>\n",
              "      <th></th>\n",
              "      <th></th>\n",
              "    </tr>\n",
              "  </thead>\n",
              "  <tbody>\n",
              "    <tr>\n",
              "      <th>1069</th>\n",
              "      <td>4</td>\n",
              "      <td>2660</td>\n",
              "    </tr>\n",
              "    <tr>\n",
              "      <th>1113</th>\n",
              "      <td>4</td>\n",
              "      <td>3209</td>\n",
              "    </tr>\n",
              "    <tr>\n",
              "      <th>1250</th>\n",
              "      <td>2</td>\n",
              "      <td>1795</td>\n",
              "    </tr>\n",
              "    <tr>\n",
              "      <th>1359</th>\n",
              "      <td>1</td>\n",
              "      <td>602</td>\n",
              "    </tr>\n",
              "    <tr>\n",
              "      <th>1823</th>\n",
              "      <td>3</td>\n",
              "      <td>6053</td>\n",
              "    </tr>\n",
              "  </tbody>\n",
              "</table>\n",
              "</div>\n",
              "      <button class=\"colab-df-convert\" onclick=\"convertToInteractive('df-f77cd815-0aba-4c49-b47b-e455429ce1c5')\"\n",
              "              title=\"Convert this dataframe to an interactive table.\"\n",
              "              style=\"display:none;\">\n",
              "        \n",
              "  <svg xmlns=\"http://www.w3.org/2000/svg\" height=\"24px\"viewBox=\"0 0 24 24\"\n",
              "       width=\"24px\">\n",
              "    <path d=\"M0 0h24v24H0V0z\" fill=\"none\"/>\n",
              "    <path d=\"M18.56 5.44l.94 2.06.94-2.06 2.06-.94-2.06-.94-.94-2.06-.94 2.06-2.06.94zm-11 1L8.5 8.5l.94-2.06 2.06-.94-2.06-.94L8.5 2.5l-.94 2.06-2.06.94zm10 10l.94 2.06.94-2.06 2.06-.94-2.06-.94-.94-2.06-.94 2.06-2.06.94z\"/><path d=\"M17.41 7.96l-1.37-1.37c-.4-.4-.92-.59-1.43-.59-.52 0-1.04.2-1.43.59L10.3 9.45l-7.72 7.72c-.78.78-.78 2.05 0 2.83L4 21.41c.39.39.9.59 1.41.59.51 0 1.02-.2 1.41-.59l7.78-7.78 2.81-2.81c.8-.78.8-2.07 0-2.86zM5.41 20L4 18.59l7.72-7.72 1.47 1.35L5.41 20z\"/>\n",
              "  </svg>\n",
              "      </button>\n",
              "      \n",
              "  <style>\n",
              "    .colab-df-container {\n",
              "      display:flex;\n",
              "      flex-wrap:wrap;\n",
              "      gap: 12px;\n",
              "    }\n",
              "\n",
              "    .colab-df-convert {\n",
              "      background-color: #E8F0FE;\n",
              "      border: none;\n",
              "      border-radius: 50%;\n",
              "      cursor: pointer;\n",
              "      display: none;\n",
              "      fill: #1967D2;\n",
              "      height: 32px;\n",
              "      padding: 0 0 0 0;\n",
              "      width: 32px;\n",
              "    }\n",
              "\n",
              "    .colab-df-convert:hover {\n",
              "      background-color: #E2EBFA;\n",
              "      box-shadow: 0px 1px 2px rgba(60, 64, 67, 0.3), 0px 1px 3px 1px rgba(60, 64, 67, 0.15);\n",
              "      fill: #174EA6;\n",
              "    }\n",
              "\n",
              "    [theme=dark] .colab-df-convert {\n",
              "      background-color: #3B4455;\n",
              "      fill: #D2E3FC;\n",
              "    }\n",
              "\n",
              "    [theme=dark] .colab-df-convert:hover {\n",
              "      background-color: #434B5C;\n",
              "      box-shadow: 0px 1px 3px 1px rgba(0, 0, 0, 0.15);\n",
              "      filter: drop-shadow(0px 1px 2px rgba(0, 0, 0, 0.3));\n",
              "      fill: #FFFFFF;\n",
              "    }\n",
              "  </style>\n",
              "\n",
              "      <script>\n",
              "        const buttonEl =\n",
              "          document.querySelector('#df-f77cd815-0aba-4c49-b47b-e455429ce1c5 button.colab-df-convert');\n",
              "        buttonEl.style.display =\n",
              "          google.colab.kernel.accessAllowed ? 'block' : 'none';\n",
              "\n",
              "        async function convertToInteractive(key) {\n",
              "          const element = document.querySelector('#df-f77cd815-0aba-4c49-b47b-e455429ce1c5');\n",
              "          const dataTable =\n",
              "            await google.colab.kernel.invokeFunction('convertToInteractive',\n",
              "                                                     [key], {});\n",
              "          if (!dataTable) return;\n",
              "\n",
              "          const docLinkHtml = 'Like what you see? Visit the ' +\n",
              "            '<a target=\"_blank\" href=https://colab.research.google.com/notebooks/data_table.ipynb>data table notebook</a>'\n",
              "            + ' to learn more about interactive tables.';\n",
              "          element.innerHTML = '';\n",
              "          dataTable['output_type'] = 'display_data';\n",
              "          await google.colab.output.renderOutput(dataTable, element);\n",
              "          const docLink = document.createElement('div');\n",
              "          docLink.innerHTML = docLinkHtml;\n",
              "          element.appendChild(docLink);\n",
              "        }\n",
              "      </script>\n",
              "    </div>\n",
              "  </div>\n",
              "  "
            ]
          },
          "metadata": {},
          "execution_count": 59
        }
      ]
    },
    {
      "cell_type": "code",
      "source": [
        "# 8.4 So what kind of relationships exist?\n",
        "#     Answer: Very weak!\n",
        "freq_purchases.corr()"
      ],
      "metadata": {
        "colab": {
          "base_uri": "https://localhost:8080/",
          "height": 112
        },
        "id": "XbrcUFxELd98",
        "outputId": "7dc3eb4f-93b8-4cd6-b14e-d63241799318"
      },
      "execution_count": 60,
      "outputs": [
        {
          "output_type": "execute_result",
          "data": {
            "text/plain": [
              "              freq  purchase\n",
              "freq      1.000000  0.026599\n",
              "purchase  0.026599  1.000000"
            ],
            "text/html": [
              "\n",
              "  <div id=\"df-83f8c84f-e5d8-4ecd-8fcc-7a3b85cc33a2\">\n",
              "    <div class=\"colab-df-container\">\n",
              "      <div>\n",
              "<style scoped>\n",
              "    .dataframe tbody tr th:only-of-type {\n",
              "        vertical-align: middle;\n",
              "    }\n",
              "\n",
              "    .dataframe tbody tr th {\n",
              "        vertical-align: top;\n",
              "    }\n",
              "\n",
              "    .dataframe thead th {\n",
              "        text-align: right;\n",
              "    }\n",
              "</style>\n",
              "<table border=\"1\" class=\"dataframe\">\n",
              "  <thead>\n",
              "    <tr style=\"text-align: right;\">\n",
              "      <th></th>\n",
              "      <th>freq</th>\n",
              "      <th>purchase</th>\n",
              "    </tr>\n",
              "  </thead>\n",
              "  <tbody>\n",
              "    <tr>\n",
              "      <th>freq</th>\n",
              "      <td>1.000000</td>\n",
              "      <td>0.026599</td>\n",
              "    </tr>\n",
              "    <tr>\n",
              "      <th>purchase</th>\n",
              "      <td>0.026599</td>\n",
              "      <td>1.000000</td>\n",
              "    </tr>\n",
              "  </tbody>\n",
              "</table>\n",
              "</div>\n",
              "      <button class=\"colab-df-convert\" onclick=\"convertToInteractive('df-83f8c84f-e5d8-4ecd-8fcc-7a3b85cc33a2')\"\n",
              "              title=\"Convert this dataframe to an interactive table.\"\n",
              "              style=\"display:none;\">\n",
              "        \n",
              "  <svg xmlns=\"http://www.w3.org/2000/svg\" height=\"24px\"viewBox=\"0 0 24 24\"\n",
              "       width=\"24px\">\n",
              "    <path d=\"M0 0h24v24H0V0z\" fill=\"none\"/>\n",
              "    <path d=\"M18.56 5.44l.94 2.06.94-2.06 2.06-.94-2.06-.94-.94-2.06-.94 2.06-2.06.94zm-11 1L8.5 8.5l.94-2.06 2.06-.94-2.06-.94L8.5 2.5l-.94 2.06-2.06.94zm10 10l.94 2.06.94-2.06 2.06-.94-2.06-.94-.94-2.06-.94 2.06-2.06.94z\"/><path d=\"M17.41 7.96l-1.37-1.37c-.4-.4-.92-.59-1.43-.59-.52 0-1.04.2-1.43.59L10.3 9.45l-7.72 7.72c-.78.78-.78 2.05 0 2.83L4 21.41c.39.39.9.59 1.41.59.51 0 1.02-.2 1.41-.59l7.78-7.78 2.81-2.81c.8-.78.8-2.07 0-2.86zM5.41 20L4 18.59l7.72-7.72 1.47 1.35L5.41 20z\"/>\n",
              "  </svg>\n",
              "      </button>\n",
              "      \n",
              "  <style>\n",
              "    .colab-df-container {\n",
              "      display:flex;\n",
              "      flex-wrap:wrap;\n",
              "      gap: 12px;\n",
              "    }\n",
              "\n",
              "    .colab-df-convert {\n",
              "      background-color: #E8F0FE;\n",
              "      border: none;\n",
              "      border-radius: 50%;\n",
              "      cursor: pointer;\n",
              "      display: none;\n",
              "      fill: #1967D2;\n",
              "      height: 32px;\n",
              "      padding: 0 0 0 0;\n",
              "      width: 32px;\n",
              "    }\n",
              "\n",
              "    .colab-df-convert:hover {\n",
              "      background-color: #E2EBFA;\n",
              "      box-shadow: 0px 1px 2px rgba(60, 64, 67, 0.3), 0px 1px 3px 1px rgba(60, 64, 67, 0.15);\n",
              "      fill: #174EA6;\n",
              "    }\n",
              "\n",
              "    [theme=dark] .colab-df-convert {\n",
              "      background-color: #3B4455;\n",
              "      fill: #D2E3FC;\n",
              "    }\n",
              "\n",
              "    [theme=dark] .colab-df-convert:hover {\n",
              "      background-color: #434B5C;\n",
              "      box-shadow: 0px 1px 3px 1px rgba(0, 0, 0, 0.15);\n",
              "      filter: drop-shadow(0px 1px 2px rgba(0, 0, 0, 0.3));\n",
              "      fill: #FFFFFF;\n",
              "    }\n",
              "  </style>\n",
              "\n",
              "      <script>\n",
              "        const buttonEl =\n",
              "          document.querySelector('#df-83f8c84f-e5d8-4ecd-8fcc-7a3b85cc33a2 button.colab-df-convert');\n",
              "        buttonEl.style.display =\n",
              "          google.colab.kernel.accessAllowed ? 'block' : 'none';\n",
              "\n",
              "        async function convertToInteractive(key) {\n",
              "          const element = document.querySelector('#df-83f8c84f-e5d8-4ecd-8fcc-7a3b85cc33a2');\n",
              "          const dataTable =\n",
              "            await google.colab.kernel.invokeFunction('convertToInteractive',\n",
              "                                                     [key], {});\n",
              "          if (!dataTable) return;\n",
              "\n",
              "          const docLinkHtml = 'Like what you see? Visit the ' +\n",
              "            '<a target=\"_blank\" href=https://colab.research.google.com/notebooks/data_table.ipynb>data table notebook</a>'\n",
              "            + ' to learn more about interactive tables.';\n",
              "          element.innerHTML = '';\n",
              "          dataTable['output_type'] = 'display_data';\n",
              "          await google.colab.output.renderOutput(dataTable, element);\n",
              "          const docLink = document.createElement('div');\n",
              "          docLink.innerHTML = docLinkHtml;\n",
              "          element.appendChild(docLink);\n",
              "        }\n",
              "      </script>\n",
              "    </div>\n",
              "  </div>\n",
              "  "
            ]
          },
          "metadata": {},
          "execution_count": 60
        }
      ]
    },
    {
      "cell_type": "code",
      "source": [
        "# 8.5 Include only points which are below 99th percentile of purchases\n",
        "freq_purchases = freq_purchases[freq_purchases['purchase'] < 52135]"
      ],
      "metadata": {
        "id": "k2R8h0eNLsG2"
      },
      "execution_count": 61,
      "outputs": []
    },
    {
      "cell_type": "code",
      "source": [
        "# 8.6 Let us revisit relationships\n",
        "#     Relationship is stronger though not very strong\n",
        "freq_purchases.corr()\n"
      ],
      "metadata": {
        "colab": {
          "base_uri": "https://localhost:8080/",
          "height": 112
        },
        "id": "PXK1uobPLvra",
        "outputId": "44b9e86f-23dd-4c56-c962-96c97632eaf2"
      },
      "execution_count": 62,
      "outputs": [
        {
          "output_type": "execute_result",
          "data": {
            "text/plain": [
              "              freq  purchase\n",
              "freq      1.000000  0.513523\n",
              "purchase  0.513523  1.000000"
            ],
            "text/html": [
              "\n",
              "  <div id=\"df-7b90dc38-64d4-42fd-9c10-999150e1ffe4\">\n",
              "    <div class=\"colab-df-container\">\n",
              "      <div>\n",
              "<style scoped>\n",
              "    .dataframe tbody tr th:only-of-type {\n",
              "        vertical-align: middle;\n",
              "    }\n",
              "\n",
              "    .dataframe tbody tr th {\n",
              "        vertical-align: top;\n",
              "    }\n",
              "\n",
              "    .dataframe thead th {\n",
              "        text-align: right;\n",
              "    }\n",
              "</style>\n",
              "<table border=\"1\" class=\"dataframe\">\n",
              "  <thead>\n",
              "    <tr style=\"text-align: right;\">\n",
              "      <th></th>\n",
              "      <th>freq</th>\n",
              "      <th>purchase</th>\n",
              "    </tr>\n",
              "  </thead>\n",
              "  <tbody>\n",
              "    <tr>\n",
              "      <th>freq</th>\n",
              "      <td>1.000000</td>\n",
              "      <td>0.513523</td>\n",
              "    </tr>\n",
              "    <tr>\n",
              "      <th>purchase</th>\n",
              "      <td>0.513523</td>\n",
              "      <td>1.000000</td>\n",
              "    </tr>\n",
              "  </tbody>\n",
              "</table>\n",
              "</div>\n",
              "      <button class=\"colab-df-convert\" onclick=\"convertToInteractive('df-7b90dc38-64d4-42fd-9c10-999150e1ffe4')\"\n",
              "              title=\"Convert this dataframe to an interactive table.\"\n",
              "              style=\"display:none;\">\n",
              "        \n",
              "  <svg xmlns=\"http://www.w3.org/2000/svg\" height=\"24px\"viewBox=\"0 0 24 24\"\n",
              "       width=\"24px\">\n",
              "    <path d=\"M0 0h24v24H0V0z\" fill=\"none\"/>\n",
              "    <path d=\"M18.56 5.44l.94 2.06.94-2.06 2.06-.94-2.06-.94-.94-2.06-.94 2.06-2.06.94zm-11 1L8.5 8.5l.94-2.06 2.06-.94-2.06-.94L8.5 2.5l-.94 2.06-2.06.94zm10 10l.94 2.06.94-2.06 2.06-.94-2.06-.94-.94-2.06-.94 2.06-2.06.94z\"/><path d=\"M17.41 7.96l-1.37-1.37c-.4-.4-.92-.59-1.43-.59-.52 0-1.04.2-1.43.59L10.3 9.45l-7.72 7.72c-.78.78-.78 2.05 0 2.83L4 21.41c.39.39.9.59 1.41.59.51 0 1.02-.2 1.41-.59l7.78-7.78 2.81-2.81c.8-.78.8-2.07 0-2.86zM5.41 20L4 18.59l7.72-7.72 1.47 1.35L5.41 20z\"/>\n",
              "  </svg>\n",
              "      </button>\n",
              "      \n",
              "  <style>\n",
              "    .colab-df-container {\n",
              "      display:flex;\n",
              "      flex-wrap:wrap;\n",
              "      gap: 12px;\n",
              "    }\n",
              "\n",
              "    .colab-df-convert {\n",
              "      background-color: #E8F0FE;\n",
              "      border: none;\n",
              "      border-radius: 50%;\n",
              "      cursor: pointer;\n",
              "      display: none;\n",
              "      fill: #1967D2;\n",
              "      height: 32px;\n",
              "      padding: 0 0 0 0;\n",
              "      width: 32px;\n",
              "    }\n",
              "\n",
              "    .colab-df-convert:hover {\n",
              "      background-color: #E2EBFA;\n",
              "      box-shadow: 0px 1px 2px rgba(60, 64, 67, 0.3), 0px 1px 3px 1px rgba(60, 64, 67, 0.15);\n",
              "      fill: #174EA6;\n",
              "    }\n",
              "\n",
              "    [theme=dark] .colab-df-convert {\n",
              "      background-color: #3B4455;\n",
              "      fill: #D2E3FC;\n",
              "    }\n",
              "\n",
              "    [theme=dark] .colab-df-convert:hover {\n",
              "      background-color: #434B5C;\n",
              "      box-shadow: 0px 1px 3px 1px rgba(0, 0, 0, 0.15);\n",
              "      filter: drop-shadow(0px 1px 2px rgba(0, 0, 0, 0.3));\n",
              "      fill: #FFFFFF;\n",
              "    }\n",
              "  </style>\n",
              "\n",
              "      <script>\n",
              "        const buttonEl =\n",
              "          document.querySelector('#df-7b90dc38-64d4-42fd-9c10-999150e1ffe4 button.colab-df-convert');\n",
              "        buttonEl.style.display =\n",
              "          google.colab.kernel.accessAllowed ? 'block' : 'none';\n",
              "\n",
              "        async function convertToInteractive(key) {\n",
              "          const element = document.querySelector('#df-7b90dc38-64d4-42fd-9c10-999150e1ffe4');\n",
              "          const dataTable =\n",
              "            await google.colab.kernel.invokeFunction('convertToInteractive',\n",
              "                                                     [key], {});\n",
              "          if (!dataTable) return;\n",
              "\n",
              "          const docLinkHtml = 'Like what you see? Visit the ' +\n",
              "            '<a target=\"_blank\" href=https://colab.research.google.com/notebooks/data_table.ipynb>data table notebook</a>'\n",
              "            + ' to learn more about interactive tables.';\n",
              "          element.innerHTML = '';\n",
              "          dataTable['output_type'] = 'display_data';\n",
              "          await google.colab.output.renderOutput(dataTable, element);\n",
              "          const docLink = document.createElement('div');\n",
              "          docLink.innerHTML = docLinkHtml;\n",
              "          element.appendChild(docLink);\n",
              "        }\n",
              "      </script>\n",
              "    </div>\n",
              "  </div>\n",
              "  "
            ]
          },
          "metadata": {},
          "execution_count": 62
        }
      ]
    },
    {
      "cell_type": "code",
      "source": [
        "# 8.7 Plot and also annotate now\n",
        "#     First through pandas plotting methods\n",
        "plt.figure()\n",
        "freq_purchases.plot.scatter(x = 'freq', y = 'purchase')\n",
        "plt.show()"
      ],
      "metadata": {
        "colab": {
          "base_uri": "https://localhost:8080/",
          "height": 314
        },
        "id": "7BwQNMaNICTY",
        "outputId": "ccdba701-f6e0-4780-f0fa-caeb884286ad"
      },
      "execution_count": 63,
      "outputs": [
        {
          "output_type": "execute_result",
          "data": {
            "text/plain": [
              "<Figure size 432x288 with 0 Axes>"
            ]
          },
          "metadata": {},
          "execution_count": 63
        },
        {
          "output_type": "execute_result",
          "data": {
            "text/plain": [
              "<matplotlib.axes._subplots.AxesSubplot at 0x7f6e32d7b950>"
            ]
          },
          "metadata": {},
          "execution_count": 63
        },
        {
          "output_type": "display_data",
          "data": {
            "text/plain": [
              "<Figure size 432x288 with 0 Axes>"
            ]
          },
          "metadata": {}
        },
        {
          "output_type": "display_data",
          "data": {
            "text/plain": [
              "<Figure size 432x288 with 1 Axes>"
            ],
            "image/png": "[encoded data removed]"
          },
          "metadata": {
            "needs_background": "light"
          }
        }
      ]
    },
    {
      "cell_type": "markdown",
      "source": [
        "### Q8"
      ],
      "metadata": {
        "id": "_48R9e2NNUu0"
      }
    },
    {
      "cell_type": "code",
      "source": [
        "# 9. (Q8):  What are average purchases per-customer, per visit\n",
        "#     Sol: Simple: Gr by customerid,datetime and sum up purchases\n",
        "#\n",
        "result = df.groupby(['customerid', 'datetime'])['purchase'].sum()\n",
        "result.head()"
      ],
      "metadata": {
        "colab": {
          "base_uri": "https://localhost:8080/"
        },
        "id": "x77u5SqSNcMY",
        "outputId": "4c18ec19-684b-4ae4-e6ab-bf58bd5e5886"
      },
      "execution_count": 66,
      "outputs": [
        {
          "output_type": "execute_result",
          "data": {
            "text/plain": [
              "customerid  datetime  \n",
              "1069        2000-11-01    0\n",
              "            2000-11-02    0\n",
              "            2000-11-03    0\n",
              "            2000-11-04    0\n",
              "            2000-11-05    0\n",
              "Name: purchase, dtype: int32"
            ]
          },
          "metadata": {},
          "execution_count": 66
        }
      ]
    },
    {
      "cell_type": "code",
      "source": [
        "# 9.1 Note that grouping by more than one attribute\n",
        "#     creates multiindex. Here it has two levels\n",
        "\n",
        "result.index.get_level_values(0)\n",
        "result.index.get_level_values(1)"
      ],
      "metadata": {
        "colab": {
          "base_uri": "https://localhost:8080/"
        },
        "id": "SMZXV3PeNjlX",
        "outputId": "60597bcb-daaf-473c-f074-a3ade8b21487"
      },
      "execution_count": 67,
      "outputs": [
        {
          "output_type": "execute_result",
          "data": {
            "text/plain": [
              "CategoricalIndex([    1069,     1069,     1069,     1069,     1069,     1069,\n",
              "                      1069,     1069,     1069,     1069,\n",
              "                  ...\n",
              "                  20002000, 20002000, 20002000, 20002000, 20002000, 20002000,\n",
              "                  20002000, 20002000, 20002000, 20002000],\n",
              "                 categories=[1069, 1113, 1250, 1359, 1823, 2189, 3667, 4282, ...], ordered=False, dtype='category', name='customerid', length=3871920)"
            ]
          },
          "metadata": {},
          "execution_count": 67
        },
        {
          "output_type": "execute_result",
          "data": {
            "text/plain": [
              "DatetimeIndex(['2000-11-01', '2000-11-02', '2000-11-03', '2000-11-04',\n",
              "               '2000-11-05', '2000-11-06', '2000-11-07', '2000-11-08',\n",
              "               '2000-11-09', '2000-11-10',\n",
              "               ...\n",
              "               '2001-02-19', '2001-02-20', '2001-02-21', '2001-02-22',\n",
              "               '2001-02-23', '2001-02-24', '2001-02-25', '2001-02-26',\n",
              "               '2001-02-27', '2001-02-28'],\n",
              "              dtype='datetime64[ns]', name='datetime', length=3871920, freq=None)"
            ]
          },
          "metadata": {},
          "execution_count": 67
        }
      ]
    },
    {
      "cell_type": "code",
      "source": [
        "# 9.2 Unentangle it using unstack()\n",
        "result1 = df.groupby(['customerid', 'datetime'])['purchase'].sum().unstack()\n",
        "result1.head()"
      ],
      "metadata": {
        "colab": {
          "base_uri": "https://localhost:8080/",
          "height": 331
        },
        "id": "ZHz-EEttNqkt",
        "outputId": "e1e16a4a-65f5-4ec9-bbc8-4c7f12c963d7"
      },
      "execution_count": 68,
      "outputs": [
        {
          "output_type": "execute_result",
          "data": {
            "text/plain": [
              "datetime    2000-11-01  2000-11-02  2000-11-03  2000-11-04  2000-11-05  \\\n",
              "customerid                                                               \n",
              "1069                 0           0           0           0           0   \n",
              "1113                 0           0           0           0           0   \n",
              "1250                 0           0           0           0           0   \n",
              "1359                 0           0           0           0           0   \n",
              "1823                 0        2704           0           0           0   \n",
              "\n",
              "datetime    2000-11-06  2000-11-07  2000-11-08  2000-11-09  2000-11-10  ...  \\\n",
              "customerid                                                              ...   \n",
              "1069                 0           0           0           0           0  ...   \n",
              "1113                 0           0           0           0           0  ...   \n",
              "1250                 0           0           0           0           0  ...   \n",
              "1359                 0           0           0           0           0  ...   \n",
              "1823              2916           0           0           0           0  ...   \n",
              "\n",
              "datetime    2001-02-19  2001-02-20  2001-02-21  2001-02-22  2001-02-23  \\\n",
              "customerid                                                               \n",
              "1069                 0           0           0           0           0   \n",
              "1113                 0           0           0           0           0   \n",
              "1250                 0           0           0           0           0   \n",
              "1359                 0           0           0           0           0   \n",
              "1823                 0           0           0           0           0   \n",
              "\n",
              "datetime    2001-02-24  2001-02-25  2001-02-26  2001-02-27  2001-02-28  \n",
              "customerid                                                              \n",
              "1069                 0           0           0           0           0  \n",
              "1113                 0           0           0           0           0  \n",
              "1250                 0           0           0           0           0  \n",
              "1359                 0           0           0           0           0  \n",
              "1823                 0           0           0           0           0  \n",
              "\n",
              "[5 rows x 120 columns]"
            ],
            "text/html": [
              "\n",
              "  <div id=\"df-cde65411-cb21-4953-ab99-4715f22510ad\">\n",
              "    <div class=\"colab-df-container\">\n",
              "      <div>\n",
              "<style scoped>\n",
              "    .dataframe tbody tr th:only-of-type {\n",
              "        vertical-align: middle;\n",
              "    }\n",
              "\n",
              "    .dataframe tbody tr th {\n",
              "        vertical-align: top;\n",
              "    }\n",
              "\n",
              "    .dataframe thead th {\n",
              "        text-align: right;\n",
              "    }\n",
              "</style>\n",
              "<table border=\"1\" class=\"dataframe\">\n",
              "  <thead>\n",
              "    <tr style=\"text-align: right;\">\n",
              "      <th>datetime</th>\n",
              "      <th>2000-11-01</th>\n",
              "      <th>2000-11-02</th>\n",
              "      <th>2000-11-03</th>\n",
              "      <th>2000-11-04</th>\n",
              "      <th>2000-11-05</th>\n",
              "      <th>2000-11-06</th>\n",
              "      <th>2000-11-07</th>\n",
              "      <th>2000-11-08</th>\n",
              "      <th>2000-11-09</th>\n",
              "      <th>2000-11-10</th>\n",
              "      <th>...</th>\n",
              "      <th>2001-02-19</th>\n",
              "      <th>2001-02-20</th>\n",
              "      <th>2001-02-21</th>\n",
              "      <th>2001-02-22</th>\n",
              "      <th>2001-02-23</th>\n",
              "      <th>2001-02-24</th>\n",
              "      <th>2001-02-25</th>\n",
              "      <th>2001-02-26</th>\n",
              "      <th>2001-02-27</th>\n",
              "      <th>2001-02-28</th>\n",
              "    </tr>\n",
              "    <tr>\n",
              "      <th>customerid</th>\n",
              "      <th></th>\n",
              "      <th></th>\n",
              "      <th></th>\n",
              "      <th></th>\n",
              "      <th></th>\n",
              "      <th></th>\n",
              "      <th></th>\n",
              "      <th></th>\n",
              "      <th></th>\n",
              "      <th></th>\n",
              "      <th></th>\n",
              "      <th></th>\n",
              "      <th></th>\n",
              "      <th></th>\n",
              "      <th></th>\n",
              "      <th></th>\n",
              "      <th></th>\n",
              "      <th></th>\n",
              "      <th></th>\n",
              "      <th></th>\n",
              "      <th></th>\n",
              "    </tr>\n",
              "  </thead>\n",
              "  <tbody>\n",
              "    <tr>\n",
              "      <th>1069</th>\n",
              "      <td>0</td>\n",
              "      <td>0</td>\n",
              "      <td>0</td>\n",
              "      <td>0</td>\n",
              "      <td>0</td>\n",
              "      <td>0</td>\n",
              "      <td>0</td>\n",
              "      <td>0</td>\n",
              "      <td>0</td>\n",
              "      <td>0</td>\n",
              "      <td>...</td>\n",
              "      <td>0</td>\n",
              "      <td>0</td>\n",
              "      <td>0</td>\n",
              "      <td>0</td>\n",
              "      <td>0</td>\n",
              "      <td>0</td>\n",
              "      <td>0</td>\n",
              "      <td>0</td>\n",
              "      <td>0</td>\n",
              "      <td>0</td>\n",
              "    </tr>\n",
              "    <tr>\n",
              "      <th>1113</th>\n",
              "      <td>0</td>\n",
              "      <td>0</td>\n",
              "      <td>0</td>\n",
              "      <td>0</td>\n",
              "      <td>0</td>\n",
              "      <td>0</td>\n",
              "      <td>0</td>\n",
              "      <td>0</td>\n",
              "      <td>0</td>\n",
              "      <td>0</td>\n",
              "      <td>...</td>\n",
              "      <td>0</td>\n",
              "      <td>0</td>\n",
              "      <td>0</td>\n",
              "      <td>0</td>\n",
              "      <td>0</td>\n",
              "      <td>0</td>\n",
              "      <td>0</td>\n",
              "      <td>0</td>\n",
              "      <td>0</td>\n",
              "      <td>0</td>\n",
              "    </tr>\n",
              "    <tr>\n",
              "      <th>1250</th>\n",
              "      <td>0</td>\n",
              "      <td>0</td>\n",
              "      <td>0</td>\n",
              "      <td>0</td>\n",
              "      <td>0</td>\n",
              "      <td>0</td>\n",
              "      <td>0</td>\n",
              "      <td>0</td>\n",
              "      <td>0</td>\n",
              "      <td>0</td>\n",
              "      <td>...</td>\n",
              "      <td>0</td>\n",
              "      <td>0</td>\n",
              "      <td>0</td>\n",
              "      <td>0</td>\n",
              "      <td>0</td>\n",
              "      <td>0</td>\n",
              "      <td>0</td>\n",
              "      <td>0</td>\n",
              "      <td>0</td>\n",
              "      <td>0</td>\n",
              "    </tr>\n",
              "    <tr>\n",
              "      <th>1359</th>\n",
              "      <td>0</td>\n",
              "      <td>0</td>\n",
              "      <td>0</td>\n",
              "      <td>0</td>\n",
              "      <td>0</td>\n",
              "      <td>0</td>\n",
              "      <td>0</td>\n",
              "      <td>0</td>\n",
              "      <td>0</td>\n",
              "      <td>0</td>\n",
              "      <td>...</td>\n",
              "      <td>0</td>\n",
              "      <td>0</td>\n",
              "      <td>0</td>\n",
              "      <td>0</td>\n",
              "      <td>0</td>\n",
              "      <td>0</td>\n",
              "      <td>0</td>\n",
              "      <td>0</td>\n",
              "      <td>0</td>\n",
              "      <td>0</td>\n",
              "    </tr>\n",
              "    <tr>\n",
              "      <th>1823</th>\n",
              "      <td>0</td>\n",
              "      <td>2704</td>\n",
              "      <td>0</td>\n",
              "      <td>0</td>\n",
              "      <td>0</td>\n",
              "      <td>2916</td>\n",
              "      <td>0</td>\n",
              "      <td>0</td>\n",
              "      <td>0</td>\n",
              "      <td>0</td>\n",
              "      <td>...</td>\n",
              "      <td>0</td>\n",
              "      <td>0</td>\n",
              "      <td>0</td>\n",
              "      <td>0</td>\n",
              "      <td>0</td>\n",
              "      <td>0</td>\n",
              "      <td>0</td>\n",
              "      <td>0</td>\n",
              "      <td>0</td>\n",
              "      <td>0</td>\n",
              "    </tr>\n",
              "  </tbody>\n",
              "</table>\n",
              "<p>5 rows × 120 columns</p>\n",
              "</div>\n",
              "      <button class=\"colab-df-convert\" onclick=\"convertToInteractive('df-cde65411-cb21-4953-ab99-4715f22510ad')\"\n",
              "              title=\"Convert this dataframe to an interactive table.\"\n",
              "              style=\"display:none;\">\n",
              "        \n",
              "  <svg xmlns=\"http://www.w3.org/2000/svg\" height=\"24px\"viewBox=\"0 0 24 24\"\n",
              "       width=\"24px\">\n",
              "    <path d=\"M0 0h24v24H0V0z\" fill=\"none\"/>\n",
              "    <path d=\"M18.56 5.44l.94 2.06.94-2.06 2.06-.94-2.06-.94-.94-2.06-.94 2.06-2.06.94zm-11 1L8.5 8.5l.94-2.06 2.06-.94-2.06-.94L8.5 2.5l-.94 2.06-2.06.94zm10 10l.94 2.06.94-2.06 2.06-.94-2.06-.94-.94-2.06-.94 2.06-2.06.94z\"/><path d=\"M17.41 7.96l-1.37-1.37c-.4-.4-.92-.59-1.43-.59-.52 0-1.04.2-1.43.59L10.3 9.45l-7.72 7.72c-.78.78-.78 2.05 0 2.83L4 21.41c.39.39.9.59 1.41.59.51 0 1.02-.2 1.41-.59l7.78-7.78 2.81-2.81c.8-.78.8-2.07 0-2.86zM5.41 20L4 18.59l7.72-7.72 1.47 1.35L5.41 20z\"/>\n",
              "  </svg>\n",
              "      </button>\n",
              "      \n",
              "  <style>\n",
              "    .colab-df-container {\n",
              "      display:flex;\n",
              "      flex-wrap:wrap;\n",
              "      gap: 12px;\n",
              "    }\n",
              "\n",
              "    .colab-df-convert {\n",
              "      background-color: #E8F0FE;\n",
              "      border: none;\n",
              "      border-radius: 50%;\n",
              "      cursor: pointer;\n",
              "      display: none;\n",
              "      fill: #1967D2;\n",
              "      height: 32px;\n",
              "      padding: 0 0 0 0;\n",
              "      width: 32px;\n",
              "    }\n",
              "\n",
              "    .colab-df-convert:hover {\n",
              "      background-color: #E2EBFA;\n",
              "      box-shadow: 0px 1px 2px rgba(60, 64, 67, 0.3), 0px 1px 3px 1px rgba(60, 64, 67, 0.15);\n",
              "      fill: #174EA6;\n",
              "    }\n",
              "\n",
              "    [theme=dark] .colab-df-convert {\n",
              "      background-color: #3B4455;\n",
              "      fill: #D2E3FC;\n",
              "    }\n",
              "\n",
              "    [theme=dark] .colab-df-convert:hover {\n",
              "      background-color: #434B5C;\n",
              "      box-shadow: 0px 1px 3px 1px rgba(0, 0, 0, 0.15);\n",
              "      filter: drop-shadow(0px 1px 2px rgba(0, 0, 0, 0.3));\n",
              "      fill: #FFFFFF;\n",
              "    }\n",
              "  </style>\n",
              "\n",
              "      <script>\n",
              "        const buttonEl =\n",
              "          document.querySelector('#df-cde65411-cb21-4953-ab99-4715f22510ad button.colab-df-convert');\n",
              "        buttonEl.style.display =\n",
              "          google.colab.kernel.accessAllowed ? 'block' : 'none';\n",
              "\n",
              "        async function convertToInteractive(key) {\n",
              "          const element = document.querySelector('#df-cde65411-cb21-4953-ab99-4715f22510ad');\n",
              "          const dataTable =\n",
              "            await google.colab.kernel.invokeFunction('convertToInteractive',\n",
              "                                                     [key], {});\n",
              "          if (!dataTable) return;\n",
              "\n",
              "          const docLinkHtml = 'Like what you see? Visit the ' +\n",
              "            '<a target=\"_blank\" href=https://colab.research.google.com/notebooks/data_table.ipynb>data table notebook</a>'\n",
              "            + ' to learn more about interactive tables.';\n",
              "          element.innerHTML = '';\n",
              "          dataTable['output_type'] = 'display_data';\n",
              "          await google.colab.output.renderOutput(dataTable, element);\n",
              "          const docLink = document.createElement('div');\n",
              "          docLink.innerHTML = docLinkHtml;\n",
              "          element.appendChild(docLink);\n",
              "        }\n",
              "      </script>\n",
              "    </div>\n",
              "  </div>\n",
              "  "
            ]
          },
          "metadata": {},
          "execution_count": 68
        }
      ]
    },
    {
      "cell_type": "code",
      "source": [
        "# 9.3 Find mean, across columns\n",
        "#     And this our answer to the question\n",
        "df.groupby(['customerid', 'datetime'])['purchase'].sum().unstack().mean(axis = 1, skipna = True).head()"
      ],
      "metadata": {
        "id": "OrMx64mNN0-q"
      },
      "execution_count": null,
      "outputs": []
    },
    {
      "cell_type": "code",
      "source": [
        "# 9.4 Let us verify the result for at least one customer\n",
        "df[df['customerid'] == 1069].groupby('datetime')['purchase'].sum()\n",
        "(187 + 971 + 922 + 580)/4               # 665\n"
      ],
      "metadata": {
        "colab": {
          "base_uri": "https://localhost:8080/"
        },
        "id": "2xNJFNF6NV6k",
        "outputId": "6858be8b-6d28-454f-e0d2-268b2c2fae5a"
      },
      "execution_count": 69,
      "outputs": [
        {
          "output_type": "execute_result",
          "data": {
            "text/plain": [
              "datetime\n",
              "2000-11-13    187\n",
              "2001-01-21    971\n",
              "2001-02-03    922\n",
              "2001-02-10    580\n",
              "Name: purchase, dtype: int32"
            ]
          },
          "metadata": {},
          "execution_count": 69
        },
        {
          "output_type": "execute_result",
          "data": {
            "text/plain": [
              "665.0"
            ]
          },
          "metadata": {},
          "execution_count": 69
        }
      ]
    },
    {
      "cell_type": "markdown",
      "source": [
        "### Q9"
      ],
      "metadata": {
        "id": "Owve-b0nOMOt"
      }
    },
    {
      "cell_type": "code",
      "source": [
        "# 10 (Q9):  What are average purchases customer-wise\n",
        "#          Sol: Gr by customerid and find mean() purchases per id\n",
        "\n",
        "df.groupby('customerid')['purchase'].mean().sort_values(ascending = False)\n"
      ],
      "metadata": {
        "colab": {
          "base_uri": "https://localhost:8080/"
        },
        "id": "DPFe3lFQOEa0",
        "outputId": "5bd2324b-c390-4527-bbc2-91e8f936a2c0"
      },
      "execution_count": 70,
      "outputs": [
        {
          "output_type": "execute_result",
          "data": {
            "text/plain": [
              "customerid\n",
              "1622362    5.464947e+06\n",
              "2134819    3.710759e+06\n",
              "2123851    1.617980e+06\n",
              "2139296    1.538240e+06\n",
              "2120829    1.482919e+06\n",
              "               ...     \n",
              "1495300    9.000000e+00\n",
              "1521498    9.000000e+00\n",
              "848442     9.000000e+00\n",
              "1456431    8.000000e+00\n",
              "2149516    8.000000e+00\n",
              "Name: purchase, Length: 32266, dtype: float64"
            ]
          },
          "metadata": {},
          "execution_count": 70
        }
      ]
    },
    {
      "cell_type": "markdown",
      "source": [
        "### Q10"
      ],
      "metadata": {
        "id": "GXw5OKCHOXEM"
      }
    },
    {
      "cell_type": "code",
      "source": [
        "## 11. Q9\n",
        "# 11.1 Determine customer-wise, product_subclass preference?\n",
        "#     We will define preference as no of different datetimes purchased.\n",
        "#     All purchases of a product_subclass on one date count to one.\n",
        "\n",
        "result = df.groupby(['customerid', 'product_subclass'])['datetime'].nunique().sort_values(ascending= False)\n",
        "result.head()\n",
        "\n",
        "# 11.2 Just to extract result for one customer from this multiindex, use\n",
        "#      index.get_level_values()....rather complicated but works\n",
        "#  Ref: https://stackoverflow.com/questions/17921010/how-to-query-multiindex-index-columns-values-in-pandas\n",
        "result.loc[result.index.get_level_values('customerid')  == 1740653, :]\n",
        "\n",
        "\n",
        "# 11.3 But if preference means by quantity, then solution is:\n",
        "df.groupby(['customerid', 'product_subclass'])['quantity'].sum().sort_values(ascending= False)"
      ],
      "metadata": {
        "id": "CMioD0UhOQDA"
      },
      "execution_count": null,
      "outputs": []
    },
    {
      "cell_type": "markdown",
      "source": [
        "### Q11"
      ],
      "metadata": {
        "id": "Is3dCoSoOgFk"
      }
    },
    {
      "cell_type": "code",
      "source": [
        "# 12 (Q10): Basket of purchases:\n",
        "#            Variety of purchases made per customer, Productid wise\n",
        "\n",
        "df.groupby(['customerid'])['productid'].nunique().sort_values(ascending = False)\n"
      ],
      "metadata": {
        "colab": {
          "base_uri": "https://localhost:8080/"
        },
        "id": "dylYh0kHOhUA",
        "outputId": "d3ea7c07-f8be-4df1-d59c-6f73fb74524d"
      },
      "execution_count": 71,
      "outputs": [
        {
          "output_type": "execute_result",
          "data": {
            "text/plain": [
              "customerid\n",
              "20459      1034\n",
              "2112589     793\n",
              "2112596     722\n",
              "2113579     684\n",
              "1847994     593\n",
              "           ... \n",
              "2156385       1\n",
              "1720280       1\n",
              "218498        1\n",
              "1923100       1\n",
              "1783001       1\n",
              "Name: productid, Length: 32266, dtype: int64"
            ]
          },
          "metadata": {},
          "execution_count": 71
        }
      ]
    },
    {
      "cell_type": "markdown",
      "source": [
        "### Q12"
      ],
      "metadata": {
        "id": "d6WgtXIsOrRs"
      }
    },
    {
      "cell_type": "code",
      "source": [
        "# 13  Which product_class brings most revenue\n",
        "#        Sol: Group by product_subclass and add quantity * salesprice\n",
        "\n",
        "# 13.1 Here is the solution:\n",
        "df.groupby(['product_subclass'])['purchase'].sum()\n"
      ],
      "metadata": {
        "colab": {
          "base_uri": "https://localhost:8080/"
        },
        "id": "f0XlK9eMOiIq",
        "outputId": "80229865-29d2-4285-fcf9-17a54a387ac4"
      },
      "execution_count": 72,
      "outputs": [
        {
          "output_type": "execute_result",
          "data": {
            "text/plain": [
              "product_subclass\n",
              "100101     199457\n",
              "100102    2140857\n",
              "100103     446425\n",
              "100104     104410\n",
              "100105      48262\n",
              "           ...   \n",
              "780506       8203\n",
              "780507        250\n",
              "780508       8031\n",
              "780509       1170\n",
              "780510     116813\n",
              "Name: purchase, Length: 2012, dtype: int32"
            ]
          },
          "metadata": {},
          "execution_count": 72
        }
      ]
    },
    {
      "cell_type": "markdown",
      "source": [
        "### Q13"
      ],
      "metadata": {
        "id": "7dDVXIASO22l"
      }
    },
    {
      "cell_type": "code",
      "source": [
        "# 13.2 (Q12): Which product_subclass is popular that is\n",
        "#             most customers buy?\n",
        "df.groupby(['product_subclass'])['customerid'].nunique().sort_values(ascending=False)\n"
      ],
      "metadata": {
        "colab": {
          "base_uri": "https://localhost:8080/"
        },
        "id": "A48b9a37Owyg",
        "outputId": "f65bc57f-49f5-419f-a521-1e65b6a36e61"
      },
      "execution_count": 73,
      "outputs": [
        {
          "output_type": "execute_result",
          "data": {
            "text/plain": [
              "product_subclass\n",
              "100205    9694\n",
              "500201    7533\n",
              "130315    7410\n",
              "110401    6587\n",
              "110217    6489\n",
              "          ... \n",
              "760910       1\n",
              "550104       1\n",
              "510306       1\n",
              "730610       1\n",
              "500348       1\n",
              "Name: customerid, Length: 2012, dtype: int64"
            ]
          },
          "metadata": {},
          "execution_count": 73
        }
      ]
    },
    {
      "cell_type": "markdown",
      "source": [
        "### Exercise questions\n"
      ],
      "metadata": {
        "id": "SOdXMTE9O-hk"
      }
    },
    {
      "cell_type": "code",
      "source": [
        "## Not solved. Students to solve these\n",
        "# 13.3 (Q14): Age wise purchases average. Which age group max purchases\n",
        "#             Just group by age\n",
        "\n",
        "# 13.4 (Q15): Residence area wise purchasing capacity\n",
        "#             Just group by residence area wise\n",
        "\n",
        "\n",
        "# 13.5 (Q16)  Per visit/per transaction avg money spent\n",
        "\n",
        "\n",
        "# 14   (Q17): Distribuiton of age groups with residence_area\n",
        "#             Same as:  table(d12$age, d12$residence_area)\n",
        "\n",
        "# 15.  (Q18)    What is the distribution of customers, age-wise\n"
      ],
      "metadata": {
        "id": "qfjB51PKO5Wn"
      },
      "execution_count": 74,
      "outputs": []
    },
    {
      "cell_type": "markdown",
      "source": [
        "### Q19"
      ],
      "metadata": {
        "id": "_YXPhorpPgVs"
      }
    },
    {
      "cell_type": "code",
      "source": [
        "\n",
        "# 16. (Q18) Is there a relationship between 'age' and 'residence_area'\n",
        "#           We will calculate ch-square statistics\n",
        "#           An often quoted guideline for the validity of chi-square calculation\n",
        "#           is that the test should be used only if the observed and expected\n",
        "#           frequencies in each cell are at least 5.\n",
        "\n",
        "# 16.1 Return values are: chi2 statistic, p-value, degrees-of-freedom, expected-freq\n",
        "chi2_contingency(pd.crosstab(df.age, df.residence_area))     # p-value = 0\n",
        "# OR\n",
        "# 16.2\n",
        "chi2, p_value, dof, expeFreq = chi2_contingency(pd.crosstab(df.age, df.residence_area))\n",
        "p_value\n",
        "\n",
        "\n",
        "\n",
        "# 17. Mosiac plot of contingency table\n",
        "#     At a glance view of deviation from expected freq\n",
        "# statistic=True  will give colors to the plot. If the tile has a freq\n",
        "#   is more than 2 standard deviation from the expected value\n",
        "#    color will go from green to red (for positive deviations, blue otherwise)\n",
        "#     and will acquire an hatching when crosses the 3 sigma.\n",
        "fig = plt.figure(figsize = (10,10))     # Set figure size\n",
        "ax = fig.add_subplot(111)               # Add one subplot\n",
        "mosaic(df, ['age', 'residence_area'],\n",
        "       ax = ax,\n",
        "       statistic = True\n",
        "       )\n",
        "plt.show()\n",
        "\n",
        "\n",
        "# 18   t-test IS there any significant difference in avg spending\n",
        "#        age-wise, say, between ages 'A' and 'B'\n",
        "#   Steps:\n",
        "#        1. Extract spending data for two ages\n",
        "#        2. Discover 99th percentile points for each\n",
        "#        3. Remove outliers\n",
        "#        4. Perform t-test\n",
        "\n",
        "# 18.1 'purchase' data for age = 'A'\n",
        "a = df.loc[df['age'] == 'A', 'purchase']\n",
        "len(a)              # 30068\n",
        "\n",
        "# 18.2 'purchase' data for age = 'B'\n",
        "b = df.loc[df['age'] == 'B', 'purchase']\n",
        "len(b)              # 66427\n",
        "\n",
        "# 18.3 Conduct t-test now. Are the means of two purchases equal?\n",
        "_, pvalue = ttest_ind( a, b, axis=0)\n",
        "pvalue      # 0.18781 So no difference in purchase mean\n",
        "\n",
        "# 18.4 Let us remove few outliers and then again perform t-test\n",
        "#      What is the 99th percentile in each case\n",
        "scoreatpercentile(a, per = 99)             # 2558\n",
        "scoreatpercentile(b, per = 99)             # 3029\n",
        "\n",
        "# 18.5 Extract from 'a' & 'b' values other than outlers\n",
        "a= a[a<2558]\n",
        "b = b[b<3029]\n",
        "len(a)        # 29767\n",
        "len(b)        # 65762\n",
        "\n",
        "# 18.6 Perform t-test now:\n",
        "# 18.7 Removing outliers drastically alters the conclusion\n",
        "_, pvalue = ttest_ind( a, b, axis=0)\n",
        "pvalue             # 3.060e-42\n",
        "\n"
      ],
      "metadata": {
        "id": "yZ2o35_9PCPy"
      },
      "execution_count": null,
      "outputs": []
    },
    {
      "cell_type": "code",
      "source": [
        "#################### I am done ##########################################"
      ],
      "metadata": {
        "id": "M2q2YMzjPlwG"
      },
      "execution_count": null,
      "outputs": []
    }
  ]
}