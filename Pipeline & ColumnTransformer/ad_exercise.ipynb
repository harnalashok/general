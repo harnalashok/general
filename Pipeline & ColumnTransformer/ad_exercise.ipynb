{
 "cells": [
  {
   "cell_type": "code",
   "execution_count": null,
   "metadata": {},
   "outputs": [],
   "source": [
    "# Last amended: 11th July, 2020\n",
    "# My folder: /home/ashok/Documents/advertising\n",
    "# VM: lubuntu_machinelearning_I\n",
    "# Objective:\n",
    "#           Work with mixed datatypes: numeric, categorical and text\n",
    "#           Process different datatypes differently\n",
    "#           Using pipelines and columntransformer"
   ]
  },
  {
   "cell_type": "code",
   "execution_count": 90,
   "metadata": {},
   "outputs": [],
   "source": [
    "# 1.0 Call libraries\n",
    "%reset -f\n",
    "import numpy as np\n",
    "import pandas as pd\n",
    "# 1.1\n",
    "from sklearn.model_selection import train_test_split\n",
    "from sklearn.preprocessing import StandardScaler\n",
    "from sklearn.preprocessing import OneHotEncoder\n",
    "from sklearn.impute import SimpleImputer\n",
    "from sklearn.feature_extraction.text import TfidfVectorizer\n",
    "# 1.2\n",
    "from sklearn.pipeline import Pipeline\n",
    "from sklearn.compose import ColumnTransformer\n",
    "# 1.3\n",
    "from sklearn.tree import DecisionTreeClassifier\n",
    "import os"
   ]
  },
  {
   "cell_type": "code",
   "execution_count": 108,
   "metadata": {},
   "outputs": [],
   "source": [
    "# 1.4 Display output not only of last command but all commands in a cell\n",
    "from IPython.core.interactiveshell import InteractiveShell\n",
    "InteractiveShell.ast_node_interactivity = \"all\""
   ]
  },
  {
   "cell_type": "code",
   "execution_count": 91,
   "metadata": {},
   "outputs": [
    {
     "data": {
      "text/html": [
       "<div>\n",
       "<style scoped>\n",
       "    .dataframe tbody tr th:only-of-type {\n",
       "        vertical-align: middle;\n",
       "    }\n",
       "\n",
       "    .dataframe tbody tr th {\n",
       "        vertical-align: top;\n",
       "    }\n",
       "\n",
       "    .dataframe thead th {\n",
       "        text-align: right;\n",
       "    }\n",
       "</style>\n",
       "<table border=\"1\" class=\"dataframe\">\n",
       "  <thead>\n",
       "    <tr style=\"text-align: right;\">\n",
       "      <th></th>\n",
       "      <th>Unnamed: 0</th>\n",
       "      <th>Daily Time Spent on Site</th>\n",
       "      <th>Age</th>\n",
       "      <th>Area Income</th>\n",
       "      <th>Daily Internet Usage</th>\n",
       "      <th>Ad Topic Line</th>\n",
       "      <th>City</th>\n",
       "      <th>Male</th>\n",
       "      <th>Country</th>\n",
       "      <th>Timestamp</th>\n",
       "      <th>Clicked on Ad</th>\n",
       "      <th>age_cat</th>\n",
       "      <th>areaIncome_cat</th>\n",
       "    </tr>\n",
       "  </thead>\n",
       "  <tbody>\n",
       "    <tr>\n",
       "      <th>0</th>\n",
       "      <td>0</td>\n",
       "      <td>68.95</td>\n",
       "      <td>35.0</td>\n",
       "      <td>61833.90</td>\n",
       "      <td>256.09</td>\n",
       "      <td>Cloned 5thgeneration orchestration</td>\n",
       "      <td>Wrightburgh</td>\n",
       "      <td>0</td>\n",
       "      <td>Tunisia</td>\n",
       "      <td>2016-03-27 00:53:11</td>\n",
       "      <td>no</td>\n",
       "      <td>middle</td>\n",
       "      <td>high</td>\n",
       "    </tr>\n",
       "    <tr>\n",
       "      <th>1</th>\n",
       "      <td>1</td>\n",
       "      <td>NaN</td>\n",
       "      <td>31.0</td>\n",
       "      <td>68441.85</td>\n",
       "      <td>193.77</td>\n",
       "      <td>Monitored national standardization</td>\n",
       "      <td>West Jodi</td>\n",
       "      <td>1</td>\n",
       "      <td>Nauru</td>\n",
       "      <td>2016-04-04 01:39:02</td>\n",
       "      <td>no</td>\n",
       "      <td>young</td>\n",
       "      <td>high</td>\n",
       "    </tr>\n",
       "    <tr>\n",
       "      <th>2</th>\n",
       "      <td>2</td>\n",
       "      <td>69.47</td>\n",
       "      <td>26.0</td>\n",
       "      <td>59785.94</td>\n",
       "      <td>236.50</td>\n",
       "      <td>Organic bottom-line service-desk</td>\n",
       "      <td>Davidton</td>\n",
       "      <td>0</td>\n",
       "      <td>San Marino</td>\n",
       "      <td>2016-03-13 20:35:42</td>\n",
       "      <td>no</td>\n",
       "      <td>young</td>\n",
       "      <td>high</td>\n",
       "    </tr>\n",
       "  </tbody>\n",
       "</table>\n",
       "</div>"
      ],
      "text/plain": [
       "   Unnamed: 0  Daily Time Spent on Site   Age  Area Income  \\\n",
       "0           0                     68.95  35.0     61833.90   \n",
       "1           1                       NaN  31.0     68441.85   \n",
       "2           2                     69.47  26.0     59785.94   \n",
       "\n",
       "   Daily Internet Usage                       Ad Topic Line         City  \\\n",
       "0                256.09  Cloned 5thgeneration orchestration  Wrightburgh   \n",
       "1                193.77  Monitored national standardization    West Jodi   \n",
       "2                236.50    Organic bottom-line service-desk     Davidton   \n",
       "\n",
       "   Male     Country           Timestamp Clicked on Ad age_cat areaIncome_cat  \n",
       "0     0     Tunisia 2016-03-27 00:53:11            no  middle           high  \n",
       "1     1       Nauru 2016-04-04 01:39:02            no   young           high  \n",
       "2     0  San Marino 2016-03-13 20:35:42            no   young           high  "
      ]
     },
     "execution_count": 91,
     "metadata": {},
     "output_type": "execute_result"
    }
   ],
   "source": [
    "# 2.0 Go to folder containing data file\n",
    "#     and read file:\n",
    "#os.chdir(\"D:\\\\data\\\\OneDrive\\\\Documents\\\\advertising\")\n",
    "#os.chdir(\"/home/ashok/Documents/advertising\")\n",
    "os.chdir(\"e:\\\\OneDrive\\\\Documents\\\\advertising\")\n",
    "\n",
    "# 2.1 Read file and while reading file,\n",
    "#      convert 'Timestamp' to datetime time\n",
    "ad = pd.read_csv(\"ad_mis.csv\",\n",
    "                  parse_dates = ['Timestamp']    # especial for date parsing\n",
    "                  )\n",
    "\n",
    "# 2.2 Look at data and make up your mind \n",
    "#     as to which in which columns\n",
    "#     amendement has to be made\n",
    "ad.head(3)"
   ]
  },
  {
   "cell_type": "code",
   "execution_count": 92,
   "metadata": {},
   "outputs": [
    {
     "data": {
      "text/plain": [
       "Unnamed: 0                    0\n",
       "Daily Time Spent on Site    100\n",
       "Age                         100\n",
       "Area Income                 100\n",
       "Daily Internet Usage        100\n",
       "Ad Topic Line                 0\n",
       "City                          0\n",
       "Male                          0\n",
       "Country                       0\n",
       "Timestamp                     0\n",
       "Clicked on Ad                 0\n",
       "age_cat                     100\n",
       "areaIncome_cat              100\n",
       "dtype: int64"
      ]
     },
     "execution_count": 92,
     "metadata": {},
     "output_type": "execute_result"
    }
   ],
   "source": [
    "# 2.3 Check nulls\n",
    "ad.isnull().sum()"
   ]
  },
  {
   "cell_type": "code",
   "execution_count": 152,
   "metadata": {},
   "outputs": [],
   "source": [
    "# 2.4 Change column names\n",
    "ad.columns = [ c.replace(\" \",\"\").lower() for c in ad.columns.values ]"
   ]
  },
  {
   "cell_type": "code",
   "execution_count": 94,
   "metadata": {},
   "outputs": [],
   "source": [
    "# 2.5 Drop columns\n",
    "ad.drop(columns = ['unnamed:0', 'city', 'country'], inplace = True)"
   ]
  },
  {
   "cell_type": "code",
   "execution_count": 96,
   "metadata": {},
   "outputs": [
    {
     "data": {
      "text/plain": [
       "0       no\n",
       "1       no\n",
       "2       no\n",
       "3       no\n",
       "4       no\n",
       "      ... \n",
       "995    yes\n",
       "996    yes\n",
       "997    yes\n",
       "998     no\n",
       "999    yes\n",
       "Name: clickedonad, Length: 1000, dtype: object"
      ]
     },
     "execution_count": 96,
     "metadata": {},
     "output_type": "execute_result"
    }
   ],
   "source": [
    "# 2.6 Separate X and y\n",
    "y = ad.pop(\"clickedonad\")\n",
    "y\n",
    "X = ad"
   ]
  },
  {
   "cell_type": "code",
   "execution_count": 98,
   "metadata": {},
   "outputs": [
    {
     "data": {
      "text/html": [
       "<div>\n",
       "<style scoped>\n",
       "    .dataframe tbody tr th:only-of-type {\n",
       "        vertical-align: middle;\n",
       "    }\n",
       "\n",
       "    .dataframe tbody tr th {\n",
       "        vertical-align: top;\n",
       "    }\n",
       "\n",
       "    .dataframe thead th {\n",
       "        text-align: right;\n",
       "    }\n",
       "</style>\n",
       "<table border=\"1\" class=\"dataframe\">\n",
       "  <thead>\n",
       "    <tr style=\"text-align: right;\">\n",
       "      <th></th>\n",
       "      <th>dailytimespentonsite</th>\n",
       "      <th>age</th>\n",
       "      <th>areaincome</th>\n",
       "      <th>dailyinternetusage</th>\n",
       "      <th>adtopicline</th>\n",
       "      <th>male</th>\n",
       "      <th>timestamp</th>\n",
       "      <th>age_cat</th>\n",
       "      <th>areaincome_cat</th>\n",
       "      <th>hourOfDay</th>\n",
       "      <th>weekday</th>\n",
       "      <th>quarter</th>\n",
       "    </tr>\n",
       "  </thead>\n",
       "  <tbody>\n",
       "    <tr>\n",
       "      <th>0</th>\n",
       "      <td>68.95</td>\n",
       "      <td>35.0</td>\n",
       "      <td>61833.90</td>\n",
       "      <td>256.09</td>\n",
       "      <td>Cloned 5thgeneration orchestration</td>\n",
       "      <td>0</td>\n",
       "      <td>2016-03-27 00:53:11</td>\n",
       "      <td>middle</td>\n",
       "      <td>high</td>\n",
       "      <td>0</td>\n",
       "      <td>6</td>\n",
       "      <td>3</td>\n",
       "    </tr>\n",
       "    <tr>\n",
       "      <th>1</th>\n",
       "      <td>NaN</td>\n",
       "      <td>31.0</td>\n",
       "      <td>68441.85</td>\n",
       "      <td>193.77</td>\n",
       "      <td>Monitored national standardization</td>\n",
       "      <td>1</td>\n",
       "      <td>2016-04-04 01:39:02</td>\n",
       "      <td>young</td>\n",
       "      <td>high</td>\n",
       "      <td>1</td>\n",
       "      <td>0</td>\n",
       "      <td>4</td>\n",
       "    </tr>\n",
       "  </tbody>\n",
       "</table>\n",
       "</div>"
      ],
      "text/plain": [
       "   dailytimespentonsite   age  areaincome  dailyinternetusage  \\\n",
       "0                 68.95  35.0    61833.90              256.09   \n",
       "1                   NaN  31.0    68441.85              193.77   \n",
       "\n",
       "                          adtopicline  male           timestamp age_cat  \\\n",
       "0  Cloned 5thgeneration orchestration     0 2016-03-27 00:53:11  middle   \n",
       "1  Monitored national standardization     1 2016-04-04 01:39:02   young   \n",
       "\n",
       "  areaincome_cat  hourOfDay  weekday  quarter  \n",
       "0           high          0        6        3  \n",
       "1           high          1        0        4  "
      ]
     },
     "execution_count": 98,
     "metadata": {},
     "output_type": "execute_result"
    }
   ],
   "source": [
    "# 3.0 Extract hour, weekday and month\n",
    "ad['hourOfDay']   = ad['timestamp'].dt.hour\n",
    "ad['weekday']     = ad['timestamp'].dt.weekday\n",
    "ad['quarter']     = ad['timestamp'].dt.month \n",
    "\n",
    "# 3.1    \n",
    "ad.head(2)    \n"
   ]
  },
  {
   "cell_type": "code",
   "execution_count": 99,
   "metadata": {},
   "outputs": [
    {
     "data": {
      "text/plain": [
       "0    Sunday\n",
       "1    Monday\n",
       "2    Sunday\n",
       "3    Sunday\n",
       "4    Friday\n",
       "Name: weekday, dtype: object"
      ]
     },
     "execution_count": 99,
     "metadata": {},
     "output_type": "execute_result"
    }
   ],
   "source": [
    "    \n",
    "# 3.2 Cut hour to morning, evening, night etc\n",
    "#     For example 0 to 6am is earlymorning\n",
    "l = [\"earlymorning\", \"morning\", \"afternoon\", \"evening\", \"night\",\"latenight\"]\n",
    "ad[\"hour\"] = pd.cut(ad['hourOfDay'], bins = [-1,6,12,17,20,22,24], labels = l)\n",
    "\n",
    "\n",
    "# 3.3 Similarly for weekdays\n",
    "#     Map weekday numbers to weekday names\n",
    "#     We use Series.map() method\n",
    "ad['weekday'] = ad['weekday'].map({\n",
    "                                    0 : 'Monday',\n",
    "                                    1 : 'Tuesday',\n",
    "                                    2: 'Wednesday',\n",
    "                                    3: 'Thursday',\n",
    "                                    4: 'Friday',\n",
    "                                    5: 'Saturday',\n",
    "                                    6: 'Sunday'\n",
    "                                    }\n",
    "                                )\n",
    "# 3.4\n",
    "ad.head()\n"
   ]
  },
  {
   "cell_type": "code",
   "execution_count": 102,
   "metadata": {},
   "outputs": [],
   "source": [
    "# 3.5 Drop more columns\n",
    "ad.drop(columns = ['timestamp', 'hourOfDay'], inplace = True)"
   ]
  },
  {
   "cell_type": "code",
   "execution_count": 104,
   "metadata": {},
   "outputs": [
    {
     "data": {
      "text/plain": [
       "dailytimespentonsite     float64\n",
       "age                      float64\n",
       "areaincome               float64\n",
       "dailyinternetusage       float64\n",
       "adtopicline               object\n",
       "male                       int64\n",
       "age_cat                   object\n",
       "areaincome_cat            object\n",
       "weekday                   object\n",
       "quarter                    int64\n",
       "hour                    category\n",
       "dtype: object"
      ]
     },
     "execution_count": 104,
     "metadata": {},
     "output_type": "execute_result"
    }
   ],
   "source": [
    "# 4.0 Column dtypes\n",
    "X.dtypes"
   ]
  },
  {
   "cell_type": "code",
   "execution_count": 154,
   "metadata": {},
   "outputs": [
    {
     "data": {
      "text/plain": [
       "Index(['dailytimespentonsite', 'age', 'areaincome', 'dailyinternetusage',\n",
       "       'male', 'quarter'],\n",
       "      dtype='object')"
      ]
     },
     "execution_count": 154,
     "metadata": {},
     "output_type": "execute_result"
    }
   ],
   "source": [
    "# 4.1 Separate numeric and categorical columns\n",
    "num_cols = X.select_dtypes(include = ['float64','int64']).columns\n",
    "num_cols \n",
    "num_cols = num_cols[:-1]   # 'quarter' is categorical\n",
    "# 4.2num_cols"
   ]
  },
  {
   "cell_type": "code",
   "execution_count": 120,
   "metadata": {},
   "outputs": [
    {
     "data": {
      "text/plain": [
       "['adtopicline', 'age_cat', 'areaincome_cat', 'weekday', 'quarter']"
      ]
     },
     "execution_count": 120,
     "metadata": {},
     "output_type": "execute_result"
    }
   ],
   "source": [
    "# 4.2\n",
    "cat_cols = X.select_dtypes(include = 'object').columns\n",
    "cat_cols = cat_cols.tolist()\n",
    "cat_cols.extend(['quarter'])\n",
    "cat_cols"
   ]
  },
  {
   "cell_type": "code",
   "execution_count": 121,
   "metadata": {},
   "outputs": [],
   "source": [
    "# 4.3 How will we process data\n",
    "num_cols_mean = ['dailytimespentonsite', 'age']\n",
    "num_cols_median = ['areaincome', 'dailyinternetusage']\n",
    "cat_cols_mf = ['age_cat']\n",
    "cat_cols_constant = ['areaincome_cat']\n",
    "text_col = ['adtopicline']"
   ]
  },
  {
   "cell_type": "code",
   "execution_count": 122,
   "metadata": {},
   "outputs": [],
   "source": [
    "# 4.4 Create transformers to fill missing values\n",
    "si_mean = SimpleImputer(strategy = 'mean')\n",
    "si_median = SimpleImputer(strategy = 'median')\n",
    "si_mf = SimpleImputer(strategy = 'most_frequent')\n",
    "si_constant = SimpleImputer(strategy = \"constant\", fill_value= \"missing\")\n",
    "tfidf = TfidfVectorizer(stop_words = 'english')"
   ]
  },
  {
   "cell_type": "code",
   "execution_count": 130,
   "metadata": {},
   "outputs": [],
   "source": [
    "# 5.0 Create pipelines to fill missing values\n",
    "#     and to perform further processing\n",
    "\n",
    "pipe_mean = Pipeline(\n",
    "                 [\n",
    "                     (\"si_mean\",si_mean),\n",
    "                     (\"ss\", StandardScaler())\n",
    "                 ])\n",
    "\n",
    "pipe_median = Pipeline(\n",
    "                 [\n",
    "                     (\"si_median\",si_median),\n",
    "                     (\"ss\", StandardScaler())\n",
    "                 ])\n",
    "\n",
    "pipe_mf = Pipeline(\n",
    "                    [\n",
    "                        (\"si_mf\", si_mf),\n",
    "                        (\"ohe\", OneHotEncoder())\n",
    "                    ])\n",
    "\n",
    "pipe_const = Pipeline(\n",
    "                       [\n",
    "                           (\"si_constant\", si_constant),\n",
    "                           (\"ohe\", OneHotEncoder())\n",
    "                       ])\n",
    "\n"
   ]
  },
  {
   "cell_type": "code",
   "execution_count": 138,
   "metadata": {},
   "outputs": [],
   "source": [
    "# 5.1 Collect all pipes in column transformer\n",
    "\n",
    "ct = ColumnTransformer([\n",
    "                        (\"mean\", pipe_mean, num_cols_mean),\n",
    "                        ('median', pipe_median, num_cols_median),\n",
    "                        ('mf', pipe_mf, cat_cols_mf),\n",
    "                        ('const', pipe_const, cat_cols_constant),\n",
    "                        (\"ohe\", OneHotEncoder(), [\"weekday\", \"hour\"]),   # Non NaN here. Just OHE\n",
    "                        ('tfidf', tfidf, \"adtopicline\") \n",
    "                        ],\n",
    "                      remainder='passthrough',\n",
    "                      sparse_threshold = 0     # Output is dense matric\n",
    "                     )"
   ]
  },
  {
   "cell_type": "code",
   "execution_count": 139,
   "metadata": {},
   "outputs": [],
   "source": [
    "# 5.2 Does columntransformer work?\n",
    "h = ct.fit_transform(X)"
   ]
  },
  {
   "cell_type": "code",
   "execution_count": 140,
   "metadata": {},
   "outputs": [
    {
     "data": {
      "text/plain": [
       "(1000, 356)"
      ]
     },
     "execution_count": 140,
     "metadata": {},
     "output_type": "execute_result"
    },
    {
     "data": {
      "text/plain": [
       "array([[ 0.26271778, -0.11684714,  0.51873285, ...,  0.        ,\n",
       "         0.        ,  3.        ],\n",
       "       [ 0.        , -0.59485816,  1.03042177, ...,  0.        ,\n",
       "         1.        ,  4.        ],\n",
       "       [ 0.29720437, -1.19237194,  0.36014835, ...,  0.        ,\n",
       "         0.        ,  3.        ]])"
      ]
     },
     "execution_count": 140,
     "metadata": {},
     "output_type": "execute_result"
    }
   ],
   "source": [
    "# 5.3 It works\n",
    "h.shape\n",
    "h[:3]\n"
   ]
  },
  {
   "cell_type": "code",
   "execution_count": 141,
   "metadata": {},
   "outputs": [],
   "source": [
    "# 6.0 Create final pipeline\n",
    "pipe = Pipeline([('ct', ct), ('dt', DecisionTreeClassifier())])"
   ]
  },
  {
   "cell_type": "code",
   "execution_count": 148,
   "metadata": {},
   "outputs": [],
   "source": [
    "# 7.0 split data\n",
    "X_train,X_test,y_train,y_test = train_test_split(X,y,test_size = 0.3, shuffle = True)"
   ]
  },
  {
   "cell_type": "code",
   "execution_count": 149,
   "metadata": {},
   "outputs": [
    {
     "data": {
      "text/plain": [
       "Pipeline(memory=None,\n",
       "         steps=[('ct',\n",
       "                 ColumnTransformer(n_jobs=None, remainder='passthrough',\n",
       "                                   sparse_threshold=0, transformer_weights=None,\n",
       "                                   transformers=[('mean',\n",
       "                                                  Pipeline(memory=None,\n",
       "                                                           steps=[('si_mean',\n",
       "                                                                   SimpleImputer(add_indicator=False,\n",
       "                                                                                 copy=True,\n",
       "                                                                                 fill_value=None,\n",
       "                                                                                 missing_values=nan,\n",
       "                                                                                 strategy='mean',\n",
       "                                                                                 verbose=0)),\n",
       "                                                                  ('ss',\n",
       "                                                                   StandardScaler(copy=True,\n",
       "                                                                                  with_mean=True,\n",
       "                                                                                  with...\n",
       "                                                  'adtopicline')],\n",
       "                                   verbose=False)),\n",
       "                ('dt',\n",
       "                 DecisionTreeClassifier(ccp_alpha=0.0, class_weight=None,\n",
       "                                        criterion='gini', max_depth=None,\n",
       "                                        max_features=None, max_leaf_nodes=None,\n",
       "                                        min_impurity_decrease=0.0,\n",
       "                                        min_impurity_split=None,\n",
       "                                        min_samples_leaf=1, min_samples_split=2,\n",
       "                                        min_weight_fraction_leaf=0.0,\n",
       "                                        presort='deprecated', random_state=None,\n",
       "                                        splitter='best'))],\n",
       "         verbose=False)"
      ]
     },
     "execution_count": 149,
     "metadata": {},
     "output_type": "execute_result"
    }
   ],
   "source": [
    "# 7.1 Train estimator\n",
    "pipe.fit(X_train,y_train)"
   ]
  },
  {
   "cell_type": "code",
   "execution_count": 150,
   "metadata": {},
   "outputs": [],
   "source": [
    "# 7.2 Make prediction\n",
    "y_pred = pipe.predict(X_test)"
   ]
  },
  {
   "cell_type": "code",
   "execution_count": 151,
   "metadata": {},
   "outputs": [
    {
     "data": {
      "text/plain": [
       "0.9166666666666666"
      ]
     },
     "execution_count": 151,
     "metadata": {},
     "output_type": "execute_result"
    }
   ],
   "source": [
    "# 7.3 Get performanceabs\n",
    "np.sum(y_pred == y_test)/len(y_test)    # 91.66%"
   ]
  },
  {
   "cell_type": "code",
   "execution_count": null,
   "metadata": {},
   "outputs": [],
   "source": [
    "####################### I am done ##################"
   ]
  }
 ],
 "metadata": {
  "kernelspec": {
   "display_name": "Python 3",
   "language": "python",
   "name": "python3"
  },
  "language_info": {
   "codemirror_mode": {
    "name": "ipython",
    "version": 3
   },
   "file_extension": ".py",
   "mimetype": "text/x-python",
   "name": "python",
   "nbconvert_exporter": "python",
   "pygments_lexer": "ipython3",
   "version": "3.7.6"
  }
 },
 "nbformat": 4,
 "nbformat_minor": 4
}
