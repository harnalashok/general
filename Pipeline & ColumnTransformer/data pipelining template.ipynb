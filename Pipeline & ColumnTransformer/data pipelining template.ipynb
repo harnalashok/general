{
 "cells": [
  {
   "cell_type": "code",
   "execution_count": null,
   "metadata": {},
   "outputs": [],
   "source": [
    "# Last amended: 30th June, 2020\n",
    "# My folder:    /home/ashok/Documents/5.decisiontree\n",
    "\n",
    "# Objectives:\n",
    "#     i)    Read and explore data\n",
    "#    ii)    Deal with missing values \n",
    "#   iii)    OneHotEncode categorical features\n",
    "#   iv)     Use Pipeline and ColumnTransformer \n",
    "#            for data transformation\n",
    "#    v)     Pipeline for modeling\n",
    "#    vi)    Nested pipes"
   ]
  },
  {
   "cell_type": "code",
   "execution_count": 1,
   "metadata": {},
   "outputs": [],
   "source": [
    "# 1.0 Reset memory\n",
    "%reset -f\n",
    "# 1.1 Call libraries\n",
    "import numpy as np\n",
    "import pandas as pd\n",
    "\n",
    "# 1.2 for data splitting\n",
    "from sklearn.model_selection import train_test_split\n",
    "# 1.3 Class for imputing missing values\n",
    "from sklearn.impute import SimpleImputer\n",
    "# 1.4 One hot encode categorical data--Convert to dummy\n",
    "from sklearn.preprocessing import OneHotEncoder as onehot\n",
    "# 1.5 Scale numeric data\n",
    "from sklearn.preprocessing import StandardScaler\n",
    "# 1.6 Class for applying multiple data transformation jobs\n",
    "from sklearn.compose import ColumnTransformer\n",
    "# 1.7 Pipeline class\n",
    "from sklearn.pipeline import Pipeline\n",
    "# 1.8 Label encode target column\n",
    "from sklearn.preprocessing import LabelEncoder\n",
    "\n",
    "# 1.9 Modeler\n",
    "# Ref: https://scikit-learn.org/stable/modules/generated/sklearn.tree.DecisionTreeClassifier.html\n",
    "# User guide: https://scikit-learn.org/stable/modules/tree.html\n",
    "from sklearn.tree import DecisionTreeClassifier "
   ]
  },
  {
   "cell_type": "code",
   "execution_count": 2,
   "metadata": {},
   "outputs": [],
   "source": [
    "# 1.10 Display outputs of all commands from a cell--not just of the last command\n",
    "from IPython.core.interactiveshell import InteractiveShell\n",
    "InteractiveShell.ast_node_interactivity = \"all\""
   ]
  },
  {
   "cell_type": "code",
   "execution_count": 4,
   "metadata": {},
   "outputs": [],
   "source": [
    "# 2.0 Import warnings module\n",
    "import warnings\n",
    "# 2.1 Do not print warnings on screen\n",
    "warnings.filterwarnings(\"ignore\")"
   ]
  },
  {
   "cell_type": "code",
   "execution_count": 5,
   "metadata": {},
   "outputs": [
    {
     "data": {
      "text/html": [
       "<div>\n",
       "<style scoped>\n",
       "    .dataframe tbody tr th:only-of-type {\n",
       "        vertical-align: middle;\n",
       "    }\n",
       "\n",
       "    .dataframe tbody tr th {\n",
       "        vertical-align: top;\n",
       "    }\n",
       "\n",
       "    .dataframe thead th {\n",
       "        text-align: right;\n",
       "    }\n",
       "</style>\n",
       "<table border=\"1\" class=\"dataframe\">\n",
       "  <thead>\n",
       "    <tr style=\"text-align: right;\">\n",
       "      <th></th>\n",
       "      <th>creditability</th>\n",
       "      <th>acc_balance</th>\n",
       "      <th>house_owned</th>\n",
       "      <th>age</th>\n",
       "      <th>income</th>\n",
       "      <th>credit_amount</th>\n",
       "    </tr>\n",
       "  </thead>\n",
       "  <tbody>\n",
       "    <tr>\n",
       "      <th>0</th>\n",
       "      <td>yes</td>\n",
       "      <td>1.0</td>\n",
       "      <td>big</td>\n",
       "      <td>21.0</td>\n",
       "      <td>NaN</td>\n",
       "      <td>1011.0</td>\n",
       "    </tr>\n",
       "    <tr>\n",
       "      <th>1</th>\n",
       "      <td>yes</td>\n",
       "      <td>2.0</td>\n",
       "      <td>small</td>\n",
       "      <td>45.0</td>\n",
       "      <td>7.8</td>\n",
       "      <td>NaN</td>\n",
       "    </tr>\n",
       "    <tr>\n",
       "      <th>2</th>\n",
       "      <td>yes</td>\n",
       "      <td>1.0</td>\n",
       "      <td>NaN</td>\n",
       "      <td>NaN</td>\n",
       "      <td>3.4</td>\n",
       "      <td>3211.0</td>\n",
       "    </tr>\n",
       "    <tr>\n",
       "      <th>3</th>\n",
       "      <td>yes</td>\n",
       "      <td>NaN</td>\n",
       "      <td>small</td>\n",
       "      <td>40.0</td>\n",
       "      <td>5.5</td>\n",
       "      <td>NaN</td>\n",
       "    </tr>\n",
       "    <tr>\n",
       "      <th>4</th>\n",
       "      <td>yes</td>\n",
       "      <td>1.0</td>\n",
       "      <td>big</td>\n",
       "      <td>34.0</td>\n",
       "      <td>2.1</td>\n",
       "      <td>1000.0</td>\n",
       "    </tr>\n",
       "    <tr>\n",
       "      <th>5</th>\n",
       "      <td>yes</td>\n",
       "      <td>2.0</td>\n",
       "      <td>NaN</td>\n",
       "      <td>89.0</td>\n",
       "      <td>8.9</td>\n",
       "      <td>2323.0</td>\n",
       "    </tr>\n",
       "    <tr>\n",
       "      <th>6</th>\n",
       "      <td>no</td>\n",
       "      <td>1.0</td>\n",
       "      <td>NaN</td>\n",
       "      <td>23.0</td>\n",
       "      <td>3.9</td>\n",
       "      <td>1010.0</td>\n",
       "    </tr>\n",
       "    <tr>\n",
       "      <th>7</th>\n",
       "      <td>no</td>\n",
       "      <td>2.0</td>\n",
       "      <td>big</td>\n",
       "      <td>65.0</td>\n",
       "      <td>NaN</td>\n",
       "      <td>1500.0</td>\n",
       "    </tr>\n",
       "    <tr>\n",
       "      <th>8</th>\n",
       "      <td>no</td>\n",
       "      <td>1.0</td>\n",
       "      <td>small</td>\n",
       "      <td>87.0</td>\n",
       "      <td>6.9</td>\n",
       "      <td>1300.0</td>\n",
       "    </tr>\n",
       "    <tr>\n",
       "      <th>9</th>\n",
       "      <td>no</td>\n",
       "      <td>2.0</td>\n",
       "      <td>big</td>\n",
       "      <td>NaN</td>\n",
       "      <td>9.0</td>\n",
       "      <td>1782.0</td>\n",
       "    </tr>\n",
       "    <tr>\n",
       "      <th>10</th>\n",
       "      <td>no</td>\n",
       "      <td>2.0</td>\n",
       "      <td>big</td>\n",
       "      <td>90.0</td>\n",
       "      <td>NaN</td>\n",
       "      <td>1212.0</td>\n",
       "    </tr>\n",
       "    <tr>\n",
       "      <th>11</th>\n",
       "      <td>no</td>\n",
       "      <td>NaN</td>\n",
       "      <td>small</td>\n",
       "      <td>NaN</td>\n",
       "      <td>8.0</td>\n",
       "      <td>NaN</td>\n",
       "    </tr>\n",
       "    <tr>\n",
       "      <th>12</th>\n",
       "      <td>no</td>\n",
       "      <td>NaN</td>\n",
       "      <td>NaN</td>\n",
       "      <td>60.0</td>\n",
       "      <td>8.5</td>\n",
       "      <td>1232.0</td>\n",
       "    </tr>\n",
       "    <tr>\n",
       "      <th>13</th>\n",
       "      <td>no</td>\n",
       "      <td>NaN</td>\n",
       "      <td>small</td>\n",
       "      <td>NaN</td>\n",
       "      <td>NaN</td>\n",
       "      <td>NaN</td>\n",
       "    </tr>\n",
       "  </tbody>\n",
       "</table>\n",
       "</div>"
      ],
      "text/plain": [
       "   creditability  acc_balance house_owned   age  income  credit_amount\n",
       "0            yes          1.0         big  21.0     NaN         1011.0\n",
       "1            yes          2.0       small  45.0     7.8            NaN\n",
       "2            yes          1.0         NaN   NaN     3.4         3211.0\n",
       "3            yes          NaN       small  40.0     5.5            NaN\n",
       "4            yes          1.0         big  34.0     2.1         1000.0\n",
       "5            yes          2.0         NaN  89.0     8.9         2323.0\n",
       "6             no          1.0         NaN  23.0     3.9         1010.0\n",
       "7             no          2.0         big  65.0     NaN         1500.0\n",
       "8             no          1.0       small  87.0     6.9         1300.0\n",
       "9             no          2.0         big   NaN     9.0         1782.0\n",
       "10            no          2.0         big  90.0     NaN         1212.0\n",
       "11            no          NaN       small   NaN     8.0            NaN\n",
       "12            no          NaN         NaN  60.0     8.5         1232.0\n",
       "13            no          NaN       small   NaN     NaN            NaN"
      ]
     },
     "execution_count": 5,
     "metadata": {},
     "output_type": "execute_result"
    }
   ],
   "source": [
    "# 3.0 Create a toy dataset with six columns\n",
    "#     Every column has at least one NaN except column: 'creditability'\n",
    "#     'creditability' is our target column so no NaN\n",
    "df = pd.DataFrame({\n",
    "                    'creditability' : ['yes','yes','yes','yes','yes','yes','no','no','no','no','no','no','no','no'], # Target column\n",
    "                    'acc_balance'   : [1,2,1,np.nan,1,2,1,2,1,2,2,np.nan,np.nan,np.nan],\n",
    "                    'house_owned'   : ['big','small',np.nan,'small','big',np.nan,np.nan,'big','small','big','big','small',np.nan,'small'],\n",
    "                    'age'           : [21,45,np.nan,40,34,89,23,65,87,np.nan,90,np.nan,60,np.nan],\n",
    "                    'income'        : [np.nan,7.8,3.4,5.5,2.1,8.9,3.9,np.nan,6.9,9.0,np.nan,8.0,8.5,np.nan],  \n",
    "                    'credit_amount' : [1011,np.nan,3211,np.nan,1000,2323,1010,1500,1300,1782,1212,np.nan,1232,np.nan]\n",
    "                  }\n",
    "               )\n",
    "\n",
    "df    # (14,6)"
   ]
  },
  {
   "cell_type": "code",
   "execution_count": 6,
   "metadata": {},
   "outputs": [
    {
     "data": {
      "text/html": [
       "<div>\n",
       "<style scoped>\n",
       "    .dataframe tbody tr th:only-of-type {\n",
       "        vertical-align: middle;\n",
       "    }\n",
       "\n",
       "    .dataframe tbody tr th {\n",
       "        vertical-align: top;\n",
       "    }\n",
       "\n",
       "    .dataframe thead th {\n",
       "        text-align: right;\n",
       "    }\n",
       "</style>\n",
       "<table border=\"1\" class=\"dataframe\">\n",
       "  <thead>\n",
       "    <tr style=\"text-align: right;\">\n",
       "      <th></th>\n",
       "      <th>creditability</th>\n",
       "      <th>acc_balance</th>\n",
       "      <th>house_owned</th>\n",
       "      <th>age</th>\n",
       "      <th>income</th>\n",
       "      <th>credit_amount</th>\n",
       "      <th>age_cat</th>\n",
       "      <th>credit_amount_cat</th>\n",
       "    </tr>\n",
       "  </thead>\n",
       "  <tbody>\n",
       "    <tr>\n",
       "      <th>0</th>\n",
       "      <td>yes</td>\n",
       "      <td>1.0</td>\n",
       "      <td>big</td>\n",
       "      <td>21.0</td>\n",
       "      <td>NaN</td>\n",
       "      <td>1011.0</td>\n",
       "      <td>1</td>\n",
       "      <td>low</td>\n",
       "    </tr>\n",
       "    <tr>\n",
       "      <th>1</th>\n",
       "      <td>yes</td>\n",
       "      <td>2.0</td>\n",
       "      <td>small</td>\n",
       "      <td>45.0</td>\n",
       "      <td>7.8</td>\n",
       "      <td>NaN</td>\n",
       "      <td>2</td>\n",
       "      <td>NaN</td>\n",
       "    </tr>\n",
       "    <tr>\n",
       "      <th>2</th>\n",
       "      <td>yes</td>\n",
       "      <td>1.0</td>\n",
       "      <td>NaN</td>\n",
       "      <td>NaN</td>\n",
       "      <td>3.4</td>\n",
       "      <td>3211.0</td>\n",
       "      <td>NaN</td>\n",
       "      <td>high</td>\n",
       "    </tr>\n",
       "    <tr>\n",
       "      <th>3</th>\n",
       "      <td>yes</td>\n",
       "      <td>NaN</td>\n",
       "      <td>small</td>\n",
       "      <td>40.0</td>\n",
       "      <td>5.5</td>\n",
       "      <td>NaN</td>\n",
       "      <td>1</td>\n",
       "      <td>NaN</td>\n",
       "    </tr>\n",
       "    <tr>\n",
       "      <th>4</th>\n",
       "      <td>yes</td>\n",
       "      <td>1.0</td>\n",
       "      <td>big</td>\n",
       "      <td>34.0</td>\n",
       "      <td>2.1</td>\n",
       "      <td>1000.0</td>\n",
       "      <td>1</td>\n",
       "      <td>low</td>\n",
       "    </tr>\n",
       "    <tr>\n",
       "      <th>5</th>\n",
       "      <td>yes</td>\n",
       "      <td>2.0</td>\n",
       "      <td>NaN</td>\n",
       "      <td>89.0</td>\n",
       "      <td>8.9</td>\n",
       "      <td>2323.0</td>\n",
       "      <td>3</td>\n",
       "      <td>high</td>\n",
       "    </tr>\n",
       "    <tr>\n",
       "      <th>6</th>\n",
       "      <td>no</td>\n",
       "      <td>1.0</td>\n",
       "      <td>NaN</td>\n",
       "      <td>23.0</td>\n",
       "      <td>3.9</td>\n",
       "      <td>1010.0</td>\n",
       "      <td>1</td>\n",
       "      <td>low</td>\n",
       "    </tr>\n",
       "    <tr>\n",
       "      <th>7</th>\n",
       "      <td>no</td>\n",
       "      <td>2.0</td>\n",
       "      <td>big</td>\n",
       "      <td>65.0</td>\n",
       "      <td>NaN</td>\n",
       "      <td>1500.0</td>\n",
       "      <td>2</td>\n",
       "      <td>medium</td>\n",
       "    </tr>\n",
       "    <tr>\n",
       "      <th>8</th>\n",
       "      <td>no</td>\n",
       "      <td>1.0</td>\n",
       "      <td>small</td>\n",
       "      <td>87.0</td>\n",
       "      <td>6.9</td>\n",
       "      <td>1300.0</td>\n",
       "      <td>3</td>\n",
       "      <td>medium</td>\n",
       "    </tr>\n",
       "    <tr>\n",
       "      <th>9</th>\n",
       "      <td>no</td>\n",
       "      <td>2.0</td>\n",
       "      <td>big</td>\n",
       "      <td>NaN</td>\n",
       "      <td>9.0</td>\n",
       "      <td>1782.0</td>\n",
       "      <td>NaN</td>\n",
       "      <td>high</td>\n",
       "    </tr>\n",
       "    <tr>\n",
       "      <th>10</th>\n",
       "      <td>no</td>\n",
       "      <td>2.0</td>\n",
       "      <td>big</td>\n",
       "      <td>90.0</td>\n",
       "      <td>NaN</td>\n",
       "      <td>1212.0</td>\n",
       "      <td>3</td>\n",
       "      <td>low</td>\n",
       "    </tr>\n",
       "    <tr>\n",
       "      <th>11</th>\n",
       "      <td>no</td>\n",
       "      <td>NaN</td>\n",
       "      <td>small</td>\n",
       "      <td>NaN</td>\n",
       "      <td>8.0</td>\n",
       "      <td>NaN</td>\n",
       "      <td>NaN</td>\n",
       "      <td>NaN</td>\n",
       "    </tr>\n",
       "    <tr>\n",
       "      <th>12</th>\n",
       "      <td>no</td>\n",
       "      <td>NaN</td>\n",
       "      <td>NaN</td>\n",
       "      <td>60.0</td>\n",
       "      <td>8.5</td>\n",
       "      <td>1232.0</td>\n",
       "      <td>2</td>\n",
       "      <td>medium</td>\n",
       "    </tr>\n",
       "    <tr>\n",
       "      <th>13</th>\n",
       "      <td>no</td>\n",
       "      <td>NaN</td>\n",
       "      <td>small</td>\n",
       "      <td>NaN</td>\n",
       "      <td>NaN</td>\n",
       "      <td>NaN</td>\n",
       "      <td>NaN</td>\n",
       "      <td>NaN</td>\n",
       "    </tr>\n",
       "  </tbody>\n",
       "</table>\n",
       "</div>"
      ],
      "text/plain": [
       "   creditability  acc_balance house_owned   age  income  credit_amount  \\\n",
       "0            yes          1.0         big  21.0     NaN         1011.0   \n",
       "1            yes          2.0       small  45.0     7.8            NaN   \n",
       "2            yes          1.0         NaN   NaN     3.4         3211.0   \n",
       "3            yes          NaN       small  40.0     5.5            NaN   \n",
       "4            yes          1.0         big  34.0     2.1         1000.0   \n",
       "5            yes          2.0         NaN  89.0     8.9         2323.0   \n",
       "6             no          1.0         NaN  23.0     3.9         1010.0   \n",
       "7             no          2.0         big  65.0     NaN         1500.0   \n",
       "8             no          1.0       small  87.0     6.9         1300.0   \n",
       "9             no          2.0         big   NaN     9.0         1782.0   \n",
       "10            no          2.0         big  90.0     NaN         1212.0   \n",
       "11            no          NaN       small   NaN     8.0            NaN   \n",
       "12            no          NaN         NaN  60.0     8.5         1232.0   \n",
       "13            no          NaN       small   NaN     NaN            NaN   \n",
       "\n",
       "   age_cat credit_amount_cat  \n",
       "0        1               low  \n",
       "1        2               NaN  \n",
       "2      NaN              high  \n",
       "3        1               NaN  \n",
       "4        1               low  \n",
       "5        3              high  \n",
       "6        1               low  \n",
       "7        2            medium  \n",
       "8        3            medium  \n",
       "9      NaN              high  \n",
       "10       3               low  \n",
       "11     NaN               NaN  \n",
       "12       2            medium  \n",
       "13     NaN               NaN  "
      ]
     },
     "execution_count": 6,
     "metadata": {},
     "output_type": "execute_result"
    }
   ],
   "source": [
    "# 3.1 Engineer some new categorical features from 'age' and 'credit_amount'\n",
    "#     We will have NaN values both in 'age_cat' and 'credit_amount_cat' columns\n",
    "#     (Note: Strictly speaking this method of creating features outside pipeline is \n",
    "#     not recommended as it leaks information about X_test (to be created, see below)\n",
    "#     to X_train. Recommended way is to wrap it up inside sklearn's FunctionTransformer\n",
    "#     and then use wrapped transformer within a processing pipeline. See:\n",
    "#     https://scikit-learn.org/stable/modules/preprocessing.html#custom-transformers)\n",
    "\n",
    "df['age_cat'] = pd.cut(df['age'],               # Equal interval cuts between min and max\n",
    "                       3,                       # Three cuts\n",
    "                       labels=[\"1\",\"2\", \"3\"]    # Label for each cut\n",
    "                       )\n",
    "\n",
    "# 3.1.1\n",
    "df['credit_amount_cat'] = pd.qcut(df['credit_amount'],       # Equal freq cut\n",
    "                                  3,\n",
    "                                  labels=[\"low\",\"medium\", \"high\"])\n",
    "df   # (13,8)\n"
   ]
  },
  {
   "cell_type": "code",
   "execution_count": 7,
   "metadata": {},
   "outputs": [
    {
     "data": {
      "text/html": [
       "<div>\n",
       "<style scoped>\n",
       "    .dataframe tbody tr th:only-of-type {\n",
       "        vertical-align: middle;\n",
       "    }\n",
       "\n",
       "    .dataframe tbody tr th {\n",
       "        vertical-align: top;\n",
       "    }\n",
       "\n",
       "    .dataframe thead th {\n",
       "        text-align: right;\n",
       "    }\n",
       "</style>\n",
       "<table border=\"1\" class=\"dataframe\">\n",
       "  <thead>\n",
       "    <tr style=\"text-align: right;\">\n",
       "      <th></th>\n",
       "      <th>creditability</th>\n",
       "      <th>acc_balance</th>\n",
       "      <th>house_owned</th>\n",
       "      <th>age</th>\n",
       "      <th>income</th>\n",
       "      <th>credit_amount</th>\n",
       "      <th>age_cat</th>\n",
       "      <th>credit_amount_cat</th>\n",
       "    </tr>\n",
       "  </thead>\n",
       "  <tbody>\n",
       "    <tr>\n",
       "      <th>2</th>\n",
       "      <td>yes</td>\n",
       "      <td>1.0</td>\n",
       "      <td>NaN</td>\n",
       "      <td>NaN</td>\n",
       "      <td>3.4</td>\n",
       "      <td>3211.0</td>\n",
       "      <td>NaN</td>\n",
       "      <td>high</td>\n",
       "    </tr>\n",
       "    <tr>\n",
       "      <th>3</th>\n",
       "      <td>yes</td>\n",
       "      <td>NaN</td>\n",
       "      <td>small</td>\n",
       "      <td>40.0</td>\n",
       "      <td>5.5</td>\n",
       "      <td>NaN</td>\n",
       "      <td>1</td>\n",
       "      <td>NaN</td>\n",
       "    </tr>\n",
       "    <tr>\n",
       "      <th>0</th>\n",
       "      <td>yes</td>\n",
       "      <td>1.0</td>\n",
       "      <td>big</td>\n",
       "      <td>21.0</td>\n",
       "      <td>NaN</td>\n",
       "      <td>1011.0</td>\n",
       "      <td>1</td>\n",
       "      <td>low</td>\n",
       "    </tr>\n",
       "    <tr>\n",
       "      <th>11</th>\n",
       "      <td>no</td>\n",
       "      <td>NaN</td>\n",
       "      <td>small</td>\n",
       "      <td>NaN</td>\n",
       "      <td>8.0</td>\n",
       "      <td>NaN</td>\n",
       "      <td>NaN</td>\n",
       "      <td>NaN</td>\n",
       "    </tr>\n",
       "    <tr>\n",
       "      <th>9</th>\n",
       "      <td>no</td>\n",
       "      <td>2.0</td>\n",
       "      <td>big</td>\n",
       "      <td>NaN</td>\n",
       "      <td>9.0</td>\n",
       "      <td>1782.0</td>\n",
       "      <td>NaN</td>\n",
       "      <td>high</td>\n",
       "    </tr>\n",
       "    <tr>\n",
       "      <th>5</th>\n",
       "      <td>yes</td>\n",
       "      <td>2.0</td>\n",
       "      <td>NaN</td>\n",
       "      <td>89.0</td>\n",
       "      <td>8.9</td>\n",
       "      <td>2323.0</td>\n",
       "      <td>3</td>\n",
       "      <td>high</td>\n",
       "    </tr>\n",
       "    <tr>\n",
       "      <th>7</th>\n",
       "      <td>no</td>\n",
       "      <td>2.0</td>\n",
       "      <td>big</td>\n",
       "      <td>65.0</td>\n",
       "      <td>NaN</td>\n",
       "      <td>1500.0</td>\n",
       "      <td>2</td>\n",
       "      <td>medium</td>\n",
       "    </tr>\n",
       "    <tr>\n",
       "      <th>10</th>\n",
       "      <td>no</td>\n",
       "      <td>2.0</td>\n",
       "      <td>big</td>\n",
       "      <td>90.0</td>\n",
       "      <td>NaN</td>\n",
       "      <td>1212.0</td>\n",
       "      <td>3</td>\n",
       "      <td>low</td>\n",
       "    </tr>\n",
       "    <tr>\n",
       "      <th>12</th>\n",
       "      <td>no</td>\n",
       "      <td>NaN</td>\n",
       "      <td>NaN</td>\n",
       "      <td>60.0</td>\n",
       "      <td>8.5</td>\n",
       "      <td>1232.0</td>\n",
       "      <td>2</td>\n",
       "      <td>medium</td>\n",
       "    </tr>\n",
       "    <tr>\n",
       "      <th>13</th>\n",
       "      <td>no</td>\n",
       "      <td>NaN</td>\n",
       "      <td>small</td>\n",
       "      <td>NaN</td>\n",
       "      <td>NaN</td>\n",
       "      <td>NaN</td>\n",
       "      <td>NaN</td>\n",
       "      <td>NaN</td>\n",
       "    </tr>\n",
       "    <tr>\n",
       "      <th>8</th>\n",
       "      <td>no</td>\n",
       "      <td>1.0</td>\n",
       "      <td>small</td>\n",
       "      <td>87.0</td>\n",
       "      <td>6.9</td>\n",
       "      <td>1300.0</td>\n",
       "      <td>3</td>\n",
       "      <td>medium</td>\n",
       "    </tr>\n",
       "    <tr>\n",
       "      <th>4</th>\n",
       "      <td>yes</td>\n",
       "      <td>1.0</td>\n",
       "      <td>big</td>\n",
       "      <td>34.0</td>\n",
       "      <td>2.1</td>\n",
       "      <td>1000.0</td>\n",
       "      <td>1</td>\n",
       "      <td>low</td>\n",
       "    </tr>\n",
       "    <tr>\n",
       "      <th>6</th>\n",
       "      <td>no</td>\n",
       "      <td>1.0</td>\n",
       "      <td>NaN</td>\n",
       "      <td>23.0</td>\n",
       "      <td>3.9</td>\n",
       "      <td>1010.0</td>\n",
       "      <td>1</td>\n",
       "      <td>low</td>\n",
       "    </tr>\n",
       "    <tr>\n",
       "      <th>1</th>\n",
       "      <td>yes</td>\n",
       "      <td>2.0</td>\n",
       "      <td>small</td>\n",
       "      <td>45.0</td>\n",
       "      <td>7.8</td>\n",
       "      <td>NaN</td>\n",
       "      <td>2</td>\n",
       "      <td>NaN</td>\n",
       "    </tr>\n",
       "  </tbody>\n",
       "</table>\n",
       "</div>"
      ],
      "text/plain": [
       "   creditability  acc_balance house_owned   age  income  credit_amount  \\\n",
       "2            yes          1.0         NaN   NaN     3.4         3211.0   \n",
       "3            yes          NaN       small  40.0     5.5            NaN   \n",
       "0            yes          1.0         big  21.0     NaN         1011.0   \n",
       "11            no          NaN       small   NaN     8.0            NaN   \n",
       "9             no          2.0         big   NaN     9.0         1782.0   \n",
       "5            yes          2.0         NaN  89.0     8.9         2323.0   \n",
       "7             no          2.0         big  65.0     NaN         1500.0   \n",
       "10            no          2.0         big  90.0     NaN         1212.0   \n",
       "12            no          NaN         NaN  60.0     8.5         1232.0   \n",
       "13            no          NaN       small   NaN     NaN            NaN   \n",
       "8             no          1.0       small  87.0     6.9         1300.0   \n",
       "4            yes          1.0         big  34.0     2.1         1000.0   \n",
       "6             no          1.0         NaN  23.0     3.9         1010.0   \n",
       "1            yes          2.0       small  45.0     7.8            NaN   \n",
       "\n",
       "   age_cat credit_amount_cat  \n",
       "2      NaN              high  \n",
       "3        1               NaN  \n",
       "0        1               low  \n",
       "11     NaN               NaN  \n",
       "9      NaN              high  \n",
       "5        3              high  \n",
       "7        2            medium  \n",
       "10       3               low  \n",
       "12       2            medium  \n",
       "13     NaN               NaN  \n",
       "8        3            medium  \n",
       "4        1               low  \n",
       "6        1               low  \n",
       "1        2               NaN  "
      ]
     },
     "execution_count": 7,
     "metadata": {},
     "output_type": "execute_result"
    }
   ],
   "source": [
    "# 3.2 Randomly shuffle data as values \n",
    "#     in 'credibility' column have an order\n",
    "df = df.sample(frac = 1) \n",
    "df    # (13,8)"
   ]
  },
  {
   "cell_type": "markdown",
   "metadata": {},
   "source": [
    "### Data splitting"
   ]
  },
  {
   "cell_type": "code",
   "execution_count": 8,
   "metadata": {},
   "outputs": [
    {
     "data": {
      "text/plain": [
       "2    yes\n",
       "3    yes\n",
       "0    yes\n",
       "Name: creditability, dtype: object"
      ]
     },
     "execution_count": 8,
     "metadata": {},
     "output_type": "execute_result"
    },
    {
     "data": {
      "text/plain": [
       "(14, 7)"
      ]
     },
     "execution_count": 8,
     "metadata": {},
     "output_type": "execute_result"
    }
   ],
   "source": [
    "# 3.3    Popout target\n",
    "#        to separate predictors and target\n",
    "\n",
    "y = df.pop('creditability')\n",
    "y[:3]      # Pandas Series\n",
    "\n",
    "# 3.4   Create an alias of predictors dataset \n",
    "X = df     # X is another name for df\n",
    "X.shape    # (13,7)"
   ]
  },
  {
   "cell_type": "code",
   "execution_count": 9,
   "metadata": {},
   "outputs": [
    {
     "data": {
      "text/plain": [
       "'X_train shape: (9, 7)'"
      ]
     },
     "execution_count": 9,
     "metadata": {},
     "output_type": "execute_result"
    },
    {
     "data": {
      "text/plain": [
       "'X_test.shape : (5, 7)'"
      ]
     },
     "execution_count": 9,
     "metadata": {},
     "output_type": "execute_result"
    },
    {
     "data": {
      "text/plain": [
       "'y_train shape: (9,)'"
      ]
     },
     "execution_count": 9,
     "metadata": {},
     "output_type": "execute_result"
    },
    {
     "data": {
      "text/plain": [
       "'y_test shape : (5,)'"
      ]
     },
     "execution_count": 9,
     "metadata": {},
     "output_type": "execute_result"
    }
   ],
   "source": [
    "# 4.0 Split dataset. We will preprocess X_train and apply that\n",
    "#     processing to X_test later\n",
    "X_train,X_test, y_train, y_test = train_test_split(\n",
    "                                                    X,                   # Data features\n",
    "                                                    y,                   # Target column\n",
    "                                                    test_size = 0.3      # split-ratio\n",
    "                                                    )\n",
    "\n",
    "# 4.1 Note the use of f-string for printing\n",
    "f\"X_train shape: {X_train.shape}\"    # (9,7)\n",
    "f\"X_test.shape : {X_test.shape}\"     # (4,7)\n",
    "f\"y_train shape: {y_train.shape}\"    # (9,)\n",
    "f\"y_test shape : {y_test.shape}\"     # (4,)"
   ]
  },
  {
   "cell_type": "markdown",
   "metadata": {},
   "source": [
    "#### Make copy of data set for two separate ways processing"
   ]
  },
  {
   "cell_type": "code",
   "execution_count": 10,
   "metadata": {},
   "outputs": [],
   "source": [
    "# 4.2   Make a copy of X_train\n",
    "#       and X_test for two separate\n",
    "#       ways of data processing\n",
    "#       without using pipes and with pipes\n",
    "\n",
    "X_train_c = X_train.copy()\n",
    "X_test_c  = X_test.copy()"
   ]
  },
  {
   "cell_type": "markdown",
   "metadata": {},
   "source": [
    "### Separate out categorical and numerical features"
   ]
  },
  {
   "cell_type": "code",
   "execution_count": 11,
   "metadata": {},
   "outputs": [
    {
     "data": {
      "text/plain": [
       "'Total no of unique values per column are:'"
      ]
     },
     "execution_count": 11,
     "metadata": {},
     "output_type": "execute_result"
    },
    {
     "data": {
      "text/plain": [
       "acc_balance          2\n",
       "house_owned          2\n",
       "age                  6\n",
       "income               8\n",
       "credit_amount        7\n",
       "age_cat              3\n",
       "credit_amount_cat    3\n",
       "dtype: int64"
      ]
     },
     "execution_count": 11,
     "metadata": {},
     "output_type": "execute_result"
    },
    {
     "data": {
      "text/plain": [
       "'True are categorical and False are numerical:'"
      ]
     },
     "execution_count": 11,
     "metadata": {},
     "output_type": "execute_result"
    },
    {
     "data": {
      "text/plain": [
       "acc_balance           True\n",
       "house_owned           True\n",
       "age                  False\n",
       "income               False\n",
       "credit_amount        False\n",
       "age_cat               True\n",
       "credit_amount_cat     True\n",
       "dtype: bool"
      ]
     },
     "execution_count": 11,
     "metadata": {},
     "output_type": "execute_result"
    }
   ],
   "source": [
    "### 4.3\n",
    "###    Which columns are categorical\n",
    "###    but disguised as integers\n",
    "\n",
    "# 4.3 How many unique values per column.\n",
    "#     Check every column\n",
    "#     We will assume that if number of unique values\n",
    "#      are 4 or less it is categorical column else numeric\n",
    "\n",
    "f\"Total no of unique values per column are:\"\n",
    "X_train_c.nunique()        # Total no of unique values in each column\n",
    "\n",
    "# 4.4 If no. of unique values less than 5, it is categorical\n",
    "f\"True are categorical and False are numerical:\"\n",
    "X_train_c.nunique() < 5    # All True are categorical\n"
   ]
  },
  {
   "cell_type": "code",
   "execution_count": 12,
   "metadata": {},
   "outputs": [
    {
     "data": {
      "text/plain": [
       "acc_balance           True\n",
       "house_owned           True\n",
       "age                  False\n",
       "income               False\n",
       "credit_amount        False\n",
       "age_cat               True\n",
       "credit_amount_cat     True\n",
       "dtype: bool"
      ]
     },
     "execution_count": 12,
     "metadata": {},
     "output_type": "execute_result"
    }
   ],
   "source": [
    "# 4.5 Extract list of cat_cols and num_cols:\n",
    "\n",
    "# 4.6 First note which are cat and which are num\n",
    "dg = (X_train_c.nunique() < 5)  \n",
    "dg    # All True are cat and all False are num\n",
    "\n",
    "# 4.7 Then filter out names from Series index \n",
    "cat_cols = dg[dg==True].index.tolist()\n",
    "num_cols = dg[dg==False].index.tolist()"
   ]
  },
  {
   "cell_type": "code",
   "execution_count": 13,
   "metadata": {},
   "outputs": [
    {
     "data": {
      "text/plain": [
       "['acc_balance', 'house_owned', 'age_cat', 'credit_amount_cat']"
      ]
     },
     "execution_count": 13,
     "metadata": {},
     "output_type": "execute_result"
    },
    {
     "data": {
      "text/plain": [
       "['age', 'income', 'credit_amount']"
      ]
     },
     "execution_count": 13,
     "metadata": {},
     "output_type": "execute_result"
    }
   ],
   "source": [
    "# 4.8 Here are the columns\n",
    "cat_cols    #  4\n",
    "num_cols    #  3"
   ]
  },
  {
   "cell_type": "code",
   "execution_count": 14,
   "metadata": {},
   "outputs": [],
   "source": [
    "# 4.9 We will create two subsets of num_cols\n",
    "#      One set we will impute using 'mean' \n",
    "#       and the other using 'median'\n",
    "num_cols_mean   = ['age']\n",
    "num_cols_median = ['income', 'credit_amount']"
   ]
  },
  {
   "cell_type": "code",
   "execution_count": 15,
   "metadata": {},
   "outputs": [],
   "source": [
    "# 4.10 We will create two sets of cat_cols\n",
    "#      One set we will fill with 'most_frequent'\n",
    "#       and the other using a constant value\n",
    "\n",
    "cat_cols_mf       = ['acc_balance', 'house_owned']       # 'most_frequent' fill\n",
    "cat_cols_constant = ['age_cat', 'credit_amount_cat']     # 'constant' fill"
   ]
  },
  {
   "cell_type": "code",
   "execution_count": 16,
   "metadata": {},
   "outputs": [
    {
     "data": {
      "text/html": [
       "<div>\n",
       "<style scoped>\n",
       "    .dataframe tbody tr th:only-of-type {\n",
       "        vertical-align: middle;\n",
       "    }\n",
       "\n",
       "    .dataframe tbody tr th {\n",
       "        vertical-align: top;\n",
       "    }\n",
       "\n",
       "    .dataframe thead th {\n",
       "        text-align: right;\n",
       "    }\n",
       "</style>\n",
       "<table border=\"1\" class=\"dataframe\">\n",
       "  <thead>\n",
       "    <tr style=\"text-align: right;\">\n",
       "      <th></th>\n",
       "      <th>age</th>\n",
       "    </tr>\n",
       "  </thead>\n",
       "  <tbody>\n",
       "    <tr>\n",
       "      <th>12</th>\n",
       "      <td>60.0</td>\n",
       "    </tr>\n",
       "    <tr>\n",
       "      <th>3</th>\n",
       "      <td>40.0</td>\n",
       "    </tr>\n",
       "    <tr>\n",
       "      <th>5</th>\n",
       "      <td>89.0</td>\n",
       "    </tr>\n",
       "    <tr>\n",
       "      <th>2</th>\n",
       "      <td>NaN</td>\n",
       "    </tr>\n",
       "    <tr>\n",
       "      <th>8</th>\n",
       "      <td>87.0</td>\n",
       "    </tr>\n",
       "    <tr>\n",
       "      <th>6</th>\n",
       "      <td>23.0</td>\n",
       "    </tr>\n",
       "    <tr>\n",
       "      <th>4</th>\n",
       "      <td>34.0</td>\n",
       "    </tr>\n",
       "    <tr>\n",
       "      <th>13</th>\n",
       "      <td>NaN</td>\n",
       "    </tr>\n",
       "    <tr>\n",
       "      <th>9</th>\n",
       "      <td>NaN</td>\n",
       "    </tr>\n",
       "  </tbody>\n",
       "</table>\n",
       "</div>"
      ],
      "text/plain": [
       "     age\n",
       "12  60.0\n",
       "3   40.0\n",
       "5   89.0\n",
       "2    NaN\n",
       "8   87.0\n",
       "6   23.0\n",
       "4   34.0\n",
       "13   NaN\n",
       "9    NaN"
      ]
     },
     "execution_count": 16,
     "metadata": {},
     "output_type": "execute_result"
    },
    {
     "data": {
      "text/html": [
       "<div>\n",
       "<style scoped>\n",
       "    .dataframe tbody tr th:only-of-type {\n",
       "        vertical-align: middle;\n",
       "    }\n",
       "\n",
       "    .dataframe tbody tr th {\n",
       "        vertical-align: top;\n",
       "    }\n",
       "\n",
       "    .dataframe thead th {\n",
       "        text-align: right;\n",
       "    }\n",
       "</style>\n",
       "<table border=\"1\" class=\"dataframe\">\n",
       "  <thead>\n",
       "    <tr style=\"text-align: right;\">\n",
       "      <th></th>\n",
       "      <th>income</th>\n",
       "      <th>credit_amount</th>\n",
       "    </tr>\n",
       "  </thead>\n",
       "  <tbody>\n",
       "    <tr>\n",
       "      <th>12</th>\n",
       "      <td>8.5</td>\n",
       "      <td>1232.0</td>\n",
       "    </tr>\n",
       "    <tr>\n",
       "      <th>3</th>\n",
       "      <td>5.5</td>\n",
       "      <td>NaN</td>\n",
       "    </tr>\n",
       "    <tr>\n",
       "      <th>5</th>\n",
       "      <td>8.9</td>\n",
       "      <td>2323.0</td>\n",
       "    </tr>\n",
       "    <tr>\n",
       "      <th>2</th>\n",
       "      <td>3.4</td>\n",
       "      <td>3211.0</td>\n",
       "    </tr>\n",
       "    <tr>\n",
       "      <th>8</th>\n",
       "      <td>6.9</td>\n",
       "      <td>1300.0</td>\n",
       "    </tr>\n",
       "    <tr>\n",
       "      <th>6</th>\n",
       "      <td>3.9</td>\n",
       "      <td>1010.0</td>\n",
       "    </tr>\n",
       "    <tr>\n",
       "      <th>4</th>\n",
       "      <td>2.1</td>\n",
       "      <td>1000.0</td>\n",
       "    </tr>\n",
       "    <tr>\n",
       "      <th>13</th>\n",
       "      <td>NaN</td>\n",
       "      <td>NaN</td>\n",
       "    </tr>\n",
       "    <tr>\n",
       "      <th>9</th>\n",
       "      <td>9.0</td>\n",
       "      <td>1782.0</td>\n",
       "    </tr>\n",
       "  </tbody>\n",
       "</table>\n",
       "</div>"
      ],
      "text/plain": [
       "    income  credit_amount\n",
       "12     8.5         1232.0\n",
       "3      5.5            NaN\n",
       "5      8.9         2323.0\n",
       "2      3.4         3211.0\n",
       "8      6.9         1300.0\n",
       "6      3.9         1010.0\n",
       "4      2.1         1000.0\n",
       "13     NaN            NaN\n",
       "9      9.0         1782.0"
      ]
     },
     "execution_count": 16,
     "metadata": {},
     "output_type": "execute_result"
    },
    {
     "data": {
      "text/html": [
       "<div>\n",
       "<style scoped>\n",
       "    .dataframe tbody tr th:only-of-type {\n",
       "        vertical-align: middle;\n",
       "    }\n",
       "\n",
       "    .dataframe tbody tr th {\n",
       "        vertical-align: top;\n",
       "    }\n",
       "\n",
       "    .dataframe thead th {\n",
       "        text-align: right;\n",
       "    }\n",
       "</style>\n",
       "<table border=\"1\" class=\"dataframe\">\n",
       "  <thead>\n",
       "    <tr style=\"text-align: right;\">\n",
       "      <th></th>\n",
       "      <th>acc_balance</th>\n",
       "      <th>house_owned</th>\n",
       "    </tr>\n",
       "  </thead>\n",
       "  <tbody>\n",
       "    <tr>\n",
       "      <th>12</th>\n",
       "      <td>NaN</td>\n",
       "      <td>NaN</td>\n",
       "    </tr>\n",
       "    <tr>\n",
       "      <th>3</th>\n",
       "      <td>NaN</td>\n",
       "      <td>small</td>\n",
       "    </tr>\n",
       "    <tr>\n",
       "      <th>5</th>\n",
       "      <td>2.0</td>\n",
       "      <td>NaN</td>\n",
       "    </tr>\n",
       "    <tr>\n",
       "      <th>2</th>\n",
       "      <td>1.0</td>\n",
       "      <td>NaN</td>\n",
       "    </tr>\n",
       "    <tr>\n",
       "      <th>8</th>\n",
       "      <td>1.0</td>\n",
       "      <td>small</td>\n",
       "    </tr>\n",
       "    <tr>\n",
       "      <th>6</th>\n",
       "      <td>1.0</td>\n",
       "      <td>NaN</td>\n",
       "    </tr>\n",
       "    <tr>\n",
       "      <th>4</th>\n",
       "      <td>1.0</td>\n",
       "      <td>big</td>\n",
       "    </tr>\n",
       "    <tr>\n",
       "      <th>13</th>\n",
       "      <td>NaN</td>\n",
       "      <td>small</td>\n",
       "    </tr>\n",
       "    <tr>\n",
       "      <th>9</th>\n",
       "      <td>2.0</td>\n",
       "      <td>big</td>\n",
       "    </tr>\n",
       "  </tbody>\n",
       "</table>\n",
       "</div>"
      ],
      "text/plain": [
       "    acc_balance house_owned\n",
       "12          NaN         NaN\n",
       "3           NaN       small\n",
       "5           2.0         NaN\n",
       "2           1.0         NaN\n",
       "8           1.0       small\n",
       "6           1.0         NaN\n",
       "4           1.0         big\n",
       "13          NaN       small\n",
       "9           2.0         big"
      ]
     },
     "execution_count": 16,
     "metadata": {},
     "output_type": "execute_result"
    },
    {
     "data": {
      "text/html": [
       "<div>\n",
       "<style scoped>\n",
       "    .dataframe tbody tr th:only-of-type {\n",
       "        vertical-align: middle;\n",
       "    }\n",
       "\n",
       "    .dataframe tbody tr th {\n",
       "        vertical-align: top;\n",
       "    }\n",
       "\n",
       "    .dataframe thead th {\n",
       "        text-align: right;\n",
       "    }\n",
       "</style>\n",
       "<table border=\"1\" class=\"dataframe\">\n",
       "  <thead>\n",
       "    <tr style=\"text-align: right;\">\n",
       "      <th></th>\n",
       "      <th>age_cat</th>\n",
       "      <th>credit_amount_cat</th>\n",
       "    </tr>\n",
       "  </thead>\n",
       "  <tbody>\n",
       "    <tr>\n",
       "      <th>12</th>\n",
       "      <td>2</td>\n",
       "      <td>medium</td>\n",
       "    </tr>\n",
       "    <tr>\n",
       "      <th>3</th>\n",
       "      <td>1</td>\n",
       "      <td>NaN</td>\n",
       "    </tr>\n",
       "    <tr>\n",
       "      <th>5</th>\n",
       "      <td>3</td>\n",
       "      <td>high</td>\n",
       "    </tr>\n",
       "    <tr>\n",
       "      <th>2</th>\n",
       "      <td>NaN</td>\n",
       "      <td>high</td>\n",
       "    </tr>\n",
       "    <tr>\n",
       "      <th>8</th>\n",
       "      <td>3</td>\n",
       "      <td>medium</td>\n",
       "    </tr>\n",
       "    <tr>\n",
       "      <th>6</th>\n",
       "      <td>1</td>\n",
       "      <td>low</td>\n",
       "    </tr>\n",
       "    <tr>\n",
       "      <th>4</th>\n",
       "      <td>1</td>\n",
       "      <td>low</td>\n",
       "    </tr>\n",
       "    <tr>\n",
       "      <th>13</th>\n",
       "      <td>NaN</td>\n",
       "      <td>NaN</td>\n",
       "    </tr>\n",
       "    <tr>\n",
       "      <th>9</th>\n",
       "      <td>NaN</td>\n",
       "      <td>high</td>\n",
       "    </tr>\n",
       "  </tbody>\n",
       "</table>\n",
       "</div>"
      ],
      "text/plain": [
       "   age_cat credit_amount_cat\n",
       "12       2            medium\n",
       "3        1               NaN\n",
       "5        3              high\n",
       "2      NaN              high\n",
       "8        3            medium\n",
       "6        1               low\n",
       "4        1               low\n",
       "13     NaN               NaN\n",
       "9      NaN              high"
      ]
     },
     "execution_count": 16,
     "metadata": {},
     "output_type": "execute_result"
    }
   ],
   "source": [
    "# 4.11 So we have four datasets for imputing: These are:\n",
    "X_train[num_cols_mean]              # Num dataset, impute by 'mean'   strategy\n",
    "X_train[num_cols_median]            # Num dataset, impute by 'median' strategy\n",
    "X_train[cat_cols_mf]                # Cat dataset, impute by 'most_frequent' strategy\n",
    "X_train[cat_cols_constant]          # Cat dataset, impute by 'constant' strategy"
   ]
  },
  {
   "cell_type": "markdown",
   "metadata": {},
   "source": [
    "## Part I\n",
    "## Data preprocessing without Pipelining\n",
    "Pre-process each one of the four subsets of data separately. And finally manually concatenate all results to create final dataset."
   ]
  },
  {
   "cell_type": "markdown",
   "metadata": {},
   "source": [
    "### Impute missing values"
   ]
  },
  {
   "cell_type": "markdown",
   "metadata": {},
   "source": [
    "#### Pre-process the two subsets of numerical columns first"
   ]
  },
  {
   "cell_type": "code",
   "execution_count": 17,
   "metadata": {},
   "outputs": [
    {
     "data": {
      "text/html": [
       "<div>\n",
       "<style scoped>\n",
       "    .dataframe tbody tr th:only-of-type {\n",
       "        vertical-align: middle;\n",
       "    }\n",
       "\n",
       "    .dataframe tbody tr th {\n",
       "        vertical-align: top;\n",
       "    }\n",
       "\n",
       "    .dataframe thead th {\n",
       "        text-align: right;\n",
       "    }\n",
       "</style>\n",
       "<table border=\"1\" class=\"dataframe\">\n",
       "  <thead>\n",
       "    <tr style=\"text-align: right;\">\n",
       "      <th></th>\n",
       "      <th>income</th>\n",
       "      <th>credit_amount</th>\n",
       "    </tr>\n",
       "  </thead>\n",
       "  <tbody>\n",
       "    <tr>\n",
       "      <th>12</th>\n",
       "      <td>8.5</td>\n",
       "      <td>1232.0</td>\n",
       "    </tr>\n",
       "    <tr>\n",
       "      <th>3</th>\n",
       "      <td>5.5</td>\n",
       "      <td>1300.0</td>\n",
       "    </tr>\n",
       "    <tr>\n",
       "      <th>5</th>\n",
       "      <td>8.9</td>\n",
       "      <td>2323.0</td>\n",
       "    </tr>\n",
       "    <tr>\n",
       "      <th>2</th>\n",
       "      <td>3.4</td>\n",
       "      <td>3211.0</td>\n",
       "    </tr>\n",
       "    <tr>\n",
       "      <th>8</th>\n",
       "      <td>6.9</td>\n",
       "      <td>1300.0</td>\n",
       "    </tr>\n",
       "    <tr>\n",
       "      <th>6</th>\n",
       "      <td>3.9</td>\n",
       "      <td>1010.0</td>\n",
       "    </tr>\n",
       "    <tr>\n",
       "      <th>4</th>\n",
       "      <td>2.1</td>\n",
       "      <td>1000.0</td>\n",
       "    </tr>\n",
       "    <tr>\n",
       "      <th>13</th>\n",
       "      <td>6.2</td>\n",
       "      <td>1300.0</td>\n",
       "    </tr>\n",
       "    <tr>\n",
       "      <th>9</th>\n",
       "      <td>9.0</td>\n",
       "      <td>1782.0</td>\n",
       "    </tr>\n",
       "  </tbody>\n",
       "</table>\n",
       "</div>"
      ],
      "text/plain": [
       "    income  credit_amount\n",
       "12     8.5         1232.0\n",
       "3      5.5         1300.0\n",
       "5      8.9         2323.0\n",
       "2      3.4         3211.0\n",
       "8      6.9         1300.0\n",
       "6      3.9         1010.0\n",
       "4      2.1         1000.0\n",
       "13     6.2         1300.0\n",
       "9      9.0         1782.0"
      ]
     },
     "execution_count": 17,
     "metadata": {},
     "output_type": "execute_result"
    }
   ],
   "source": [
    "## 5.1 Impute NaN first in 'num_cols_median'\n",
    "#      Median imputer\n",
    "\n",
    "# 5.1.1 Instantiate SimpleImputer object\n",
    "#        Note the strategy of filling NaN\n",
    "\n",
    "si_median = SimpleImputer(strategy = 'median')\n",
    "\n",
    "# 5.1.2 Next, use 'si_median' object to fit \n",
    "#       and transform at one go and overwrite \n",
    "#       our data-subset\n",
    "\n",
    "X_train_c[num_cols_median] = si_median.fit_transform(X_train_c[num_cols_median])\n",
    "\n",
    "# 5.1.3 Observe result. It should have no NaNs\n",
    "X_train_c[num_cols_median]"
   ]
  },
  {
   "cell_type": "code",
   "execution_count": 18,
   "metadata": {},
   "outputs": [
    {
     "data": {
      "text/html": [
       "<div>\n",
       "<style scoped>\n",
       "    .dataframe tbody tr th:only-of-type {\n",
       "        vertical-align: middle;\n",
       "    }\n",
       "\n",
       "    .dataframe tbody tr th {\n",
       "        vertical-align: top;\n",
       "    }\n",
       "\n",
       "    .dataframe thead th {\n",
       "        text-align: right;\n",
       "    }\n",
       "</style>\n",
       "<table border=\"1\" class=\"dataframe\">\n",
       "  <thead>\n",
       "    <tr style=\"text-align: right;\">\n",
       "      <th></th>\n",
       "      <th>age</th>\n",
       "    </tr>\n",
       "  </thead>\n",
       "  <tbody>\n",
       "    <tr>\n",
       "      <th>12</th>\n",
       "      <td>60.0</td>\n",
       "    </tr>\n",
       "    <tr>\n",
       "      <th>3</th>\n",
       "      <td>40.0</td>\n",
       "    </tr>\n",
       "    <tr>\n",
       "      <th>5</th>\n",
       "      <td>89.0</td>\n",
       "    </tr>\n",
       "    <tr>\n",
       "      <th>2</th>\n",
       "      <td>55.5</td>\n",
       "    </tr>\n",
       "    <tr>\n",
       "      <th>8</th>\n",
       "      <td>87.0</td>\n",
       "    </tr>\n",
       "    <tr>\n",
       "      <th>6</th>\n",
       "      <td>23.0</td>\n",
       "    </tr>\n",
       "    <tr>\n",
       "      <th>4</th>\n",
       "      <td>34.0</td>\n",
       "    </tr>\n",
       "    <tr>\n",
       "      <th>13</th>\n",
       "      <td>55.5</td>\n",
       "    </tr>\n",
       "    <tr>\n",
       "      <th>9</th>\n",
       "      <td>55.5</td>\n",
       "    </tr>\n",
       "  </tbody>\n",
       "</table>\n",
       "</div>"
      ],
      "text/plain": [
       "     age\n",
       "12  60.0\n",
       "3   40.0\n",
       "5   89.0\n",
       "2   55.5\n",
       "8   87.0\n",
       "6   23.0\n",
       "4   34.0\n",
       "13  55.5\n",
       "9   55.5"
      ]
     },
     "execution_count": 18,
     "metadata": {},
     "output_type": "execute_result"
    }
   ],
   "source": [
    "# 5.2 Mean imputer: Same steps as above but\n",
    "#     on different data-subset\n",
    "\n",
    "si_mean = SimpleImputer(strategy = 'mean')\n",
    "X_train_c[num_cols_mean] = si_mean.fit_transform(X_train_c[num_cols_mean])\n",
    "X_train_c[num_cols_mean]"
   ]
  },
  {
   "cell_type": "markdown",
   "metadata": {},
   "source": [
    "#### Pre-process two subsets of categorical columns, next"
   ]
  },
  {
   "cell_type": "code",
   "execution_count": 19,
   "metadata": {},
   "outputs": [
    {
     "data": {
      "text/html": [
       "<div>\n",
       "<style scoped>\n",
       "    .dataframe tbody tr th:only-of-type {\n",
       "        vertical-align: middle;\n",
       "    }\n",
       "\n",
       "    .dataframe tbody tr th {\n",
       "        vertical-align: top;\n",
       "    }\n",
       "\n",
       "    .dataframe thead th {\n",
       "        text-align: right;\n",
       "    }\n",
       "</style>\n",
       "<table border=\"1\" class=\"dataframe\">\n",
       "  <thead>\n",
       "    <tr style=\"text-align: right;\">\n",
       "      <th></th>\n",
       "      <th>acc_balance</th>\n",
       "      <th>house_owned</th>\n",
       "    </tr>\n",
       "  </thead>\n",
       "  <tbody>\n",
       "    <tr>\n",
       "      <th>12</th>\n",
       "      <td>1.0</td>\n",
       "      <td>small</td>\n",
       "    </tr>\n",
       "    <tr>\n",
       "      <th>3</th>\n",
       "      <td>1.0</td>\n",
       "      <td>small</td>\n",
       "    </tr>\n",
       "    <tr>\n",
       "      <th>5</th>\n",
       "      <td>2.0</td>\n",
       "      <td>small</td>\n",
       "    </tr>\n",
       "    <tr>\n",
       "      <th>2</th>\n",
       "      <td>1.0</td>\n",
       "      <td>small</td>\n",
       "    </tr>\n",
       "    <tr>\n",
       "      <th>8</th>\n",
       "      <td>1.0</td>\n",
       "      <td>small</td>\n",
       "    </tr>\n",
       "    <tr>\n",
       "      <th>6</th>\n",
       "      <td>1.0</td>\n",
       "      <td>small</td>\n",
       "    </tr>\n",
       "    <tr>\n",
       "      <th>4</th>\n",
       "      <td>1.0</td>\n",
       "      <td>big</td>\n",
       "    </tr>\n",
       "    <tr>\n",
       "      <th>13</th>\n",
       "      <td>1.0</td>\n",
       "      <td>small</td>\n",
       "    </tr>\n",
       "    <tr>\n",
       "      <th>9</th>\n",
       "      <td>2.0</td>\n",
       "      <td>big</td>\n",
       "    </tr>\n",
       "  </tbody>\n",
       "</table>\n",
       "</div>"
      ],
      "text/plain": [
       "    acc_balance house_owned\n",
       "12          1.0       small\n",
       "3           1.0       small\n",
       "5           2.0       small\n",
       "2           1.0       small\n",
       "8           1.0       small\n",
       "6           1.0       small\n",
       "4           1.0         big\n",
       "13          1.0       small\n",
       "9           2.0         big"
      ]
     },
     "execution_count": 19,
     "metadata": {},
     "output_type": "execute_result"
    }
   ],
   "source": [
    "# 5.3 Next impute subset of categorical columns\n",
    "#     with most_frequent\n",
    "\n",
    "si_mf = SimpleImputer(strategy = 'most_frequent')\n",
    "X_train_c[cat_cols_mf] = si_mf.fit_transform(X_train_c[cat_cols_mf])\n",
    "X_train_c[cat_cols_mf]"
   ]
  },
  {
   "cell_type": "code",
   "execution_count": 20,
   "metadata": {},
   "outputs": [
    {
     "data": {
      "text/html": [
       "<div>\n",
       "<style scoped>\n",
       "    .dataframe tbody tr th:only-of-type {\n",
       "        vertical-align: middle;\n",
       "    }\n",
       "\n",
       "    .dataframe tbody tr th {\n",
       "        vertical-align: top;\n",
       "    }\n",
       "\n",
       "    .dataframe thead th {\n",
       "        text-align: right;\n",
       "    }\n",
       "</style>\n",
       "<table border=\"1\" class=\"dataframe\">\n",
       "  <thead>\n",
       "    <tr style=\"text-align: right;\">\n",
       "      <th></th>\n",
       "      <th>age_cat</th>\n",
       "      <th>credit_amount_cat</th>\n",
       "    </tr>\n",
       "  </thead>\n",
       "  <tbody>\n",
       "    <tr>\n",
       "      <th>12</th>\n",
       "      <td>2</td>\n",
       "      <td>medium</td>\n",
       "    </tr>\n",
       "    <tr>\n",
       "      <th>3</th>\n",
       "      <td>1</td>\n",
       "      <td>missing</td>\n",
       "    </tr>\n",
       "    <tr>\n",
       "      <th>5</th>\n",
       "      <td>3</td>\n",
       "      <td>high</td>\n",
       "    </tr>\n",
       "    <tr>\n",
       "      <th>2</th>\n",
       "      <td>missing</td>\n",
       "      <td>high</td>\n",
       "    </tr>\n",
       "    <tr>\n",
       "      <th>8</th>\n",
       "      <td>3</td>\n",
       "      <td>medium</td>\n",
       "    </tr>\n",
       "    <tr>\n",
       "      <th>6</th>\n",
       "      <td>1</td>\n",
       "      <td>low</td>\n",
       "    </tr>\n",
       "    <tr>\n",
       "      <th>4</th>\n",
       "      <td>1</td>\n",
       "      <td>low</td>\n",
       "    </tr>\n",
       "    <tr>\n",
       "      <th>13</th>\n",
       "      <td>missing</td>\n",
       "      <td>missing</td>\n",
       "    </tr>\n",
       "    <tr>\n",
       "      <th>9</th>\n",
       "      <td>missing</td>\n",
       "      <td>high</td>\n",
       "    </tr>\n",
       "  </tbody>\n",
       "</table>\n",
       "</div>"
      ],
      "text/plain": [
       "    age_cat credit_amount_cat\n",
       "12        2            medium\n",
       "3         1           missing\n",
       "5         3              high\n",
       "2   missing              high\n",
       "8         3            medium\n",
       "6         1               low\n",
       "4         1               low\n",
       "13  missing           missing\n",
       "9   missing              high"
      ]
     },
     "execution_count": 20,
     "metadata": {},
     "output_type": "execute_result"
    }
   ],
   "source": [
    "# 5.4 Next impute subset of categorical columns\n",
    "#     with constant value. Our constant value= 'missing'\n",
    "\n",
    "si_constant = SimpleImputer(strategy = 'constant', fill_value = 'missing')\n",
    "X_train_c[cat_cols_constant] = si_constant.fit_transform(X_train_c[cat_cols_constant])\n",
    "X_train_c[cat_cols_constant]"
   ]
  },
  {
   "cell_type": "markdown",
   "metadata": {},
   "source": [
    "### One hot encoding all categorical columns"
   ]
  },
  {
   "cell_type": "code",
   "execution_count": 21,
   "metadata": {},
   "outputs": [
    {
     "data": {
      "text/plain": [
       "OneHotEncoder(categories='auto', drop=None, dtype=<class 'numpy.float64'>,\n",
       "              handle_unknown='error', sparse=False)"
      ]
     },
     "execution_count": 21,
     "metadata": {},
     "output_type": "execute_result"
    },
    {
     "data": {
      "text/plain": [
       "array([[1., 0., 0., 0., 1.],\n",
       "       [0., 0., 1., 1., 0.],\n",
       "       [0., 1., 0., 0., 1.],\n",
       "       [1., 0., 0., 1., 0.]])"
      ]
     },
     "execution_count": 21,
     "metadata": {},
     "output_type": "execute_result"
    }
   ],
   "source": [
    "# 6.0 What does OneHotEncoder do?\n",
    "#     Demo with 'sparse = False'\n",
    "# 6.1\n",
    "ohe = onehot(sparse = False)\n",
    "# 6.2 Learn data characteristics. \n",
    "#     Our demo data is: 4 X 2\n",
    "\n",
    "ohe.fit([['big', 'yes'], ['small', 'no'], ['medium', 'yes'],['big','no']])\n",
    "\n",
    "# 6.3 Transform demo data to dummy values\n",
    "\n",
    "ohe.transform([['big', 'yes'], ['small', 'no'], ['medium', 'yes'],['big','no']])"
   ]
  },
  {
   "cell_type": "code",
   "execution_count": 22,
   "metadata": {},
   "outputs": [
    {
     "data": {
      "text/plain": [
       "<4x5 sparse matrix of type '<class 'numpy.float64'>'\n",
       "\twith 8 stored elements in Compressed Sparse Row format>"
      ]
     },
     "execution_count": 22,
     "metadata": {},
     "output_type": "execute_result"
    },
    {
     "data": {
      "text/plain": [
       "array([[1., 0., 0., 0., 1.],\n",
       "       [0., 0., 1., 1., 0.],\n",
       "       [0., 1., 0., 0., 1.],\n",
       "       [1., 0., 0., 1., 0.]])"
      ]
     },
     "execution_count": 22,
     "metadata": {},
     "output_type": "execute_result"
    }
   ],
   "source": [
    "# 6.1 What does OneHotEncoder do?\n",
    "#    In one line, it transforms dense data to dummy values (1,0)\n",
    "#     Demo with 'sparse = True' -- Output is stored in a special compressed format\n",
    "#     See here dense matrix to sparse matrix conversion example:\n",
    "#     http://www.btechsmartclass.com/data_structures/ds_images/Triplet_Representation_of_Sparse_Matrix.png\n",
    "#     https://www.researchgate.net/publication/328995968/figure/fig4/AS:693582436528129@1542374347304/Illustration-of-the-sparse-matrix-format-A-Example-matrix-of-size-8-8-with-5.png\n",
    "\n",
    "# 6.1.1\n",
    "\n",
    "ohe = onehot(sparse = True)\n",
    "\n",
    "\n",
    "# 6.1.2\n",
    "sp = ohe.fit_transform([['big', 'yes'], ['small', 'no'], ['medium', 'yes'],['big','no']])\n",
    "\n",
    "# 6.1.3\n",
    "sp\n",
    "\n",
    "# 6.1.4\n",
    "sp.toarray()"
   ]
  },
  {
   "cell_type": "code",
   "execution_count": 23,
   "metadata": {},
   "outputs": [
    {
     "data": {
      "text/plain": [
       "array([[1., 0., 0., 1., 0., 1., 0., 0., 0., 0., 1., 0.],\n",
       "       [1., 0., 0., 1., 1., 0., 0., 0., 0., 0., 0., 1.],\n",
       "       [0., 1., 0., 1., 0., 0., 1., 0., 1., 0., 0., 0.],\n",
       "       [1., 0., 0., 1., 0., 0., 0., 1., 1., 0., 0., 0.],\n",
       "       [1., 0., 0., 1., 0., 0., 1., 0., 0., 0., 1., 0.],\n",
       "       [1., 0., 0., 1., 1., 0., 0., 0., 0., 1., 0., 0.],\n",
       "       [1., 0., 1., 0., 1., 0., 0., 0., 0., 1., 0., 0.],\n",
       "       [1., 0., 0., 1., 0., 0., 0., 1., 0., 0., 0., 1.],\n",
       "       [0., 1., 1., 0., 0., 0., 0., 1., 1., 0., 0., 0.]])"
      ]
     },
     "execution_count": 23,
     "metadata": {},
     "output_type": "execute_result"
    }
   ],
   "source": [
    "# 5.4 One Hot Encode all categorical columns, cat_cols \n",
    "#     Note, by now all NaNs have been filled\n",
    "\n",
    "ohe = onehot(sparse = False)\n",
    "ohe.fit_transform(X_train_c[cat_cols])"
   ]
  },
  {
   "cell_type": "markdown",
   "metadata": {},
   "source": [
    "### Standard scaling all numeric columns"
   ]
  },
  {
   "cell_type": "code",
   "execution_count": 24,
   "metadata": {},
   "outputs": [
    {
     "data": {
      "text/plain": [
       "array([[ 0.21635338,  1.03030583, -0.54398076],\n",
       "       [-0.74521719, -0.22843885, -0.44519256],\n",
       "       [ 1.6106307 ,  1.19813845,  1.0409887 ],\n",
       "       [ 0.        , -1.10956012,  2.33104633],\n",
       "       [ 1.51447364,  0.35897533, -0.44519256],\n",
       "       [-1.56255217, -0.89976934, -0.86649517],\n",
       "       [-1.03368836, -1.65501615, -0.88102284],\n",
       "       [ 0.        ,  0.06526824, -0.44519256],\n",
       "       [ 0.        ,  1.24009661,  0.25504142]])"
      ]
     },
     "execution_count": 24,
     "metadata": {},
     "output_type": "execute_result"
    }
   ],
   "source": [
    "# 5.5 Scale all numeric variables in the same manner\n",
    "#     Note, by now all NaNs have been dealth with\n",
    "ss = StandardScaler()\n",
    "ss.fit_transform(X_train_c[num_cols])"
   ]
  },
  {
   "cell_type": "markdown",
   "metadata": {},
   "source": [
    "#### Concatenate pre-processed data"
   ]
  },
  {
   "cell_type": "code",
   "execution_count": 25,
   "metadata": {},
   "outputs": [
    {
     "data": {
      "text/plain": [
       "(9, 15)"
      ]
     },
     "execution_count": 25,
     "metadata": {},
     "output_type": "execute_result"
    }
   ],
   "source": [
    "# 6.0 So complete dataset is:\n",
    "a = ohe.transform(X_train_c[cat_cols])\n",
    "b = ss.transform(X_train_c[num_cols])\n",
    "# 6.1 Concatenate now\n",
    "Xtrain = np.hstack([a,b]) # It is not X_train\n",
    "Xtrain.shape # (8,14)"
   ]
  },
  {
   "cell_type": "markdown",
   "metadata": {},
   "source": [
    "### Label encoding target\n",
    "Code text values in target column to digits"
   ]
  },
  {
   "cell_type": "code",
   "execution_count": 26,
   "metadata": {},
   "outputs": [
    {
     "data": {
      "text/plain": [
       "'Unencoded target column is:'"
      ]
     },
     "execution_count": 26,
     "metadata": {},
     "output_type": "execute_result"
    },
    {
     "data": {
      "text/plain": [
       "12     no\n",
       "3     yes\n",
       "5     yes\n",
       "2     yes\n",
       "8      no\n",
       "6      no\n",
       "4     yes\n",
       "13     no\n",
       "9      no\n",
       "Name: creditability, dtype: object"
      ]
     },
     "execution_count": 26,
     "metadata": {},
     "output_type": "execute_result"
    },
    {
     "data": {
      "text/plain": [
       "LabelEncoder()"
      ]
     },
     "execution_count": 26,
     "metadata": {},
     "output_type": "execute_result"
    },
    {
     "data": {
      "text/plain": [
       "'Encoded y_train is: [0 1 1 1 0 0 1 0 0]'"
      ]
     },
     "execution_count": 26,
     "metadata": {},
     "output_type": "execute_result"
    }
   ],
   "source": [
    "# 5.6 Label encode target feature\n",
    "# 5.6.1 Our target\n",
    "f\"Unencoded target column is:\"\n",
    "y_train\n",
    "# 5.6.2 Encode now\n",
    "le = LabelEncoder()\n",
    "le.fit(y_train)\n",
    "y_train = le.fit_transform(y_train)\n",
    "f\"Encoded y_train is: {y_train}\"   # Encoded y"
   ]
  },
  {
   "cell_type": "markdown",
   "metadata": {},
   "source": [
    "### Decision tree Modeling"
   ]
  },
  {
   "cell_type": "code",
   "execution_count": 27,
   "metadata": {},
   "outputs": [
    {
     "data": {
      "text/plain": [
       "DecisionTreeClassifier(ccp_alpha=0.0, class_weight=None, criterion='gini',\n",
       "                       max_depth=None, max_features=None, max_leaf_nodes=None,\n",
       "                       min_impurity_decrease=0.0, min_impurity_split=None,\n",
       "                       min_samples_leaf=1, min_samples_split=2,\n",
       "                       min_weight_fraction_leaf=0.0, presort='deprecated',\n",
       "                       random_state=None, splitter='best')"
      ]
     },
     "execution_count": 27,
     "metadata": {},
     "output_type": "execute_result"
    }
   ],
   "source": [
    "# 6.0 Train model using Xtrain\n",
    "from sklearn.tree import DecisionTreeClassifier \n",
    "\n",
    "# 6.1 Instantiate DecisionTreeClassifier class\n",
    "\n",
    "dt = DecisionTreeClassifier()\n",
    "\n",
    "# 6.2 Use the classifier object to train \n",
    "#     on our data\n",
    "\n",
    "dt.fit(Xtrain,y_train)\n"
   ]
  },
  {
   "cell_type": "code",
   "execution_count": 28,
   "metadata": {},
   "outputs": [],
   "source": [
    "# 6.3 We now want to predict values for X_test_c\n",
    "\n",
    "# 6.4 First, transform X_test_c in the same manner as we did for X_train\n",
    "#      But this time, there will be no 'fit()'. We will use\n",
    "#       already fitted objects for transformations.\n",
    "\n",
    "X_test_c[num_cols_median]  = si_median.transform(X_test_c[num_cols_median])\n",
    "X_test_c[num_cols_mean]    = si_mean.transform(X_test_c[num_cols_mean])\n",
    "X_test_c[cat_cols_constant]= si_constant.transform(X_test_c[cat_cols_constant])\n",
    "X_test_c[cat_cols_mf]      = si_mf.transform(X_test_c[cat_cols_mf]) \n",
    "a                          = ohe.transform(X_test_c[cat_cols])\n",
    "b                          = ss.transform(X_test_c[num_cols])\n",
    "Xtest = np.hstack([a,b])   # Final transformed X_test"
   ]
  },
  {
   "cell_type": "code",
   "execution_count": 29,
   "metadata": {},
   "outputs": [
    {
     "data": {
      "text/plain": [
       "'Values in y_test are:'"
      ]
     },
     "execution_count": 29,
     "metadata": {},
     "output_type": "execute_result"
    },
    {
     "data": {
      "text/plain": [
       "10     no\n",
       "11     no\n",
       "0     yes\n",
       "1     yes\n",
       "7      no\n",
       "Name: creditability, dtype: object"
      ]
     },
     "execution_count": 29,
     "metadata": {},
     "output_type": "execute_result"
    },
    {
     "data": {
      "text/plain": [
       "'Transformed y_test is: [0 0 1 1 0]'"
      ]
     },
     "execution_count": 29,
     "metadata": {},
     "output_type": "execute_result"
    }
   ],
   "source": [
    "# 6.5 Also label encode, y_test\n",
    "#     Using earlier fitted 'le' object\n",
    "f\"Values in y_test are:\"\n",
    "y_test\n",
    "\n",
    "y_test = le.transform(y_test)\n",
    "f\"Transformed y_test is: {y_test}\""
   ]
  },
  {
   "cell_type": "code",
   "execution_count": 30,
   "metadata": {},
   "outputs": [
    {
     "data": {
      "text/plain": [
       "array([0, 0, 0, 1, 0])"
      ]
     },
     "execution_count": 30,
     "metadata": {},
     "output_type": "execute_result"
    }
   ],
   "source": [
    "# 6.3 Make prediction for Xtest\n",
    "dt.predict(Xtest)"
   ]
  },
  {
   "cell_type": "markdown",
   "metadata": {},
   "source": [
    "## Part II\n",
    "## Data preprocessing with Pipelining\n",
    "Pre-process each one of the four subsets of data though a pipe and also perform modeling in pipe. "
   ]
  },
  {
   "cell_type": "code",
   "execution_count": 31,
   "metadata": {},
   "outputs": [],
   "source": [
    "# 7.0 Create pipes for all transformations\n",
    "# Ref: https://scikit-learn.org/stable/modules/compose.html#pipeline\n",
    "\n",
    "#     ColumnTransformer: Applies specified transformations parallely to each data-subset\n",
    "#     Pipeline         :  Applies transformation sequentially through transformers. \n",
    "#                         Input to pipe is one data-subset. Output of one transformer\n",
    "#                         is fed to another.\n",
    "\n",
    "#     Big picture\n",
    "#     i)   top_pipeline = Pipeline(ColumnTranformer, Estimator)\n",
    "#     ii)  ColumnTransformer([(pipe_mean),(pipe_median),(pipe_mf),(pipe_constant],[list of columns])\n",
    "#     iii) pipe_mean = Pipeline([(imputer), (StandardScaler)]) \n",
    "#      iv) pipe_median=....\n",
    "#\n",
    "#     The pipeline can be used as any other estimator\n",
    "#     and avoids leaking the test set into the train set"
   ]
  },
  {
   "cell_type": "code",
   "execution_count": 32,
   "metadata": {},
   "outputs": [
    {
     "data": {
      "text/plain": [
       "array([[ 0.21635338],\n",
       "       [-0.74521719],\n",
       "       [ 1.6106307 ],\n",
       "       [ 0.        ],\n",
       "       [ 1.51447364],\n",
       "       [-1.56255217],\n",
       "       [-1.03368836],\n",
       "       [ 0.        ],\n",
       "       [ 0.        ]])"
      ]
     },
     "execution_count": 32,
     "metadata": {},
     "output_type": "execute_result"
    }
   ],
   "source": [
    "# 7.1 Instantiate Pipeline object for processing numerical data. Impute = mean\n",
    "\n",
    "pipe_mean = Pipeline(\n",
    "                      [\n",
    "                       ('si', SimpleImputer(strategy='mean')),\n",
    "                       ('ss1', StandardScaler())\n",
    "                      ]\n",
    "                    )\n",
    "\n",
    "# 7.1.1 Train pipe, just to test if it works\n",
    "pipe_mean.fit_transform(X_train[num_cols_mean])"
   ]
  },
  {
   "cell_type": "code",
   "execution_count": 33,
   "metadata": {},
   "outputs": [],
   "source": [
    "# 7.2 Instantiate Pipeline object for processing numerical data. Impute = median\n",
    "pipe_median = Pipeline(\n",
    "                        [\n",
    "                            ('sm', SimpleImputer(strategy='median')),\n",
    "                            ('ss2', StandardScaler())\n",
    "                        ]\n",
    "                       )"
   ]
  },
  {
   "cell_type": "code",
   "execution_count": 34,
   "metadata": {},
   "outputs": [],
   "source": [
    "# 7.3 Instantiate Pipeline object for processing cat data. Impute = most_frequent\n",
    "pipe_mf = Pipeline(\n",
    "                    [\n",
    "                        ('mf', SimpleImputer(strategy='most_frequent')),\n",
    "                        ('ohe', onehot())\n",
    "                     ]\n",
    "                   )"
   ]
  },
  {
   "cell_type": "code",
   "execution_count": 35,
   "metadata": {},
   "outputs": [],
   "source": [
    "# 7.4 Instantiate Pipeline object for processing cat data. Impute = constant\n",
    "sc = SimpleImputer(strategy=\"constant\", fill_value = 'missing')\n",
    "pipe_constant = Pipeline(\n",
    "                          [\n",
    "                             ('cons', sc),\n",
    "                             ('ohe', onehot())\n",
    "                          ]\n",
    "                        )"
   ]
  },
  {
   "cell_type": "code",
   "execution_count": 36,
   "metadata": {},
   "outputs": [],
   "source": [
    "# 7.5 Collecting all pipes in column transformer\n",
    "#     along with column names\n",
    "#                       some-name  transformer     col-names\n",
    "ct = ColumnTransformer(\n",
    "                        [\n",
    "                          ('pm',    pipe_mean,     num_cols_mean    ),\n",
    "                          ('pme',   pipe_median,   num_cols_median  ),\n",
    "                          ('pmf',   pipe_mf,       cat_cols_mf      ),\n",
    "                          ('pcons', pipe_constant, cat_cols_constant)\n",
    "                        ]\n",
    "                      )"
   ]
  },
  {
   "cell_type": "code",
   "execution_count": 37,
   "metadata": {},
   "outputs": [],
   "source": [
    "# 7.6 Final pipeline for transformation and modeling\n",
    "final_pipe = Pipeline(\n",
    "                        [\n",
    "                            ('ct', ct),                      # Column transformer object\n",
    "                            ('dt', DecisionTreeClassifier()) # Estimator\n",
    "                        ]\n",
    "                      )"
   ]
  },
  {
   "cell_type": "markdown",
   "metadata": {},
   "source": [
    "#### Train final_pipe on data"
   ]
  },
  {
   "cell_type": "code",
   "execution_count": 38,
   "metadata": {},
   "outputs": [
    {
     "data": {
      "text/plain": [
       "Pipeline(memory=None,\n",
       "         steps=[('ct',\n",
       "                 ColumnTransformer(n_jobs=None, remainder='drop',\n",
       "                                   sparse_threshold=0.3,\n",
       "                                   transformer_weights=None,\n",
       "                                   transformers=[('pm',\n",
       "                                                  Pipeline(memory=None,\n",
       "                                                           steps=[('si',\n",
       "                                                                   SimpleImputer(add_indicator=False,\n",
       "                                                                                 copy=True,\n",
       "                                                                                 fill_value=None,\n",
       "                                                                                 missing_values=nan,\n",
       "                                                                                 strategy='mean',\n",
       "                                                                                 verbose=0)),\n",
       "                                                                  ('ss1',\n",
       "                                                                   StandardScaler(copy=True,\n",
       "                                                                                  with_mean=True,\n",
       "                                                                                  with_std=True))...\n",
       "                                                   'credit_amount_cat'])],\n",
       "                                   verbose=False)),\n",
       "                ('dt',\n",
       "                 DecisionTreeClassifier(ccp_alpha=0.0, class_weight=None,\n",
       "                                        criterion='gini', max_depth=None,\n",
       "                                        max_features=None, max_leaf_nodes=None,\n",
       "                                        min_impurity_decrease=0.0,\n",
       "                                        min_impurity_split=None,\n",
       "                                        min_samples_leaf=1, min_samples_split=2,\n",
       "                                        min_weight_fraction_leaf=0.0,\n",
       "                                        presort='deprecated', random_state=None,\n",
       "                                        splitter='best'))],\n",
       "         verbose=False)"
      ]
     },
     "execution_count": 38,
     "metadata": {},
     "output_type": "execute_result"
    }
   ],
   "source": [
    "# 8.0 Train on data using final_pipe\n",
    "#     We use (X_train, y_train)\n",
    "final_pipe.fit(X_train,y_train)"
   ]
  },
  {
   "cell_type": "code",
   "execution_count": 39,
   "metadata": {},
   "outputs": [
    {
     "data": {
      "text/plain": [
       "array([0, 0, 0, 0, 0])"
      ]
     },
     "execution_count": 39,
     "metadata": {},
     "output_type": "execute_result"
    }
   ],
   "source": [
    "# 8.1 Make prediction on test data\n",
    "#     Note that there is no need to separately\n",
    "#     transform X_test. Pipes take care of that\n",
    "\n",
    "final_pipe.predict(X_test)"
   ]
  },
  {
   "cell_type": "code",
   "execution_count": 40,
   "metadata": {},
   "outputs": [
    {
     "data": {
      "text/plain": [
       "array([0, 0, 1, 1, 0])"
      ]
     },
     "execution_count": 40,
     "metadata": {},
     "output_type": "execute_result"
    }
   ],
   "source": [
    "# 8.2 But what is the actual y_test\n",
    "y_test\n",
    "# le.transform(y_test)"
   ]
  },
  {
   "cell_type": "code",
   "execution_count": null,
   "metadata": {},
   "outputs": [],
   "source": [
    "######## That's all folks ##########"
   ]
  }
 ],
 "metadata": {
  "kernelspec": {
   "display_name": "Python 3",
   "language": "python",
   "name": "python3"
  },
  "language_info": {
   "codemirror_mode": {
    "name": "ipython",
    "version": 3
   },
   "file_extension": ".py",
   "mimetype": "text/x-python",
   "name": "python",
   "nbconvert_exporter": "python",
   "pygments_lexer": "ipython3",
   "version": "3.7.6"
  }
 },
 "nbformat": 4,
 "nbformat_minor": 4
}
